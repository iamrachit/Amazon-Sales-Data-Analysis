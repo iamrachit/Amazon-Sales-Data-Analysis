{
  "nbformat": 4,
  "nbformat_minor": 0,
  "metadata": {
    "colab": {
      "provenance": []
    },
    "kernelspec": {
      "name": "python3",
      "display_name": "Python 3"
    },
    "language_info": {
      "name": "python"
    },
    "widgets": {
      "application/vnd.jupyter.widget-state+json": {
        "14122eab44b54b6db5b8e712d785e468": {
          "model_module": "@jupyter-widgets/controls",
          "model_name": "HBoxModel",
          "model_module_version": "1.5.0",
          "state": {
            "_dom_classes": [],
            "_model_module": "@jupyter-widgets/controls",
            "_model_module_version": "1.5.0",
            "_model_name": "HBoxModel",
            "_view_count": null,
            "_view_module": "@jupyter-widgets/controls",
            "_view_module_version": "1.5.0",
            "_view_name": "HBoxView",
            "box_style": "",
            "children": [
              "IPY_MODEL_c281fe3929b240c98073623bc2ddc344",
              "IPY_MODEL_4dc0bbc4ccff470e8791974fd65f0e71",
              "IPY_MODEL_4351b0feba7e439f98cb3461d648b7a4"
            ],
            "layout": "IPY_MODEL_da7db208b432408fb69faadab47535b2"
          }
        },
        "c281fe3929b240c98073623bc2ddc344": {
          "model_module": "@jupyter-widgets/controls",
          "model_name": "HTMLModel",
          "model_module_version": "1.5.0",
          "state": {
            "_dom_classes": [],
            "_model_module": "@jupyter-widgets/controls",
            "_model_module_version": "1.5.0",
            "_model_name": "HTMLModel",
            "_view_count": null,
            "_view_module": "@jupyter-widgets/controls",
            "_view_module_version": "1.5.0",
            "_view_name": "HTMLView",
            "description": "",
            "description_tooltip": null,
            "layout": "IPY_MODEL_8003cf99b406405ba5c6ec2d5189c614",
            "placeholder": "​",
            "style": "IPY_MODEL_40a1fd0b3dcd40b78562264a08eaeba5",
            "value": "Processing: 100%"
          }
        },
        "4dc0bbc4ccff470e8791974fd65f0e71": {
          "model_module": "@jupyter-widgets/controls",
          "model_name": "FloatProgressModel",
          "model_module_version": "1.5.0",
          "state": {
            "_dom_classes": [],
            "_model_module": "@jupyter-widgets/controls",
            "_model_module_version": "1.5.0",
            "_model_name": "FloatProgressModel",
            "_view_count": null,
            "_view_module": "@jupyter-widgets/controls",
            "_view_module_version": "1.5.0",
            "_view_name": "ProgressView",
            "bar_style": "",
            "description": "",
            "description_tooltip": null,
            "layout": "IPY_MODEL_572a43331dbc432abc475b185a122ffe",
            "max": 81,
            "min": 0,
            "orientation": "horizontal",
            "style": "IPY_MODEL_b86d3e8399fe4d4aacc2e602ff999d23",
            "value": 81
          }
        },
        "4351b0feba7e439f98cb3461d648b7a4": {
          "model_module": "@jupyter-widgets/controls",
          "model_name": "HTMLModel",
          "model_module_version": "1.5.0",
          "state": {
            "_dom_classes": [],
            "_model_module": "@jupyter-widgets/controls",
            "_model_module_version": "1.5.0",
            "_model_name": "HTMLModel",
            "_view_count": null,
            "_view_module": "@jupyter-widgets/controls",
            "_view_module_version": "1.5.0",
            "_view_name": "HTMLView",
            "description": "",
            "description_tooltip": null,
            "layout": "IPY_MODEL_3125b31e7e0f4d07b21860c64ff88faa",
            "placeholder": "​",
            "style": "IPY_MODEL_5a3a457b67854a379050f0cf83e36989",
            "value": " 81/81 [00:46&lt;00:00,  1.87it/s]"
          }
        },
        "da7db208b432408fb69faadab47535b2": {
          "model_module": "@jupyter-widgets/base",
          "model_name": "LayoutModel",
          "model_module_version": "1.2.0",
          "state": {
            "_model_module": "@jupyter-widgets/base",
            "_model_module_version": "1.2.0",
            "_model_name": "LayoutModel",
            "_view_count": null,
            "_view_module": "@jupyter-widgets/base",
            "_view_module_version": "1.2.0",
            "_view_name": "LayoutView",
            "align_content": null,
            "align_items": null,
            "align_self": null,
            "border": null,
            "bottom": null,
            "display": null,
            "flex": null,
            "flex_flow": null,
            "grid_area": null,
            "grid_auto_columns": null,
            "grid_auto_flow": null,
            "grid_auto_rows": null,
            "grid_column": null,
            "grid_gap": null,
            "grid_row": null,
            "grid_template_areas": null,
            "grid_template_columns": null,
            "grid_template_rows": null,
            "height": null,
            "justify_content": null,
            "justify_items": null,
            "left": null,
            "margin": null,
            "max_height": null,
            "max_width": null,
            "min_height": null,
            "min_width": null,
            "object_fit": null,
            "object_position": null,
            "order": null,
            "overflow": null,
            "overflow_x": null,
            "overflow_y": null,
            "padding": null,
            "right": null,
            "top": null,
            "visibility": "hidden",
            "width": null
          }
        },
        "8003cf99b406405ba5c6ec2d5189c614": {
          "model_module": "@jupyter-widgets/base",
          "model_name": "LayoutModel",
          "model_module_version": "1.2.0",
          "state": {
            "_model_module": "@jupyter-widgets/base",
            "_model_module_version": "1.2.0",
            "_model_name": "LayoutModel",
            "_view_count": null,
            "_view_module": "@jupyter-widgets/base",
            "_view_module_version": "1.2.0",
            "_view_name": "LayoutView",
            "align_content": null,
            "align_items": null,
            "align_self": null,
            "border": null,
            "bottom": null,
            "display": null,
            "flex": null,
            "flex_flow": null,
            "grid_area": null,
            "grid_auto_columns": null,
            "grid_auto_flow": null,
            "grid_auto_rows": null,
            "grid_column": null,
            "grid_gap": null,
            "grid_row": null,
            "grid_template_areas": null,
            "grid_template_columns": null,
            "grid_template_rows": null,
            "height": null,
            "justify_content": null,
            "justify_items": null,
            "left": null,
            "margin": null,
            "max_height": null,
            "max_width": null,
            "min_height": null,
            "min_width": null,
            "object_fit": null,
            "object_position": null,
            "order": null,
            "overflow": null,
            "overflow_x": null,
            "overflow_y": null,
            "padding": null,
            "right": null,
            "top": null,
            "visibility": null,
            "width": null
          }
        },
        "40a1fd0b3dcd40b78562264a08eaeba5": {
          "model_module": "@jupyter-widgets/controls",
          "model_name": "DescriptionStyleModel",
          "model_module_version": "1.5.0",
          "state": {
            "_model_module": "@jupyter-widgets/controls",
            "_model_module_version": "1.5.0",
            "_model_name": "DescriptionStyleModel",
            "_view_count": null,
            "_view_module": "@jupyter-widgets/base",
            "_view_module_version": "1.2.0",
            "_view_name": "StyleView",
            "description_width": ""
          }
        },
        "572a43331dbc432abc475b185a122ffe": {
          "model_module": "@jupyter-widgets/base",
          "model_name": "LayoutModel",
          "model_module_version": "1.2.0",
          "state": {
            "_model_module": "@jupyter-widgets/base",
            "_model_module_version": "1.2.0",
            "_model_name": "LayoutModel",
            "_view_count": null,
            "_view_module": "@jupyter-widgets/base",
            "_view_module_version": "1.2.0",
            "_view_name": "LayoutView",
            "align_content": null,
            "align_items": null,
            "align_self": null,
            "border": null,
            "bottom": null,
            "display": null,
            "flex": null,
            "flex_flow": null,
            "grid_area": null,
            "grid_auto_columns": null,
            "grid_auto_flow": null,
            "grid_auto_rows": null,
            "grid_column": null,
            "grid_gap": null,
            "grid_row": null,
            "grid_template_areas": null,
            "grid_template_columns": null,
            "grid_template_rows": null,
            "height": null,
            "justify_content": null,
            "justify_items": null,
            "left": null,
            "margin": null,
            "max_height": null,
            "max_width": null,
            "min_height": null,
            "min_width": null,
            "object_fit": null,
            "object_position": null,
            "order": null,
            "overflow": null,
            "overflow_x": null,
            "overflow_y": null,
            "padding": null,
            "right": null,
            "top": null,
            "visibility": null,
            "width": null
          }
        },
        "b86d3e8399fe4d4aacc2e602ff999d23": {
          "model_module": "@jupyter-widgets/controls",
          "model_name": "ProgressStyleModel",
          "model_module_version": "1.5.0",
          "state": {
            "_model_module": "@jupyter-widgets/controls",
            "_model_module_version": "1.5.0",
            "_model_name": "ProgressStyleModel",
            "_view_count": null,
            "_view_module": "@jupyter-widgets/base",
            "_view_module_version": "1.2.0",
            "_view_name": "StyleView",
            "bar_color": null,
            "description_width": ""
          }
        },
        "3125b31e7e0f4d07b21860c64ff88faa": {
          "model_module": "@jupyter-widgets/base",
          "model_name": "LayoutModel",
          "model_module_version": "1.2.0",
          "state": {
            "_model_module": "@jupyter-widgets/base",
            "_model_module_version": "1.2.0",
            "_model_name": "LayoutModel",
            "_view_count": null,
            "_view_module": "@jupyter-widgets/base",
            "_view_module_version": "1.2.0",
            "_view_name": "LayoutView",
            "align_content": null,
            "align_items": null,
            "align_self": null,
            "border": null,
            "bottom": null,
            "display": null,
            "flex": null,
            "flex_flow": null,
            "grid_area": null,
            "grid_auto_columns": null,
            "grid_auto_flow": null,
            "grid_auto_rows": null,
            "grid_column": null,
            "grid_gap": null,
            "grid_row": null,
            "grid_template_areas": null,
            "grid_template_columns": null,
            "grid_template_rows": null,
            "height": null,
            "justify_content": null,
            "justify_items": null,
            "left": null,
            "margin": null,
            "max_height": null,
            "max_width": null,
            "min_height": null,
            "min_width": null,
            "object_fit": null,
            "object_position": null,
            "order": null,
            "overflow": null,
            "overflow_x": null,
            "overflow_y": null,
            "padding": null,
            "right": null,
            "top": null,
            "visibility": null,
            "width": null
          }
        },
        "5a3a457b67854a379050f0cf83e36989": {
          "model_module": "@jupyter-widgets/controls",
          "model_name": "DescriptionStyleModel",
          "model_module_version": "1.5.0",
          "state": {
            "_model_module": "@jupyter-widgets/controls",
            "_model_module_version": "1.5.0",
            "_model_name": "DescriptionStyleModel",
            "_view_count": null,
            "_view_module": "@jupyter-widgets/base",
            "_view_module_version": "1.2.0",
            "_view_name": "StyleView",
            "description_width": ""
          }
        },
        "a42bc603c8124eac83752771fe227924": {
          "model_module": "@jupyter-widgets/controls",
          "model_name": "HBoxModel",
          "model_module_version": "1.5.0",
          "state": {
            "_dom_classes": [],
            "_model_module": "@jupyter-widgets/controls",
            "_model_module_version": "1.5.0",
            "_model_name": "HBoxModel",
            "_view_count": null,
            "_view_module": "@jupyter-widgets/controls",
            "_view_module_version": "1.5.0",
            "_view_name": "HBoxView",
            "box_style": "",
            "children": [
              "IPY_MODEL_a8f9dc11f9ca47c48c7867601fa99b21",
              "IPY_MODEL_21783f0ff3534cf7b1ed1b6886aed152",
              "IPY_MODEL_7013335c460f49079011df48ea676119"
            ],
            "layout": "IPY_MODEL_9464d9f4e75b4b94a568cb3de3707ace"
          }
        },
        "a8f9dc11f9ca47c48c7867601fa99b21": {
          "model_module": "@jupyter-widgets/controls",
          "model_name": "HTMLModel",
          "model_module_version": "1.5.0",
          "state": {
            "_dom_classes": [],
            "_model_module": "@jupyter-widgets/controls",
            "_model_module_version": "1.5.0",
            "_model_name": "HTMLModel",
            "_view_count": null,
            "_view_module": "@jupyter-widgets/controls",
            "_view_module_version": "1.5.0",
            "_view_name": "HTMLView",
            "description": "",
            "description_tooltip": null,
            "layout": "IPY_MODEL_b72965e084f44004b9e317fb79db4940",
            "placeholder": "​",
            "style": "IPY_MODEL_65de1b782040470b8bf27c759068774b",
            "value": "Processing: 100%"
          }
        },
        "21783f0ff3534cf7b1ed1b6886aed152": {
          "model_module": "@jupyter-widgets/controls",
          "model_name": "FloatProgressModel",
          "model_module_version": "1.5.0",
          "state": {
            "_dom_classes": [],
            "_model_module": "@jupyter-widgets/controls",
            "_model_module_version": "1.5.0",
            "_model_name": "FloatProgressModel",
            "_view_count": null,
            "_view_module": "@jupyter-widgets/controls",
            "_view_module_version": "1.5.0",
            "_view_name": "ProgressView",
            "bar_style": "",
            "description": "",
            "description_tooltip": null,
            "layout": "IPY_MODEL_f02237156dfe4dbeb4220af18530be39",
            "max": 4,
            "min": 0,
            "orientation": "horizontal",
            "style": "IPY_MODEL_bce73ba6104148d98525ed4fc15c8476",
            "value": 4
          }
        },
        "7013335c460f49079011df48ea676119": {
          "model_module": "@jupyter-widgets/controls",
          "model_name": "HTMLModel",
          "model_module_version": "1.5.0",
          "state": {
            "_dom_classes": [],
            "_model_module": "@jupyter-widgets/controls",
            "_model_module_version": "1.5.0",
            "_model_name": "HTMLModel",
            "_view_count": null,
            "_view_module": "@jupyter-widgets/controls",
            "_view_module_version": "1.5.0",
            "_view_name": "HTMLView",
            "description": "",
            "description_tooltip": null,
            "layout": "IPY_MODEL_34abb2af7c224eeba4e40eca157a3f1f",
            "placeholder": "​",
            "style": "IPY_MODEL_27f83b2cfb664ac381ec78c6905c642a",
            "value": " 4/4 [00:01&lt;00:00,  2.94it/s]"
          }
        },
        "9464d9f4e75b4b94a568cb3de3707ace": {
          "model_module": "@jupyter-widgets/base",
          "model_name": "LayoutModel",
          "model_module_version": "1.2.0",
          "state": {
            "_model_module": "@jupyter-widgets/base",
            "_model_module_version": "1.2.0",
            "_model_name": "LayoutModel",
            "_view_count": null,
            "_view_module": "@jupyter-widgets/base",
            "_view_module_version": "1.2.0",
            "_view_name": "LayoutView",
            "align_content": null,
            "align_items": null,
            "align_self": null,
            "border": null,
            "bottom": null,
            "display": null,
            "flex": null,
            "flex_flow": null,
            "grid_area": null,
            "grid_auto_columns": null,
            "grid_auto_flow": null,
            "grid_auto_rows": null,
            "grid_column": null,
            "grid_gap": null,
            "grid_row": null,
            "grid_template_areas": null,
            "grid_template_columns": null,
            "grid_template_rows": null,
            "height": null,
            "justify_content": null,
            "justify_items": null,
            "left": null,
            "margin": null,
            "max_height": null,
            "max_width": null,
            "min_height": null,
            "min_width": null,
            "object_fit": null,
            "object_position": null,
            "order": null,
            "overflow": null,
            "overflow_x": null,
            "overflow_y": null,
            "padding": null,
            "right": null,
            "top": null,
            "visibility": "hidden",
            "width": null
          }
        },
        "b72965e084f44004b9e317fb79db4940": {
          "model_module": "@jupyter-widgets/base",
          "model_name": "LayoutModel",
          "model_module_version": "1.2.0",
          "state": {
            "_model_module": "@jupyter-widgets/base",
            "_model_module_version": "1.2.0",
            "_model_name": "LayoutModel",
            "_view_count": null,
            "_view_module": "@jupyter-widgets/base",
            "_view_module_version": "1.2.0",
            "_view_name": "LayoutView",
            "align_content": null,
            "align_items": null,
            "align_self": null,
            "border": null,
            "bottom": null,
            "display": null,
            "flex": null,
            "flex_flow": null,
            "grid_area": null,
            "grid_auto_columns": null,
            "grid_auto_flow": null,
            "grid_auto_rows": null,
            "grid_column": null,
            "grid_gap": null,
            "grid_row": null,
            "grid_template_areas": null,
            "grid_template_columns": null,
            "grid_template_rows": null,
            "height": null,
            "justify_content": null,
            "justify_items": null,
            "left": null,
            "margin": null,
            "max_height": null,
            "max_width": null,
            "min_height": null,
            "min_width": null,
            "object_fit": null,
            "object_position": null,
            "order": null,
            "overflow": null,
            "overflow_x": null,
            "overflow_y": null,
            "padding": null,
            "right": null,
            "top": null,
            "visibility": null,
            "width": null
          }
        },
        "65de1b782040470b8bf27c759068774b": {
          "model_module": "@jupyter-widgets/controls",
          "model_name": "DescriptionStyleModel",
          "model_module_version": "1.5.0",
          "state": {
            "_model_module": "@jupyter-widgets/controls",
            "_model_module_version": "1.5.0",
            "_model_name": "DescriptionStyleModel",
            "_view_count": null,
            "_view_module": "@jupyter-widgets/base",
            "_view_module_version": "1.2.0",
            "_view_name": "StyleView",
            "description_width": ""
          }
        },
        "f02237156dfe4dbeb4220af18530be39": {
          "model_module": "@jupyter-widgets/base",
          "model_name": "LayoutModel",
          "model_module_version": "1.2.0",
          "state": {
            "_model_module": "@jupyter-widgets/base",
            "_model_module_version": "1.2.0",
            "_model_name": "LayoutModel",
            "_view_count": null,
            "_view_module": "@jupyter-widgets/base",
            "_view_module_version": "1.2.0",
            "_view_name": "LayoutView",
            "align_content": null,
            "align_items": null,
            "align_self": null,
            "border": null,
            "bottom": null,
            "display": null,
            "flex": null,
            "flex_flow": null,
            "grid_area": null,
            "grid_auto_columns": null,
            "grid_auto_flow": null,
            "grid_auto_rows": null,
            "grid_column": null,
            "grid_gap": null,
            "grid_row": null,
            "grid_template_areas": null,
            "grid_template_columns": null,
            "grid_template_rows": null,
            "height": null,
            "justify_content": null,
            "justify_items": null,
            "left": null,
            "margin": null,
            "max_height": null,
            "max_width": null,
            "min_height": null,
            "min_width": null,
            "object_fit": null,
            "object_position": null,
            "order": null,
            "overflow": null,
            "overflow_x": null,
            "overflow_y": null,
            "padding": null,
            "right": null,
            "top": null,
            "visibility": null,
            "width": null
          }
        },
        "bce73ba6104148d98525ed4fc15c8476": {
          "model_module": "@jupyter-widgets/controls",
          "model_name": "ProgressStyleModel",
          "model_module_version": "1.5.0",
          "state": {
            "_model_module": "@jupyter-widgets/controls",
            "_model_module_version": "1.5.0",
            "_model_name": "ProgressStyleModel",
            "_view_count": null,
            "_view_module": "@jupyter-widgets/base",
            "_view_module_version": "1.2.0",
            "_view_name": "StyleView",
            "bar_color": null,
            "description_width": ""
          }
        },
        "34abb2af7c224eeba4e40eca157a3f1f": {
          "model_module": "@jupyter-widgets/base",
          "model_name": "LayoutModel",
          "model_module_version": "1.2.0",
          "state": {
            "_model_module": "@jupyter-widgets/base",
            "_model_module_version": "1.2.0",
            "_model_name": "LayoutModel",
            "_view_count": null,
            "_view_module": "@jupyter-widgets/base",
            "_view_module_version": "1.2.0",
            "_view_name": "LayoutView",
            "align_content": null,
            "align_items": null,
            "align_self": null,
            "border": null,
            "bottom": null,
            "display": null,
            "flex": null,
            "flex_flow": null,
            "grid_area": null,
            "grid_auto_columns": null,
            "grid_auto_flow": null,
            "grid_auto_rows": null,
            "grid_column": null,
            "grid_gap": null,
            "grid_row": null,
            "grid_template_areas": null,
            "grid_template_columns": null,
            "grid_template_rows": null,
            "height": null,
            "justify_content": null,
            "justify_items": null,
            "left": null,
            "margin": null,
            "max_height": null,
            "max_width": null,
            "min_height": null,
            "min_width": null,
            "object_fit": null,
            "object_position": null,
            "order": null,
            "overflow": null,
            "overflow_x": null,
            "overflow_y": null,
            "padding": null,
            "right": null,
            "top": null,
            "visibility": null,
            "width": null
          }
        },
        "27f83b2cfb664ac381ec78c6905c642a": {
          "model_module": "@jupyter-widgets/controls",
          "model_name": "DescriptionStyleModel",
          "model_module_version": "1.5.0",
          "state": {
            "_model_module": "@jupyter-widgets/controls",
            "_model_module_version": "1.5.0",
            "_model_name": "DescriptionStyleModel",
            "_view_count": null,
            "_view_module": "@jupyter-widgets/base",
            "_view_module_version": "1.2.0",
            "_view_name": "StyleView",
            "description_width": ""
          }
        },
        "f2c0a8c8f7d14f43af753e399740f801": {
          "model_module": "@jupyter-widgets/controls",
          "model_name": "HBoxModel",
          "model_module_version": "1.5.0",
          "state": {
            "_dom_classes": [],
            "_model_module": "@jupyter-widgets/controls",
            "_model_module_version": "1.5.0",
            "_model_name": "HBoxModel",
            "_view_count": null,
            "_view_module": "@jupyter-widgets/controls",
            "_view_module_version": "1.5.0",
            "_view_name": "HBoxView",
            "box_style": "",
            "children": [
              "IPY_MODEL_9ef6375f901242bfadee7dc960edf26f",
              "IPY_MODEL_07351670485e4e6aabd3e326938f426a",
              "IPY_MODEL_ee66eb80046e48188bb8dae749680f9e"
            ],
            "layout": "IPY_MODEL_aee8bb0333da495a9c529e6e39d5e536"
          }
        },
        "9ef6375f901242bfadee7dc960edf26f": {
          "model_module": "@jupyter-widgets/controls",
          "model_name": "HTMLModel",
          "model_module_version": "1.5.0",
          "state": {
            "_dom_classes": [],
            "_model_module": "@jupyter-widgets/controls",
            "_model_module_version": "1.5.0",
            "_model_name": "HTMLModel",
            "_view_count": null,
            "_view_module": "@jupyter-widgets/controls",
            "_view_module_version": "1.5.0",
            "_view_name": "HTMLView",
            "description": "",
            "description_tooltip": null,
            "layout": "IPY_MODEL_3cc57d8d587d4c04bd7b8acbfa67bba0",
            "placeholder": "​",
            "style": "IPY_MODEL_2011c45118824728babba1639d3d676b",
            "value": "Processing: 100%"
          }
        },
        "07351670485e4e6aabd3e326938f426a": {
          "model_module": "@jupyter-widgets/controls",
          "model_name": "FloatProgressModel",
          "model_module_version": "1.5.0",
          "state": {
            "_dom_classes": [],
            "_model_module": "@jupyter-widgets/controls",
            "_model_module_version": "1.5.0",
            "_model_name": "FloatProgressModel",
            "_view_count": null,
            "_view_module": "@jupyter-widgets/controls",
            "_view_module_version": "1.5.0",
            "_view_name": "ProgressView",
            "bar_style": "",
            "description": "",
            "description_tooltip": null,
            "layout": "IPY_MODEL_11516af8571c4f4d886c48b0a3aa8377",
            "max": 7,
            "min": 0,
            "orientation": "horizontal",
            "style": "IPY_MODEL_1564b8dc2b6243259b9a62b4f1e83e5b",
            "value": 7
          }
        },
        "ee66eb80046e48188bb8dae749680f9e": {
          "model_module": "@jupyter-widgets/controls",
          "model_name": "HTMLModel",
          "model_module_version": "1.5.0",
          "state": {
            "_dom_classes": [],
            "_model_module": "@jupyter-widgets/controls",
            "_model_module_version": "1.5.0",
            "_model_name": "HTMLModel",
            "_view_count": null,
            "_view_module": "@jupyter-widgets/controls",
            "_view_module_version": "1.5.0",
            "_view_name": "HTMLView",
            "description": "",
            "description_tooltip": null,
            "layout": "IPY_MODEL_f2dffb58c52a480fa3c2b2851b21dc60",
            "placeholder": "​",
            "style": "IPY_MODEL_4fe6c1bd71824535987939b0ab3249eb",
            "value": " 7/7 [00:12&lt;00:00,  1.41s/it]"
          }
        },
        "aee8bb0333da495a9c529e6e39d5e536": {
          "model_module": "@jupyter-widgets/base",
          "model_name": "LayoutModel",
          "model_module_version": "1.2.0",
          "state": {
            "_model_module": "@jupyter-widgets/base",
            "_model_module_version": "1.2.0",
            "_model_name": "LayoutModel",
            "_view_count": null,
            "_view_module": "@jupyter-widgets/base",
            "_view_module_version": "1.2.0",
            "_view_name": "LayoutView",
            "align_content": null,
            "align_items": null,
            "align_self": null,
            "border": null,
            "bottom": null,
            "display": null,
            "flex": null,
            "flex_flow": null,
            "grid_area": null,
            "grid_auto_columns": null,
            "grid_auto_flow": null,
            "grid_auto_rows": null,
            "grid_column": null,
            "grid_gap": null,
            "grid_row": null,
            "grid_template_areas": null,
            "grid_template_columns": null,
            "grid_template_rows": null,
            "height": null,
            "justify_content": null,
            "justify_items": null,
            "left": null,
            "margin": null,
            "max_height": null,
            "max_width": null,
            "min_height": null,
            "min_width": null,
            "object_fit": null,
            "object_position": null,
            "order": null,
            "overflow": null,
            "overflow_x": null,
            "overflow_y": null,
            "padding": null,
            "right": null,
            "top": null,
            "visibility": "hidden",
            "width": null
          }
        },
        "3cc57d8d587d4c04bd7b8acbfa67bba0": {
          "model_module": "@jupyter-widgets/base",
          "model_name": "LayoutModel",
          "model_module_version": "1.2.0",
          "state": {
            "_model_module": "@jupyter-widgets/base",
            "_model_module_version": "1.2.0",
            "_model_name": "LayoutModel",
            "_view_count": null,
            "_view_module": "@jupyter-widgets/base",
            "_view_module_version": "1.2.0",
            "_view_name": "LayoutView",
            "align_content": null,
            "align_items": null,
            "align_self": null,
            "border": null,
            "bottom": null,
            "display": null,
            "flex": null,
            "flex_flow": null,
            "grid_area": null,
            "grid_auto_columns": null,
            "grid_auto_flow": null,
            "grid_auto_rows": null,
            "grid_column": null,
            "grid_gap": null,
            "grid_row": null,
            "grid_template_areas": null,
            "grid_template_columns": null,
            "grid_template_rows": null,
            "height": null,
            "justify_content": null,
            "justify_items": null,
            "left": null,
            "margin": null,
            "max_height": null,
            "max_width": null,
            "min_height": null,
            "min_width": null,
            "object_fit": null,
            "object_position": null,
            "order": null,
            "overflow": null,
            "overflow_x": null,
            "overflow_y": null,
            "padding": null,
            "right": null,
            "top": null,
            "visibility": null,
            "width": null
          }
        },
        "2011c45118824728babba1639d3d676b": {
          "model_module": "@jupyter-widgets/controls",
          "model_name": "DescriptionStyleModel",
          "model_module_version": "1.5.0",
          "state": {
            "_model_module": "@jupyter-widgets/controls",
            "_model_module_version": "1.5.0",
            "_model_name": "DescriptionStyleModel",
            "_view_count": null,
            "_view_module": "@jupyter-widgets/base",
            "_view_module_version": "1.2.0",
            "_view_name": "StyleView",
            "description_width": ""
          }
        },
        "11516af8571c4f4d886c48b0a3aa8377": {
          "model_module": "@jupyter-widgets/base",
          "model_name": "LayoutModel",
          "model_module_version": "1.2.0",
          "state": {
            "_model_module": "@jupyter-widgets/base",
            "_model_module_version": "1.2.0",
            "_model_name": "LayoutModel",
            "_view_count": null,
            "_view_module": "@jupyter-widgets/base",
            "_view_module_version": "1.2.0",
            "_view_name": "LayoutView",
            "align_content": null,
            "align_items": null,
            "align_self": null,
            "border": null,
            "bottom": null,
            "display": null,
            "flex": null,
            "flex_flow": null,
            "grid_area": null,
            "grid_auto_columns": null,
            "grid_auto_flow": null,
            "grid_auto_rows": null,
            "grid_column": null,
            "grid_gap": null,
            "grid_row": null,
            "grid_template_areas": null,
            "grid_template_columns": null,
            "grid_template_rows": null,
            "height": null,
            "justify_content": null,
            "justify_items": null,
            "left": null,
            "margin": null,
            "max_height": null,
            "max_width": null,
            "min_height": null,
            "min_width": null,
            "object_fit": null,
            "object_position": null,
            "order": null,
            "overflow": null,
            "overflow_x": null,
            "overflow_y": null,
            "padding": null,
            "right": null,
            "top": null,
            "visibility": null,
            "width": null
          }
        },
        "1564b8dc2b6243259b9a62b4f1e83e5b": {
          "model_module": "@jupyter-widgets/controls",
          "model_name": "ProgressStyleModel",
          "model_module_version": "1.5.0",
          "state": {
            "_model_module": "@jupyter-widgets/controls",
            "_model_module_version": "1.5.0",
            "_model_name": "ProgressStyleModel",
            "_view_count": null,
            "_view_module": "@jupyter-widgets/base",
            "_view_module_version": "1.2.0",
            "_view_name": "StyleView",
            "bar_color": null,
            "description_width": ""
          }
        },
        "f2dffb58c52a480fa3c2b2851b21dc60": {
          "model_module": "@jupyter-widgets/base",
          "model_name": "LayoutModel",
          "model_module_version": "1.2.0",
          "state": {
            "_model_module": "@jupyter-widgets/base",
            "_model_module_version": "1.2.0",
            "_model_name": "LayoutModel",
            "_view_count": null,
            "_view_module": "@jupyter-widgets/base",
            "_view_module_version": "1.2.0",
            "_view_name": "LayoutView",
            "align_content": null,
            "align_items": null,
            "align_self": null,
            "border": null,
            "bottom": null,
            "display": null,
            "flex": null,
            "flex_flow": null,
            "grid_area": null,
            "grid_auto_columns": null,
            "grid_auto_flow": null,
            "grid_auto_rows": null,
            "grid_column": null,
            "grid_gap": null,
            "grid_row": null,
            "grid_template_areas": null,
            "grid_template_columns": null,
            "grid_template_rows": null,
            "height": null,
            "justify_content": null,
            "justify_items": null,
            "left": null,
            "margin": null,
            "max_height": null,
            "max_width": null,
            "min_height": null,
            "min_width": null,
            "object_fit": null,
            "object_position": null,
            "order": null,
            "overflow": null,
            "overflow_x": null,
            "overflow_y": null,
            "padding": null,
            "right": null,
            "top": null,
            "visibility": null,
            "width": null
          }
        },
        "4fe6c1bd71824535987939b0ab3249eb": {
          "model_module": "@jupyter-widgets/controls",
          "model_name": "DescriptionStyleModel",
          "model_module_version": "1.5.0",
          "state": {
            "_model_module": "@jupyter-widgets/controls",
            "_model_module_version": "1.5.0",
            "_model_name": "DescriptionStyleModel",
            "_view_count": null,
            "_view_module": "@jupyter-widgets/base",
            "_view_module_version": "1.2.0",
            "_view_name": "StyleView",
            "description_width": ""
          }
        }
      }
    }
  },
  "cells": [
    {
      "cell_type": "markdown",
      "source": [
        "#**Project Amazon Sales Data Analysis**\n"
      ],
      "metadata": {
        "id": "EDNc5C_u7EZQ"
      }
    },
    {
      "cell_type": "markdown",
      "source": [
        "##Data Preprocessing "
      ],
      "metadata": {
        "id": "Hc7Z7DBO5pN0"
      }
    },
    {
      "cell_type": "markdown",
      "source": [
        "###Import Python Libraries \n",
        "\n",
        "Importing necessary libraries for data analysis \n",
        "\n",
        "\n",
        "\n",
        "1.   Pandas - This library is used for data manipulation and analysis. It also provides features like efficiently storing and manipulating large datasets and not only that it also provide tools for merging, transforming and cleaning data. \n",
        "2.   Numpy - This library is used for scientific computing with python. Generaly it provides support for large, multi-dimensional arrays and matrices. \n",
        "3.   Matplotlib - This library help in creating types of visualizations including line plots, scatter plots, bar charts and histograms. \n",
        "4.   Seaborn - This library is used for add enhanced aesthetics and additional plotting functions and its based on Matplotlib. \n",
        " \n",
        "\n"
      ],
      "metadata": {
        "id": "CRA0pGww_MZo"
      }
    },
    {
      "cell_type": "code",
      "source": [
        "import pandas as pd\n",
        "import numpy as np \n",
        "import matplotlib.pyplot as pyplot\n",
        "import seaborn as sns\n",
        "\n",
        "# %matplotlib inline is a command that enables Matplotlib plots to be displayed inline in Jupyter Notebook, instead of opening a separate window.\n",
        "%matplotlib inline \n",
        "\n",
        "#  Using the pd.read_csv() function to read in a CSV file named \"Amazon Sales Records.csv\" and stores the data in a Pandas DataFrame named data. The encoding parameter is set to 'latin-1', which specifies the character encoding used in the CSV file.\n",
        "data = pd.read_csv(\"Amazon Sales Records.csv\",encoding = 'latin-1')"
      ],
      "metadata": {
        "id": "9LEq5c7yKpgj"
      },
      "execution_count": 73,
      "outputs": []
    },
    {
      "cell_type": "code",
      "source": [
        "# Show dataframe\n",
        "data"
      ],
      "metadata": {
        "colab": {
          "base_uri": "https://localhost:8080/",
          "height": 1068
        },
        "id": "RUZncuxCaXlS",
        "outputId": "fe26f2e5-0347-485e-9c5c-bf2d76700ee5"
      },
      "execution_count": 74,
      "outputs": [
        {
          "output_type": "execute_result",
          "data": {
            "text/plain": [
              "                               Region                Country        Item Type  \\\n",
              "0               Australia and Oceania                 Tuvalu        Baby Food   \n",
              "1   Central America and the Caribbean                Grenada           Cereal   \n",
              "2                              Europe                 Russia  Office Supplies   \n",
              "3                  Sub-Saharan Africa  Sao Tome and Principe           Fruits   \n",
              "4                  Sub-Saharan Africa                 Rwanda  Office Supplies   \n",
              "..                                ...                    ...              ...   \n",
              "95                 Sub-Saharan Africa                   Mali          Clothes   \n",
              "96                               Asia               Malaysia           Fruits   \n",
              "97                 Sub-Saharan Africa           Sierra Leone       Vegetables   \n",
              "98                      North America                 Mexico    Personal Care   \n",
              "99                 Sub-Saharan Africa             Mozambique        Household   \n",
              "\n",
              "   Sales Channel Order Priority  Order Date   Order ID   Ship Date  \\\n",
              "0        Offline              H  05-28-2010  669165933   6/27/2010   \n",
              "1         Online              C  08-22-2012  963881480   9/15/2012   \n",
              "2        Offline              L  05-02-2014  341417157  05-08-2014   \n",
              "3         Online              C  06-20-2014  514321792  07-05-2014   \n",
              "4        Offline              L  02-01-2013  115456712  02-06-2013   \n",
              "..           ...            ...         ...        ...         ...   \n",
              "95        Online              M  07-26-2011  512878119  09-03-2011   \n",
              "96       Offline              L  11-11-2011  810711038  12/28/2011   \n",
              "97       Offline              C  06-01-2016  728815257   6/29/2016   \n",
              "98       Offline              M  07-30-2015  559427106  08-08-2015   \n",
              "99       Offline              L  02-10-2012  665095412   2/15/2012   \n",
              "\n",
              "    Units Sold  Unit Price  Unit Cost  Total Revenue  Total Cost  Total Profit  \n",
              "0         9925      255.28     159.42     2533654.00  1582243.50     951410.50  \n",
              "1         2804      205.70     117.11      576782.80   328376.44     248406.36  \n",
              "2         1779      651.21     524.96     1158502.59   933903.84     224598.75  \n",
              "3         8102        9.33       6.92       75591.66    56065.84      19525.82  \n",
              "4         5062      651.21     524.96     3296425.02  2657347.52     639077.50  \n",
              "..         ...         ...        ...            ...         ...           ...  \n",
              "95         888      109.28      35.84       97040.64    31825.92      65214.72  \n",
              "96        6267        9.33       6.92       58471.11    43367.64      15103.47  \n",
              "97        1485      154.06      90.93      228779.10   135031.05      93748.05  \n",
              "98        5767       81.73      56.67      471336.91   326815.89     144521.02  \n",
              "99        5367      668.27     502.54     3586605.09  2697132.18     889472.91  \n",
              "\n",
              "[100 rows x 14 columns]"
            ],
            "text/html": [
              "\n",
              "  <div id=\"df-5fa23e16-39d5-426f-b6bf-b94f186829ff\">\n",
              "    <div class=\"colab-df-container\">\n",
              "      <div>\n",
              "<style scoped>\n",
              "    .dataframe tbody tr th:only-of-type {\n",
              "        vertical-align: middle;\n",
              "    }\n",
              "\n",
              "    .dataframe tbody tr th {\n",
              "        vertical-align: top;\n",
              "    }\n",
              "\n",
              "    .dataframe thead th {\n",
              "        text-align: right;\n",
              "    }\n",
              "</style>\n",
              "<table border=\"1\" class=\"dataframe\">\n",
              "  <thead>\n",
              "    <tr style=\"text-align: right;\">\n",
              "      <th></th>\n",
              "      <th>Region</th>\n",
              "      <th>Country</th>\n",
              "      <th>Item Type</th>\n",
              "      <th>Sales Channel</th>\n",
              "      <th>Order Priority</th>\n",
              "      <th>Order Date</th>\n",
              "      <th>Order ID</th>\n",
              "      <th>Ship Date</th>\n",
              "      <th>Units Sold</th>\n",
              "      <th>Unit Price</th>\n",
              "      <th>Unit Cost</th>\n",
              "      <th>Total Revenue</th>\n",
              "      <th>Total Cost</th>\n",
              "      <th>Total Profit</th>\n",
              "    </tr>\n",
              "  </thead>\n",
              "  <tbody>\n",
              "    <tr>\n",
              "      <th>0</th>\n",
              "      <td>Australia and Oceania</td>\n",
              "      <td>Tuvalu</td>\n",
              "      <td>Baby Food</td>\n",
              "      <td>Offline</td>\n",
              "      <td>H</td>\n",
              "      <td>05-28-2010</td>\n",
              "      <td>669165933</td>\n",
              "      <td>6/27/2010</td>\n",
              "      <td>9925</td>\n",
              "      <td>255.28</td>\n",
              "      <td>159.42</td>\n",
              "      <td>2533654.00</td>\n",
              "      <td>1582243.50</td>\n",
              "      <td>951410.50</td>\n",
              "    </tr>\n",
              "    <tr>\n",
              "      <th>1</th>\n",
              "      <td>Central America and the Caribbean</td>\n",
              "      <td>Grenada</td>\n",
              "      <td>Cereal</td>\n",
              "      <td>Online</td>\n",
              "      <td>C</td>\n",
              "      <td>08-22-2012</td>\n",
              "      <td>963881480</td>\n",
              "      <td>9/15/2012</td>\n",
              "      <td>2804</td>\n",
              "      <td>205.70</td>\n",
              "      <td>117.11</td>\n",
              "      <td>576782.80</td>\n",
              "      <td>328376.44</td>\n",
              "      <td>248406.36</td>\n",
              "    </tr>\n",
              "    <tr>\n",
              "      <th>2</th>\n",
              "      <td>Europe</td>\n",
              "      <td>Russia</td>\n",
              "      <td>Office Supplies</td>\n",
              "      <td>Offline</td>\n",
              "      <td>L</td>\n",
              "      <td>05-02-2014</td>\n",
              "      <td>341417157</td>\n",
              "      <td>05-08-2014</td>\n",
              "      <td>1779</td>\n",
              "      <td>651.21</td>\n",
              "      <td>524.96</td>\n",
              "      <td>1158502.59</td>\n",
              "      <td>933903.84</td>\n",
              "      <td>224598.75</td>\n",
              "    </tr>\n",
              "    <tr>\n",
              "      <th>3</th>\n",
              "      <td>Sub-Saharan Africa</td>\n",
              "      <td>Sao Tome and Principe</td>\n",
              "      <td>Fruits</td>\n",
              "      <td>Online</td>\n",
              "      <td>C</td>\n",
              "      <td>06-20-2014</td>\n",
              "      <td>514321792</td>\n",
              "      <td>07-05-2014</td>\n",
              "      <td>8102</td>\n",
              "      <td>9.33</td>\n",
              "      <td>6.92</td>\n",
              "      <td>75591.66</td>\n",
              "      <td>56065.84</td>\n",
              "      <td>19525.82</td>\n",
              "    </tr>\n",
              "    <tr>\n",
              "      <th>4</th>\n",
              "      <td>Sub-Saharan Africa</td>\n",
              "      <td>Rwanda</td>\n",
              "      <td>Office Supplies</td>\n",
              "      <td>Offline</td>\n",
              "      <td>L</td>\n",
              "      <td>02-01-2013</td>\n",
              "      <td>115456712</td>\n",
              "      <td>02-06-2013</td>\n",
              "      <td>5062</td>\n",
              "      <td>651.21</td>\n",
              "      <td>524.96</td>\n",
              "      <td>3296425.02</td>\n",
              "      <td>2657347.52</td>\n",
              "      <td>639077.50</td>\n",
              "    </tr>\n",
              "    <tr>\n",
              "      <th>...</th>\n",
              "      <td>...</td>\n",
              "      <td>...</td>\n",
              "      <td>...</td>\n",
              "      <td>...</td>\n",
              "      <td>...</td>\n",
              "      <td>...</td>\n",
              "      <td>...</td>\n",
              "      <td>...</td>\n",
              "      <td>...</td>\n",
              "      <td>...</td>\n",
              "      <td>...</td>\n",
              "      <td>...</td>\n",
              "      <td>...</td>\n",
              "      <td>...</td>\n",
              "    </tr>\n",
              "    <tr>\n",
              "      <th>95</th>\n",
              "      <td>Sub-Saharan Africa</td>\n",
              "      <td>Mali</td>\n",
              "      <td>Clothes</td>\n",
              "      <td>Online</td>\n",
              "      <td>M</td>\n",
              "      <td>07-26-2011</td>\n",
              "      <td>512878119</td>\n",
              "      <td>09-03-2011</td>\n",
              "      <td>888</td>\n",
              "      <td>109.28</td>\n",
              "      <td>35.84</td>\n",
              "      <td>97040.64</td>\n",
              "      <td>31825.92</td>\n",
              "      <td>65214.72</td>\n",
              "    </tr>\n",
              "    <tr>\n",
              "      <th>96</th>\n",
              "      <td>Asia</td>\n",
              "      <td>Malaysia</td>\n",
              "      <td>Fruits</td>\n",
              "      <td>Offline</td>\n",
              "      <td>L</td>\n",
              "      <td>11-11-2011</td>\n",
              "      <td>810711038</td>\n",
              "      <td>12/28/2011</td>\n",
              "      <td>6267</td>\n",
              "      <td>9.33</td>\n",
              "      <td>6.92</td>\n",
              "      <td>58471.11</td>\n",
              "      <td>43367.64</td>\n",
              "      <td>15103.47</td>\n",
              "    </tr>\n",
              "    <tr>\n",
              "      <th>97</th>\n",
              "      <td>Sub-Saharan Africa</td>\n",
              "      <td>Sierra Leone</td>\n",
              "      <td>Vegetables</td>\n",
              "      <td>Offline</td>\n",
              "      <td>C</td>\n",
              "      <td>06-01-2016</td>\n",
              "      <td>728815257</td>\n",
              "      <td>6/29/2016</td>\n",
              "      <td>1485</td>\n",
              "      <td>154.06</td>\n",
              "      <td>90.93</td>\n",
              "      <td>228779.10</td>\n",
              "      <td>135031.05</td>\n",
              "      <td>93748.05</td>\n",
              "    </tr>\n",
              "    <tr>\n",
              "      <th>98</th>\n",
              "      <td>North America</td>\n",
              "      <td>Mexico</td>\n",
              "      <td>Personal Care</td>\n",
              "      <td>Offline</td>\n",
              "      <td>M</td>\n",
              "      <td>07-30-2015</td>\n",
              "      <td>559427106</td>\n",
              "      <td>08-08-2015</td>\n",
              "      <td>5767</td>\n",
              "      <td>81.73</td>\n",
              "      <td>56.67</td>\n",
              "      <td>471336.91</td>\n",
              "      <td>326815.89</td>\n",
              "      <td>144521.02</td>\n",
              "    </tr>\n",
              "    <tr>\n",
              "      <th>99</th>\n",
              "      <td>Sub-Saharan Africa</td>\n",
              "      <td>Mozambique</td>\n",
              "      <td>Household</td>\n",
              "      <td>Offline</td>\n",
              "      <td>L</td>\n",
              "      <td>02-10-2012</td>\n",
              "      <td>665095412</td>\n",
              "      <td>2/15/2012</td>\n",
              "      <td>5367</td>\n",
              "      <td>668.27</td>\n",
              "      <td>502.54</td>\n",
              "      <td>3586605.09</td>\n",
              "      <td>2697132.18</td>\n",
              "      <td>889472.91</td>\n",
              "    </tr>\n",
              "  </tbody>\n",
              "</table>\n",
              "<p>100 rows × 14 columns</p>\n",
              "</div>\n",
              "      <button class=\"colab-df-convert\" onclick=\"convertToInteractive('df-5fa23e16-39d5-426f-b6bf-b94f186829ff')\"\n",
              "              title=\"Convert this dataframe to an interactive table.\"\n",
              "              style=\"display:none;\">\n",
              "        \n",
              "  <svg xmlns=\"http://www.w3.org/2000/svg\" height=\"24px\"viewBox=\"0 0 24 24\"\n",
              "       width=\"24px\">\n",
              "    <path d=\"M0 0h24v24H0V0z\" fill=\"none\"/>\n",
              "    <path d=\"M18.56 5.44l.94 2.06.94-2.06 2.06-.94-2.06-.94-.94-2.06-.94 2.06-2.06.94zm-11 1L8.5 8.5l.94-2.06 2.06-.94-2.06-.94L8.5 2.5l-.94 2.06-2.06.94zm10 10l.94 2.06.94-2.06 2.06-.94-2.06-.94-.94-2.06-.94 2.06-2.06.94z\"/><path d=\"M17.41 7.96l-1.37-1.37c-.4-.4-.92-.59-1.43-.59-.52 0-1.04.2-1.43.59L10.3 9.45l-7.72 7.72c-.78.78-.78 2.05 0 2.83L4 21.41c.39.39.9.59 1.41.59.51 0 1.02-.2 1.41-.59l7.78-7.78 2.81-2.81c.8-.78.8-2.07 0-2.86zM5.41 20L4 18.59l7.72-7.72 1.47 1.35L5.41 20z\"/>\n",
              "  </svg>\n",
              "      </button>\n",
              "      \n",
              "  <style>\n",
              "    .colab-df-container {\n",
              "      display:flex;\n",
              "      flex-wrap:wrap;\n",
              "      gap: 12px;\n",
              "    }\n",
              "\n",
              "    .colab-df-convert {\n",
              "      background-color: #E8F0FE;\n",
              "      border: none;\n",
              "      border-radius: 50%;\n",
              "      cursor: pointer;\n",
              "      display: none;\n",
              "      fill: #1967D2;\n",
              "      height: 32px;\n",
              "      padding: 0 0 0 0;\n",
              "      width: 32px;\n",
              "    }\n",
              "\n",
              "    .colab-df-convert:hover {\n",
              "      background-color: #E2EBFA;\n",
              "      box-shadow: 0px 1px 2px rgba(60, 64, 67, 0.3), 0px 1px 3px 1px rgba(60, 64, 67, 0.15);\n",
              "      fill: #174EA6;\n",
              "    }\n",
              "\n",
              "    [theme=dark] .colab-df-convert {\n",
              "      background-color: #3B4455;\n",
              "      fill: #D2E3FC;\n",
              "    }\n",
              "\n",
              "    [theme=dark] .colab-df-convert:hover {\n",
              "      background-color: #434B5C;\n",
              "      box-shadow: 0px 1px 3px 1px rgba(0, 0, 0, 0.15);\n",
              "      filter: drop-shadow(0px 1px 2px rgba(0, 0, 0, 0.3));\n",
              "      fill: #FFFFFF;\n",
              "    }\n",
              "  </style>\n",
              "\n",
              "      <script>\n",
              "        const buttonEl =\n",
              "          document.querySelector('#df-5fa23e16-39d5-426f-b6bf-b94f186829ff button.colab-df-convert');\n",
              "        buttonEl.style.display =\n",
              "          google.colab.kernel.accessAllowed ? 'block' : 'none';\n",
              "\n",
              "        async function convertToInteractive(key) {\n",
              "          const element = document.querySelector('#df-5fa23e16-39d5-426f-b6bf-b94f186829ff');\n",
              "          const dataTable =\n",
              "            await google.colab.kernel.invokeFunction('convertToInteractive',\n",
              "                                                     [key], {});\n",
              "          if (!dataTable) return;\n",
              "\n",
              "          const docLinkHtml = 'Like what you see? Visit the ' +\n",
              "            '<a target=\"_blank\" href=https://colab.research.google.com/notebooks/data_table.ipynb>data table notebook</a>'\n",
              "            + ' to learn more about interactive tables.';\n",
              "          element.innerHTML = '';\n",
              "          dataTable['output_type'] = 'display_data';\n",
              "          await google.colab.output.renderOutput(dataTable, element);\n",
              "          const docLink = document.createElement('div');\n",
              "          docLink.innerHTML = docLinkHtml;\n",
              "          element.appendChild(docLink);\n",
              "        }\n",
              "      </script>\n",
              "    </div>\n",
              "  </div>\n",
              "  "
            ]
          },
          "metadata": {},
          "execution_count": 74
        }
      ]
    },
    {
      "cell_type": "code",
      "source": [
        "# Show columns present in dataframe \n",
        "data.columns"
      ],
      "metadata": {
        "colab": {
          "base_uri": "https://localhost:8080/"
        },
        "id": "HjK974eCoXCI",
        "outputId": "cc673a72-99fc-47c3-fc75-9bf4359aa368"
      },
      "execution_count": 75,
      "outputs": [
        {
          "output_type": "execute_result",
          "data": {
            "text/plain": [
              "Index(['Region', 'Country', 'Item Type', 'Sales Channel', 'Order Priority',\n",
              "       'Order Date', 'Order ID', 'Ship Date', 'Units Sold', 'Unit Price',\n",
              "       'Unit Cost', 'Total Revenue', 'Total Cost', 'Total Profit'],\n",
              "      dtype='object')"
            ]
          },
          "metadata": {},
          "execution_count": 75
        }
      ]
    },
    {
      "cell_type": "code",
      "source": [
        "# Show basic information of dataframe like null value count of each column and their data type \n",
        "data.info()"
      ],
      "metadata": {
        "id": "1wBaJS26ai4j",
        "colab": {
          "base_uri": "https://localhost:8080/"
        },
        "outputId": "c188e4bb-b04d-47e3-edca-85861072e264"
      },
      "execution_count": 76,
      "outputs": [
        {
          "output_type": "stream",
          "name": "stdout",
          "text": [
            "<class 'pandas.core.frame.DataFrame'>\n",
            "RangeIndex: 100 entries, 0 to 99\n",
            "Data columns (total 14 columns):\n",
            " #   Column          Non-Null Count  Dtype  \n",
            "---  ------          --------------  -----  \n",
            " 0   Region          100 non-null    object \n",
            " 1   Country         100 non-null    object \n",
            " 2   Item Type       100 non-null    object \n",
            " 3   Sales Channel   100 non-null    object \n",
            " 4   Order Priority  100 non-null    object \n",
            " 5   Order Date      100 non-null    object \n",
            " 6   Order ID        100 non-null    int64  \n",
            " 7   Ship Date       100 non-null    object \n",
            " 8   Units Sold      100 non-null    int64  \n",
            " 9   Unit Price      100 non-null    float64\n",
            " 10  Unit Cost       100 non-null    float64\n",
            " 11  Total Revenue   100 non-null    float64\n",
            " 12  Total Cost      100 non-null    float64\n",
            " 13  Total Profit    100 non-null    float64\n",
            "dtypes: float64(5), int64(2), object(7)\n",
            "memory usage: 11.1+ KB\n"
          ]
        }
      ]
    },
    {
      "cell_type": "code",
      "source": [
        "# Changing the data type of different column for model training and analysis \n",
        "data['Order Date'] = pd.to_datetime(data['Order Date'])\n",
        "data['Ship Date'] = pd.to_datetime(data['Ship Date'])"
      ],
      "metadata": {
        "id": "Ic0Ko5sVatqP"
      },
      "execution_count": 77,
      "outputs": []
    },
    {
      "cell_type": "code",
      "source": [
        "data['Region'] = data['Region'].astype(str)\n",
        "data['Country'] = data['Country'].astype(str)\n",
        "data['Item Type'] = data['Item Type'].astype(str)\n",
        "data['Sales Channel'] = data['Sales Channel'].astype(str)\n",
        "data['Order Priority'] = data['Order Priority'].astype(str)"
      ],
      "metadata": {
        "id": "KuS91EDIcg5f"
      },
      "execution_count": 78,
      "outputs": []
    },
    {
      "cell_type": "code",
      "source": [
        "# Using describe function on dataframe for getting basic stats of numerical dataset \n",
        "data[['Units Sold', 'Unit Price',\t'Unit Cost', 'Total Revenue', 'Total Cost',\t'Total Profit']].describe()"
      ],
      "metadata": {
        "id": "qDVfcvQ1goP5",
        "colab": {
          "base_uri": "https://localhost:8080/",
          "height": 349
        },
        "outputId": "8be0feb6-743e-4ef0-f597-0c6060c6da77"
      },
      "execution_count": 79,
      "outputs": [
        {
          "output_type": "execute_result",
          "data": {
            "text/plain": [
              "        Units Sold  Unit Price   Unit Cost  Total Revenue    Total Cost  \\\n",
              "count   100.000000  100.000000  100.000000   1.000000e+02  1.000000e+02   \n",
              "mean   5128.710000  276.761300  191.048000   1.373488e+06  9.318057e+05   \n",
              "std    2794.484562  235.592241  188.208181   1.460029e+06  1.083938e+06   \n",
              "min     124.000000    9.330000    6.920000   4.870260e+03  3.612240e+03   \n",
              "25%    2836.250000   81.730000   35.840000   2.687212e+05  1.688680e+05   \n",
              "50%    5382.500000  179.880000  107.275000   7.523144e+05  3.635664e+05   \n",
              "75%    7369.000000  437.200000  263.330000   2.212045e+06  1.613870e+06   \n",
              "max    9925.000000  668.270000  524.960000   5.997055e+06  4.509794e+06   \n",
              "\n",
              "       Total Profit  \n",
              "count  1.000000e+02  \n",
              "mean   4.416820e+05  \n",
              "std    4.385379e+05  \n",
              "min    1.258020e+03  \n",
              "25%    1.214436e+05  \n",
              "50%    2.907680e+05  \n",
              "75%    6.358288e+05  \n",
              "max    1.719922e+06  "
            ],
            "text/html": [
              "\n",
              "  <div id=\"df-992f28d5-e960-4f06-8fe5-82eccf017389\">\n",
              "    <div class=\"colab-df-container\">\n",
              "      <div>\n",
              "<style scoped>\n",
              "    .dataframe tbody tr th:only-of-type {\n",
              "        vertical-align: middle;\n",
              "    }\n",
              "\n",
              "    .dataframe tbody tr th {\n",
              "        vertical-align: top;\n",
              "    }\n",
              "\n",
              "    .dataframe thead th {\n",
              "        text-align: right;\n",
              "    }\n",
              "</style>\n",
              "<table border=\"1\" class=\"dataframe\">\n",
              "  <thead>\n",
              "    <tr style=\"text-align: right;\">\n",
              "      <th></th>\n",
              "      <th>Units Sold</th>\n",
              "      <th>Unit Price</th>\n",
              "      <th>Unit Cost</th>\n",
              "      <th>Total Revenue</th>\n",
              "      <th>Total Cost</th>\n",
              "      <th>Total Profit</th>\n",
              "    </tr>\n",
              "  </thead>\n",
              "  <tbody>\n",
              "    <tr>\n",
              "      <th>count</th>\n",
              "      <td>100.000000</td>\n",
              "      <td>100.000000</td>\n",
              "      <td>100.000000</td>\n",
              "      <td>1.000000e+02</td>\n",
              "      <td>1.000000e+02</td>\n",
              "      <td>1.000000e+02</td>\n",
              "    </tr>\n",
              "    <tr>\n",
              "      <th>mean</th>\n",
              "      <td>5128.710000</td>\n",
              "      <td>276.761300</td>\n",
              "      <td>191.048000</td>\n",
              "      <td>1.373488e+06</td>\n",
              "      <td>9.318057e+05</td>\n",
              "      <td>4.416820e+05</td>\n",
              "    </tr>\n",
              "    <tr>\n",
              "      <th>std</th>\n",
              "      <td>2794.484562</td>\n",
              "      <td>235.592241</td>\n",
              "      <td>188.208181</td>\n",
              "      <td>1.460029e+06</td>\n",
              "      <td>1.083938e+06</td>\n",
              "      <td>4.385379e+05</td>\n",
              "    </tr>\n",
              "    <tr>\n",
              "      <th>min</th>\n",
              "      <td>124.000000</td>\n",
              "      <td>9.330000</td>\n",
              "      <td>6.920000</td>\n",
              "      <td>4.870260e+03</td>\n",
              "      <td>3.612240e+03</td>\n",
              "      <td>1.258020e+03</td>\n",
              "    </tr>\n",
              "    <tr>\n",
              "      <th>25%</th>\n",
              "      <td>2836.250000</td>\n",
              "      <td>81.730000</td>\n",
              "      <td>35.840000</td>\n",
              "      <td>2.687212e+05</td>\n",
              "      <td>1.688680e+05</td>\n",
              "      <td>1.214436e+05</td>\n",
              "    </tr>\n",
              "    <tr>\n",
              "      <th>50%</th>\n",
              "      <td>5382.500000</td>\n",
              "      <td>179.880000</td>\n",
              "      <td>107.275000</td>\n",
              "      <td>7.523144e+05</td>\n",
              "      <td>3.635664e+05</td>\n",
              "      <td>2.907680e+05</td>\n",
              "    </tr>\n",
              "    <tr>\n",
              "      <th>75%</th>\n",
              "      <td>7369.000000</td>\n",
              "      <td>437.200000</td>\n",
              "      <td>263.330000</td>\n",
              "      <td>2.212045e+06</td>\n",
              "      <td>1.613870e+06</td>\n",
              "      <td>6.358288e+05</td>\n",
              "    </tr>\n",
              "    <tr>\n",
              "      <th>max</th>\n",
              "      <td>9925.000000</td>\n",
              "      <td>668.270000</td>\n",
              "      <td>524.960000</td>\n",
              "      <td>5.997055e+06</td>\n",
              "      <td>4.509794e+06</td>\n",
              "      <td>1.719922e+06</td>\n",
              "    </tr>\n",
              "  </tbody>\n",
              "</table>\n",
              "</div>\n",
              "      <button class=\"colab-df-convert\" onclick=\"convertToInteractive('df-992f28d5-e960-4f06-8fe5-82eccf017389')\"\n",
              "              title=\"Convert this dataframe to an interactive table.\"\n",
              "              style=\"display:none;\">\n",
              "        \n",
              "  <svg xmlns=\"http://www.w3.org/2000/svg\" height=\"24px\"viewBox=\"0 0 24 24\"\n",
              "       width=\"24px\">\n",
              "    <path d=\"M0 0h24v24H0V0z\" fill=\"none\"/>\n",
              "    <path d=\"M18.56 5.44l.94 2.06.94-2.06 2.06-.94-2.06-.94-.94-2.06-.94 2.06-2.06.94zm-11 1L8.5 8.5l.94-2.06 2.06-.94-2.06-.94L8.5 2.5l-.94 2.06-2.06.94zm10 10l.94 2.06.94-2.06 2.06-.94-2.06-.94-.94-2.06-.94 2.06-2.06.94z\"/><path d=\"M17.41 7.96l-1.37-1.37c-.4-.4-.92-.59-1.43-.59-.52 0-1.04.2-1.43.59L10.3 9.45l-7.72 7.72c-.78.78-.78 2.05 0 2.83L4 21.41c.39.39.9.59 1.41.59.51 0 1.02-.2 1.41-.59l7.78-7.78 2.81-2.81c.8-.78.8-2.07 0-2.86zM5.41 20L4 18.59l7.72-7.72 1.47 1.35L5.41 20z\"/>\n",
              "  </svg>\n",
              "      </button>\n",
              "      \n",
              "  <style>\n",
              "    .colab-df-container {\n",
              "      display:flex;\n",
              "      flex-wrap:wrap;\n",
              "      gap: 12px;\n",
              "    }\n",
              "\n",
              "    .colab-df-convert {\n",
              "      background-color: #E8F0FE;\n",
              "      border: none;\n",
              "      border-radius: 50%;\n",
              "      cursor: pointer;\n",
              "      display: none;\n",
              "      fill: #1967D2;\n",
              "      height: 32px;\n",
              "      padding: 0 0 0 0;\n",
              "      width: 32px;\n",
              "    }\n",
              "\n",
              "    .colab-df-convert:hover {\n",
              "      background-color: #E2EBFA;\n",
              "      box-shadow: 0px 1px 2px rgba(60, 64, 67, 0.3), 0px 1px 3px 1px rgba(60, 64, 67, 0.15);\n",
              "      fill: #174EA6;\n",
              "    }\n",
              "\n",
              "    [theme=dark] .colab-df-convert {\n",
              "      background-color: #3B4455;\n",
              "      fill: #D2E3FC;\n",
              "    }\n",
              "\n",
              "    [theme=dark] .colab-df-convert:hover {\n",
              "      background-color: #434B5C;\n",
              "      box-shadow: 0px 1px 3px 1px rgba(0, 0, 0, 0.15);\n",
              "      filter: drop-shadow(0px 1px 2px rgba(0, 0, 0, 0.3));\n",
              "      fill: #FFFFFF;\n",
              "    }\n",
              "  </style>\n",
              "\n",
              "      <script>\n",
              "        const buttonEl =\n",
              "          document.querySelector('#df-992f28d5-e960-4f06-8fe5-82eccf017389 button.colab-df-convert');\n",
              "        buttonEl.style.display =\n",
              "          google.colab.kernel.accessAllowed ? 'block' : 'none';\n",
              "\n",
              "        async function convertToInteractive(key) {\n",
              "          const element = document.querySelector('#df-992f28d5-e960-4f06-8fe5-82eccf017389');\n",
              "          const dataTable =\n",
              "            await google.colab.kernel.invokeFunction('convertToInteractive',\n",
              "                                                     [key], {});\n",
              "          if (!dataTable) return;\n",
              "\n",
              "          const docLinkHtml = 'Like what you see? Visit the ' +\n",
              "            '<a target=\"_blank\" href=https://colab.research.google.com/notebooks/data_table.ipynb>data table notebook</a>'\n",
              "            + ' to learn more about interactive tables.';\n",
              "          element.innerHTML = '';\n",
              "          dataTable['output_type'] = 'display_data';\n",
              "          await google.colab.output.renderOutput(dataTable, element);\n",
              "          const docLink = document.createElement('div');\n",
              "          docLink.innerHTML = docLinkHtml;\n",
              "          element.appendChild(docLink);\n",
              "        }\n",
              "      </script>\n",
              "    </div>\n",
              "  </div>\n",
              "  "
            ]
          },
          "metadata": {},
          "execution_count": 79
        },
        {
          "output_type": "stream",
          "name": "stdout",
          "text": [
            "Error: Runtime no longer has a reference to this dataframe, please re-run this cell and try again.\n",
            "Error: Runtime no longer has a reference to this dataframe, please re-run this cell and try again.\n"
          ]
        }
      ]
    },
    {
      "cell_type": "code",
      "source": [
        "# Adding extra column to dataframe which contain only month, year and month with year \n",
        "data['Order Month'] = data['Order Date'].dt.month\n",
        "data['Order Year'] = data['Order Date'].dt.year\n",
        "data['Order Date MonthYear'] = data['Order Date'].dt.strftime('%Y-%m')\n",
        "data = data.drop(columns=['Order Date'])"
      ],
      "metadata": {
        "id": "KagBc9vvuR7s"
      },
      "execution_count": 80,
      "outputs": []
    },
    {
      "cell_type": "code",
      "source": [
        "# Saving the data dataframe to df \n",
        "df = data"
      ],
      "metadata": {
        "id": "FBau7Q4apSGK"
      },
      "execution_count": 81,
      "outputs": []
    },
    {
      "cell_type": "code",
      "source": [
        "# Checking out total null value in the all the column of dataframe \n",
        "df.isnull().sum()"
      ],
      "metadata": {
        "colab": {
          "base_uri": "https://localhost:8080/"
        },
        "id": "h7ose3zKpTjU",
        "outputId": "c5d90477-a388-4d43-825b-61e28f2bae49"
      },
      "execution_count": 82,
      "outputs": [
        {
          "output_type": "execute_result",
          "data": {
            "text/plain": [
              "Region                  0\n",
              "Country                 0\n",
              "Item Type               0\n",
              "Sales Channel           0\n",
              "Order Priority          0\n",
              "Order ID                0\n",
              "Ship Date               0\n",
              "Units Sold              0\n",
              "Unit Price              0\n",
              "Unit Cost               0\n",
              "Total Revenue           0\n",
              "Total Cost              0\n",
              "Total Profit            0\n",
              "Order Month             0\n",
              "Order Year              0\n",
              "Order Date MonthYear    0\n",
              "dtype: int64"
            ]
          },
          "metadata": {},
          "execution_count": 82
        }
      ]
    },
    {
      "cell_type": "code",
      "source": [
        "# Display total values of all country \n",
        "pd.set_option('display.max_rows', None)\n",
        "df['Country'].value_counts()"
      ],
      "metadata": {
        "colab": {
          "base_uri": "https://localhost:8080/"
        },
        "id": "MxILy8ohpUIq",
        "outputId": "ef8dab82-5568-454f-b71c-8cc3da504217"
      },
      "execution_count": 83,
      "outputs": [
        {
          "output_type": "execute_result",
          "data": {
            "text/plain": [
              "The Gambia                          4\n",
              "Sierra Leone                        3\n",
              "Sao Tome and Principe               3\n",
              "Mexico                              3\n",
              "Australia                           3\n",
              "Djibouti                            3\n",
              "Switzerland                         2\n",
              "Myanmar                             2\n",
              "Norway                              2\n",
              "Turkmenistan                        2\n",
              "Cameroon                            2\n",
              "Bulgaria                            2\n",
              "Honduras                            2\n",
              "Azerbaijan                          2\n",
              "Libya                               2\n",
              "Rwanda                              2\n",
              "Mali                                2\n",
              "Gabon                               1\n",
              "Belize                              1\n",
              "Haiti                               1\n",
              "Lithuania                           1\n",
              "San Marino                          1\n",
              "United Kingdom                      1\n",
              "Austria                             1\n",
              "Fiji                                1\n",
              "Madagascar                          1\n",
              "Cote d'Ivoire                       1\n",
              "Tuvalu                              1\n",
              "Democratic Republic of the Congo    1\n",
              "Zambia                              1\n",
              "Malaysia                            1\n",
              "Nicaragua                           1\n",
              "Romania                             1\n",
              "Slovenia                            1\n",
              "Kuwait                              1\n",
              "Kenya                               1\n",
              "Iran                                1\n",
              "Pakistan                            1\n",
              "Lebanon                             1\n",
              "Spain                               1\n",
              "Samoa                               1\n",
              "Monaco                              1\n",
              "Laos                                1\n",
              "Saudi Arabia                        1\n",
              "Federated States of Micronesia      1\n",
              "Slovakia                            1\n",
              "Lesotho                             1\n",
              "Albania                             1\n",
              "Russia                              1\n",
              "Solomon Islands                     1\n",
              "Angola                              1\n",
              "Burkina Faso                        1\n",
              "Republic of the Congo               1\n",
              "Senegal                             1\n",
              "Kyrgyzstan                          1\n",
              "Cape Verde                          1\n",
              "Bangladesh                          1\n",
              "Mongolia                            1\n",
              "Sri Lanka                           1\n",
              "East Timor                          1\n",
              "Portugal                            1\n",
              "New Zealand                         1\n",
              "Moldova                             1\n",
              "France                              1\n",
              "Kiribati                            1\n",
              "South Sudan                         1\n",
              "Costa Rica                          1\n",
              "Syria                               1\n",
              "Brunei                              1\n",
              "Niger                               1\n",
              "Grenada                             1\n",
              "Comoros                             1\n",
              "Iceland                             1\n",
              "Macedonia                           1\n",
              "Mauritania                          1\n",
              "Mozambique                          1\n",
              "Name: Country, dtype: int64"
            ]
          },
          "metadata": {},
          "execution_count": 83
        }
      ]
    },
    {
      "cell_type": "code",
      "source": [
        "import matplotlib.pyplot as plt \n",
        "country_names = df.Country.value_counts().index\n",
        "country_val = df.Country.value_counts().values\n",
        "# Pie Chart for top 20 country\n",
        "fig,ax = plt.subplots(figsize=(9,9))\n",
        "ax.pie(country_val[:20],labels=country_names[:20],autopct='%1.2f%%')\n",
        "plt.show()"
      ],
      "metadata": {
        "colab": {
          "base_uri": "https://localhost:8080/",
          "height": 520
        },
        "id": "BTM5BD72pjef",
        "outputId": "1a8316f7-e530-4e9d-a392-0fff18ff4b89"
      },
      "execution_count": 84,
      "outputs": [
        {
          "output_type": "display_data",
          "data": {
            "text/plain": [
              "<Figure size 648x648 with 1 Axes>"
            ],
            "image/png": "[encoded data removed]"
          },
          "metadata": {}
        }
      ]
    },
    {
      "cell_type": "markdown",
      "source": [
        "#Exploratory Data Analysis "
      ],
      "metadata": {
        "id": "325ly2VJ8u03"
      }
    },
    {
      "cell_type": "markdown",
      "source": [
        "###Checking Outliers in the dataframe\n",
        "\n"
      ],
      "metadata": {
        "id": "EKVmlXskNTh_"
      }
    },
    {
      "cell_type": "markdown",
      "source": [
        "Box Plot for Total Profit"
      ],
      "metadata": {
        "id": "GRuYrV6IrsHg"
      }
    },
    {
      "cell_type": "markdown",
      "source": [
        "The first line imports the Matplotlib pyplot module and assigns it to the variable 'plt'. The second line imports the Seaborn library and sets the plot style to 'white'. The third line creates a figure with a size of 10 inches by 2 inches using the subplots() function and assigns the plot object to the variables 'fig' and 'ax'. This allows for further customization of the plot. The fourth line creates a boxplot of the 'Total Profit' variable in the dataset using the Seaborn boxplot() function. The 'color' parameter sets the color of the boxes to 'plum' and the 'width' parameter sets the width of the boxes to 0.6.\n",
        "The fifth line adds a title to the plot and sets the font size to 13. The sixth line adds a label to the x-axis. The last line displays the plot using the show() function.\n",
        "\n"
      ],
      "metadata": {
        "id": "q_eGKouIPFe-"
      }
    },
    {
      "cell_type": "code",
      "source": [
        "import matplotlib.pyplot as plt\n",
        "sns.set(style='white')\n",
        "fig, ax = plt.subplots(figsize=(10, 2))\n",
        "sns.boxplot(data['Total Profit'], color=\"plum\", width=.6)\n",
        "\n",
        "plt.title('Total Profit Boxplot', fontsize=13)\n",
        "plt.xlabel('Profit')\n",
        "plt.show()"
      ],
      "metadata": {
        "colab": {
          "base_uri": "https://localhost:8080/",
          "height": 196
        },
        "id": "APy1oNEWqUZr",
        "outputId": "82633c67-4fc5-4396-9a2d-09c7e55a7a39"
      },
      "execution_count": 85,
      "outputs": [
        {
          "output_type": "display_data",
          "data": {
            "text/plain": [
              "<Figure size 720x144 with 1 Axes>"
            ],
            "image/png": "[encoded data removed]"
          },
          "metadata": {}
        }
      ]
    },
    {
      "cell_type": "markdown",
      "source": [
        "The function 'detect_outliers' takes in two arguments: a pandas DataFrame 'dataframe' and a column name 'column'. It aims to detect outliers in the specified column using the Z-score method.\n",
        "\n",
        "The Z-score method assumes that the data follows a normal distribution and detects outliers as values that fall outside a certain number of standard deviations from the mean. In this case, the threshold is set to 2 standard deviations.\n",
        "\n",
        "The function first calculates the mean and standard deviation of the column. It then loops through each value in the column and calculates its Z-score. If the absolute Z-score is greater than the threshold, the function appends the index of the outlier to a list and prints the corresponding row of the DataFrame. Finally, the function returns the list of outlier indices.\n",
        "\n",
        "Note that the function requires the 'numpy' library to be imported and assumes that the column values are numeric. Also, the function prints the corresponding rows of the DataFrame where the outliers are found, but this may not be desirable if the DataFrame is large."
      ],
      "metadata": {
        "id": "5C6d3XeU9K9w"
      }
    },
    {
      "cell_type": "code",
      "source": [
        "def detect_outliers(dataframe, column):\n",
        "    threshold = 2     ## 2rd standard deviation\n",
        "    mean = np.mean(column)\n",
        "    std = np.std(column)\n",
        "    outliers = []\n",
        "\n",
        "    for i, value in enumerate(column):\n",
        "        z_score = (value - mean) / std\n",
        "        if np.abs(z_score) > threshold:\n",
        "            outliers.append(i)\n",
        "            print(dataframe.loc[i])\n",
        "\n",
        "    return outliers"
      ],
      "metadata": {
        "id": "S8cJKW3cqUsy"
      },
      "execution_count": 86,
      "outputs": []
    },
    {
      "cell_type": "code",
      "source": [
        "outliers = detect_outliers(df, df[\"Total Profit\"])"
      ],
      "metadata": {
        "colab": {
          "base_uri": "https://localhost:8080/"
        },
        "id": "ifL-HDvDqUz5",
        "outputId": "f2e91f33-ec6e-4f3a-f3b5-06e33ab910ae"
      },
      "execution_count": 87,
      "outputs": [
        {
          "output_type": "stream",
          "name": "stdout",
          "text": [
            "Region                  Central America and the Caribbean\n",
            "Country                                          Honduras\n",
            "Item Type                                       Household\n",
            "Sales Channel                                     Offline\n",
            "Order Priority                                          H\n",
            "Order ID                                        522840487\n",
            "Ship Date                             2017-02-13 00:00:00\n",
            "Units Sold                                           8974\n",
            "Unit Price                                         668.27\n",
            "Unit Cost                                          502.54\n",
            "Total Revenue                                  5997054.98\n",
            "Total Cost                                     4509793.96\n",
            "Total Profit                                   1487261.02\n",
            "Order Month                                             2\n",
            "Order Year                                           2017\n",
            "Order Date MonthYear                              2017-02\n",
            "Name: 13, dtype: object\n",
            "Region                               Europe\n",
            "Country                         Switzerland\n",
            "Item Type                         Cosmetics\n",
            "Sales Channel                       Offline\n",
            "Order Priority                            M\n",
            "Order ID                          249693334\n",
            "Ship Date               2012-10-20 00:00:00\n",
            "Units Sold                             8661\n",
            "Unit Price                            437.2\n",
            "Unit Cost                            263.33\n",
            "Total Revenue                     3786589.2\n",
            "Total Cost                       2280701.13\n",
            "Total Profit                     1505888.07\n",
            "Order Month                               9\n",
            "Order Year                             2012\n",
            "Order Date MonthYear                2012-09\n",
            "Name: 30, dtype: object\n",
            "Region                                 Asia\n",
            "Country                             Myanmar\n",
            "Item Type                         Household\n",
            "Sales Channel                       Offline\n",
            "Order Priority                            H\n",
            "Order ID                          177713572\n",
            "Ship Date               2015-03-01 00:00:00\n",
            "Units Sold                             8250\n",
            "Unit Price                           668.27\n",
            "Unit Cost                            502.54\n",
            "Total Revenue                     5513227.5\n",
            "Total Cost                        4145955.0\n",
            "Total Profit                      1367272.5\n",
            "Order Month                               1\n",
            "Order Year                             2015\n",
            "Order Date MonthYear                2015-01\n",
            "Name: 33, dtype: object\n",
            "Region                               Europe\n",
            "Country                             Iceland\n",
            "Item Type                         Cosmetics\n",
            "Sales Channel                        Online\n",
            "Order Priority                            C\n",
            "Order ID                          331438481\n",
            "Ship Date               2016-12-31 00:00:00\n",
            "Units Sold                             8867\n",
            "Unit Price                            437.2\n",
            "Unit Cost                            263.33\n",
            "Total Revenue                     3876652.4\n",
            "Total Cost                       2334947.11\n",
            "Total Profit                     1541705.29\n",
            "Order Month                              12\n",
            "Order Year                             2016\n",
            "Order Date MonthYear                2016-12\n",
            "Name: 46, dtype: object\n",
            "Region                  Middle East and North Africa\n",
            "Country                                     Pakistan\n",
            "Item Type                                  Cosmetics\n",
            "Sales Channel                                Offline\n",
            "Order Priority                                     L\n",
            "Order ID                                   231145322\n",
            "Ship Date                        2013-08-16 00:00:00\n",
            "Units Sold                                      9892\n",
            "Unit Price                                     437.2\n",
            "Unit Cost                                     263.33\n",
            "Total Revenue                              4324782.4\n",
            "Total Cost                                2604860.36\n",
            "Total Profit                              1719922.04\n",
            "Order Month                                        7\n",
            "Order Year                                      2013\n",
            "Order Date MonthYear                         2013-07\n",
            "Name: 74, dtype: object\n",
            "Region                  Australia and Oceania\n",
            "Country                                Samoa \n",
            "Item Type                           Cosmetics\n",
            "Sales Channel                          Online\n",
            "Order Priority                              H\n",
            "Order ID                            670854651\n",
            "Ship Date                 2013-08-07 00:00:00\n",
            "Units Sold                               9654\n",
            "Unit Price                              437.2\n",
            "Unit Cost                              263.33\n",
            "Total Revenue                       4220728.8\n",
            "Total Cost                         2542187.82\n",
            "Total Profit                       1678540.98\n",
            "Order Month                                 7\n",
            "Order Year                               2013\n",
            "Order Date MonthYear                  2013-07\n",
            "Name: 79, dtype: object\n",
            "Region                               Europe\n",
            "Country                             Romania\n",
            "Item Type                         Cosmetics\n",
            "Sales Channel                        Online\n",
            "Order Priority                            H\n",
            "Order ID                          660643374\n",
            "Ship Date               2010-12-25 00:00:00\n",
            "Units Sold                             7910\n",
            "Unit Price                            437.2\n",
            "Unit Cost                            263.33\n",
            "Total Revenue                     3458252.0\n",
            "Total Cost                        2082940.3\n",
            "Total Profit                      1375311.7\n",
            "Order Month                              11\n",
            "Order Year                             2010\n",
            "Order Date MonthYear                2010-11\n",
            "Name: 93, dtype: object\n"
          ]
        }
      ]
    },
    {
      "cell_type": "code",
      "source": [
        "# Print rows where outlier is present for the Total Profit column value\n",
        "print(outliers)"
      ],
      "metadata": {
        "colab": {
          "base_uri": "https://localhost:8080/"
        },
        "id": "IogKm7qKA0qw",
        "outputId": "3c55f000-486b-406c-806a-16307015defa"
      },
      "execution_count": 88,
      "outputs": [
        {
          "output_type": "stream",
          "name": "stdout",
          "text": [
            "[13, 30, 33, 46, 74, 79, 93]\n"
          ]
        }
      ]
    },
    {
      "cell_type": "code",
      "source": [
        "list_length = len(outliers)\n",
        "\n",
        "# Print the number of values in the list\n",
        "print(\"The list has\", list_length, \"outliers in Total Profit column of dataframe data \")"
      ],
      "metadata": {
        "colab": {
          "base_uri": "https://localhost:8080/"
        },
        "id": "cZL0rDH6qU3K",
        "outputId": "6c26771f-c31b-4b8b-b7ed-5f07fef0fad7"
      },
      "execution_count": 89,
      "outputs": [
        {
          "output_type": "stream",
          "name": "stdout",
          "text": [
            "The list has 7 outliers in Total Profit column of dataframe data \n"
          ]
        }
      ]
    },
    {
      "cell_type": "markdown",
      "source": [
        "Box Plot of Total Cost "
      ],
      "metadata": {
        "id": "3KiSoj5LBc64"
      }
    },
    {
      "cell_type": "code",
      "source": [
        "sns.set(style='white')\n",
        "fig, ax = plt.subplots(figsize=(10, 2))\n",
        "sns.boxplot(data['Total Cost'], color=\"plum\", width=.6)\n",
        "\n",
        "plt.title('Total Cost Boxplot', fontsize=13)\n",
        "plt.xlabel('Cost')\n",
        "plt.show()"
      ],
      "metadata": {
        "colab": {
          "base_uri": "https://localhost:8080/",
          "height": 196
        },
        "id": "SnX55zF2BStZ",
        "outputId": "3c5d79fd-c285-40b2-dbf2-e1042d984789"
      },
      "execution_count": 90,
      "outputs": [
        {
          "output_type": "display_data",
          "data": {
            "text/plain": [
              "<Figure size 720x144 with 1 Axes>"
            ],
            "image/png": "[encoded data removed]"
          },
          "metadata": {}
        }
      ]
    },
    {
      "cell_type": "code",
      "source": [
        "def detect_outliers(dataframe, column):\n",
        "    threshold = 2     ## 3rd standard deviation\n",
        "    mean = np.mean(column)\n",
        "    std = np.std(column)\n",
        "    outliers = []\n",
        "\n",
        "    for i, value in enumerate(column):\n",
        "        z_score = (value - mean) / std\n",
        "        if np.abs(z_score) > threshold:\n",
        "            outliers.append(i)\n",
        "            print(dataframe.loc[i])\n",
        "\n",
        "    return outliers"
      ],
      "metadata": {
        "id": "gyAebK37BSwI"
      },
      "execution_count": 91,
      "outputs": []
    },
    {
      "cell_type": "code",
      "source": [
        "outliers = detect_outliers(df, df[\"Total Cost\"])"
      ],
      "metadata": {
        "colab": {
          "base_uri": "https://localhost:8080/"
        },
        "id": "TbmN1x9BBSyx",
        "outputId": "1c43bf53-78ae-4182-c9a2-c9da049acaba"
      },
      "execution_count": 92,
      "outputs": [
        {
          "output_type": "stream",
          "name": "stdout",
          "text": [
            "Region                  Central America and the Caribbean\n",
            "Country                                          Honduras\n",
            "Item Type                                       Household\n",
            "Sales Channel                                     Offline\n",
            "Order Priority                                          H\n",
            "Order ID                                        522840487\n",
            "Ship Date                             2017-02-13 00:00:00\n",
            "Units Sold                                           8974\n",
            "Unit Price                                         668.27\n",
            "Unit Cost                                          502.54\n",
            "Total Revenue                                  5997054.98\n",
            "Total Cost                                     4509793.96\n",
            "Total Profit                                   1487261.02\n",
            "Order Month                                             2\n",
            "Order Year                                           2017\n",
            "Order Date MonthYear                              2017-02\n",
            "Name: 13, dtype: object\n",
            "Region                                 Asia\n",
            "Country                             Myanmar\n",
            "Item Type                         Household\n",
            "Sales Channel                       Offline\n",
            "Order Priority                            H\n",
            "Order ID                          177713572\n",
            "Ship Date               2015-03-01 00:00:00\n",
            "Units Sold                             8250\n",
            "Unit Price                           668.27\n",
            "Unit Cost                            502.54\n",
            "Total Revenue                     5513227.5\n",
            "Total Cost                        4145955.0\n",
            "Total Profit                      1367272.5\n",
            "Order Month                               1\n",
            "Order Year                             2015\n",
            "Order Date MonthYear                2015-01\n",
            "Name: 33, dtype: object\n",
            "Region                                 Asia\n",
            "Country                              Brunei\n",
            "Item Type                   Office Supplies\n",
            "Sales Channel                        Online\n",
            "Order Priority                            L\n",
            "Order ID                          320009267\n",
            "Ship Date               2012-05-08 00:00:00\n",
            "Units Sold                             6708\n",
            "Unit Price                           651.21\n",
            "Unit Cost                            524.96\n",
            "Total Revenue                    4368316.68\n",
            "Total Cost                       3521431.68\n",
            "Total Profit                       846885.0\n",
            "Order Month                               4\n",
            "Order Year                             2012\n",
            "Order Date MonthYear                2012-04\n",
            "Name: 38, dtype: object\n",
            "Region                               Europe\n",
            "Country                           Lithuania\n",
            "Item Type                   Office Supplies\n",
            "Sales Channel                       Offline\n",
            "Order Priority                            H\n",
            "Order ID                          166460740\n",
            "Ship Date               2010-11-17 00:00:00\n",
            "Units Sold                             8287\n",
            "Unit Price                           651.21\n",
            "Unit Cost                            524.96\n",
            "Total Revenue                    5396577.27\n",
            "Total Cost                       4350343.52\n",
            "Total Profit                     1046233.75\n",
            "Order Month                              10\n",
            "Order Year                             2010\n",
            "Order Date MonthYear                2010-10\n",
            "Name: 68, dtype: object\n",
            "Region                        North America\n",
            "Country                              Mexico\n",
            "Item Type                         Household\n",
            "Sales Channel                       Offline\n",
            "Order Priority                            C\n",
            "Order ID                          986435210\n",
            "Ship Date               2014-12-12 00:00:00\n",
            "Units Sold                             6954\n",
            "Unit Price                           668.27\n",
            "Unit Cost                            502.54\n",
            "Total Revenue                    4647149.58\n",
            "Total Cost                       3494663.16\n",
            "Total Profit                     1152486.42\n",
            "Order Month                              11\n",
            "Order Year                             2014\n",
            "Order Date MonthYear                2014-11\n",
            "Name: 75, dtype: object\n"
          ]
        }
      ]
    },
    {
      "cell_type": "code",
      "source": [
        "# Print rows where outlier is present for the Total Cost column value\n",
        "print(outliers)"
      ],
      "metadata": {
        "colab": {
          "base_uri": "https://localhost:8080/"
        },
        "id": "-Ji9kW7_BS1E",
        "outputId": "d3f7a313-2605-41f9-f55e-6570d5f4e21e"
      },
      "execution_count": 93,
      "outputs": [
        {
          "output_type": "stream",
          "name": "stdout",
          "text": [
            "[13, 33, 38, 68, 75]\n"
          ]
        }
      ]
    },
    {
      "cell_type": "code",
      "source": [
        "list_length = len(outliers)\n",
        "\n",
        "# Print the number of values in the list\n",
        "print(\"The list has\", list_length, \"outliers in Total Cost column of dataframe data \")"
      ],
      "metadata": {
        "colab": {
          "base_uri": "https://localhost:8080/"
        },
        "id": "gavT3M31BS4E",
        "outputId": "22a3e516-b880-47c7-a92e-6522b56685d2"
      },
      "execution_count": 94,
      "outputs": [
        {
          "output_type": "stream",
          "name": "stdout",
          "text": [
            "The list has 5 outliers in Total Cost column of dataframe data \n"
          ]
        }
      ]
    },
    {
      "cell_type": "markdown",
      "source": [
        "Box Plot of Total Revenue"
      ],
      "metadata": {
        "id": "gcGsBanCB2cf"
      }
    },
    {
      "cell_type": "code",
      "source": [
        "sns.set(style='white')\n",
        "fig, ax = plt.subplots(figsize=(10, 2))\n",
        "sns.boxplot(data['Total Revenue'], color=\"plum\", width=.6)\n",
        "\n",
        "plt.title('Total Revenue Boxplot', fontsize=13)\n",
        "plt.xlabel('Revenue')\n",
        "plt.show()"
      ],
      "metadata": {
        "colab": {
          "base_uri": "https://localhost:8080/",
          "height": 196
        },
        "id": "2hRDqmIJBTJV",
        "outputId": "f630efbf-1ca5-4882-b4b5-b4a16e8445b9"
      },
      "execution_count": 95,
      "outputs": [
        {
          "output_type": "display_data",
          "data": {
            "text/plain": [
              "<Figure size 720x144 with 1 Axes>"
            ],
            "image/png": "[encoded data removed]"
          },
          "metadata": {}
        }
      ]
    },
    {
      "cell_type": "code",
      "source": [
        "def detect_outliers(dataframe, column):\n",
        "    threshold = 2     ## 3rd standard deviation\n",
        "    mean = np.mean(column)\n",
        "    std = np.std(column)\n",
        "    outliers = []\n",
        "\n",
        "    for i, value in enumerate(column):\n",
        "        z_score = (value - mean) / std\n",
        "        if np.abs(z_score) > threshold:\n",
        "            outliers.append(i)\n",
        "            print(dataframe.loc[i])\n",
        "\n",
        "    return outliers"
      ],
      "metadata": {
        "id": "cPh_QpHTB6su"
      },
      "execution_count": 96,
      "outputs": []
    },
    {
      "cell_type": "code",
      "source": [
        "outliers = detect_outliers(df, df[\"Total Revenue\"])"
      ],
      "metadata": {
        "colab": {
          "base_uri": "https://localhost:8080/"
        },
        "id": "XWNiyRArB6vc",
        "outputId": "e7088e80-bc8e-43f6-c9dd-6b8dd63637d1"
      },
      "execution_count": 97,
      "outputs": [
        {
          "output_type": "stream",
          "name": "stdout",
          "text": [
            "Region                  Central America and the Caribbean\n",
            "Country                                          Honduras\n",
            "Item Type                                       Household\n",
            "Sales Channel                                     Offline\n",
            "Order Priority                                          H\n",
            "Order ID                                        522840487\n",
            "Ship Date                             2017-02-13 00:00:00\n",
            "Units Sold                                           8974\n",
            "Unit Price                                         668.27\n",
            "Unit Cost                                          502.54\n",
            "Total Revenue                                  5997054.98\n",
            "Total Cost                                     4509793.96\n",
            "Total Profit                                   1487261.02\n",
            "Order Month                                             2\n",
            "Order Year                                           2017\n",
            "Order Date MonthYear                              2017-02\n",
            "Name: 13, dtype: object\n",
            "Region                                 Asia\n",
            "Country                             Myanmar\n",
            "Item Type                         Household\n",
            "Sales Channel                       Offline\n",
            "Order Priority                            H\n",
            "Order ID                          177713572\n",
            "Ship Date               2015-03-01 00:00:00\n",
            "Units Sold                             8250\n",
            "Unit Price                           668.27\n",
            "Unit Cost                            502.54\n",
            "Total Revenue                     5513227.5\n",
            "Total Cost                        4145955.0\n",
            "Total Profit                      1367272.5\n",
            "Order Month                               1\n",
            "Order Year                             2015\n",
            "Order Date MonthYear                2015-01\n",
            "Name: 33, dtype: object\n",
            "Region                                 Asia\n",
            "Country                              Brunei\n",
            "Item Type                   Office Supplies\n",
            "Sales Channel                        Online\n",
            "Order Priority                            L\n",
            "Order ID                          320009267\n",
            "Ship Date               2012-05-08 00:00:00\n",
            "Units Sold                             6708\n",
            "Unit Price                           651.21\n",
            "Unit Cost                            524.96\n",
            "Total Revenue                    4368316.68\n",
            "Total Cost                       3521431.68\n",
            "Total Profit                       846885.0\n",
            "Order Month                               4\n",
            "Order Year                             2012\n",
            "Order Date MonthYear                2012-04\n",
            "Name: 38, dtype: object\n",
            "Region                               Europe\n",
            "Country                           Lithuania\n",
            "Item Type                   Office Supplies\n",
            "Sales Channel                       Offline\n",
            "Order Priority                            H\n",
            "Order ID                          166460740\n",
            "Ship Date               2010-11-17 00:00:00\n",
            "Units Sold                             8287\n",
            "Unit Price                           651.21\n",
            "Unit Cost                            524.96\n",
            "Total Revenue                    5396577.27\n",
            "Total Cost                       4350343.52\n",
            "Total Profit                     1046233.75\n",
            "Order Month                              10\n",
            "Order Year                             2010\n",
            "Order Date MonthYear                2010-10\n",
            "Name: 68, dtype: object\n",
            "Region                  Middle East and North Africa\n",
            "Country                                     Pakistan\n",
            "Item Type                                  Cosmetics\n",
            "Sales Channel                                Offline\n",
            "Order Priority                                     L\n",
            "Order ID                                   231145322\n",
            "Ship Date                        2013-08-16 00:00:00\n",
            "Units Sold                                      9892\n",
            "Unit Price                                     437.2\n",
            "Unit Cost                                     263.33\n",
            "Total Revenue                              4324782.4\n",
            "Total Cost                                2604860.36\n",
            "Total Profit                              1719922.04\n",
            "Order Month                                        7\n",
            "Order Year                                      2013\n",
            "Order Date MonthYear                         2013-07\n",
            "Name: 74, dtype: object\n",
            "Region                        North America\n",
            "Country                              Mexico\n",
            "Item Type                         Household\n",
            "Sales Channel                       Offline\n",
            "Order Priority                            C\n",
            "Order ID                          986435210\n",
            "Ship Date               2014-12-12 00:00:00\n",
            "Units Sold                             6954\n",
            "Unit Price                           668.27\n",
            "Unit Cost                            502.54\n",
            "Total Revenue                    4647149.58\n",
            "Total Cost                       3494663.16\n",
            "Total Profit                     1152486.42\n",
            "Order Month                              11\n",
            "Order Year                             2014\n",
            "Order Date MonthYear                2014-11\n",
            "Name: 75, dtype: object\n"
          ]
        }
      ]
    },
    {
      "cell_type": "code",
      "source": [
        "# Print rows where outlier is present for the Total Revenue column value\n",
        "print(outliers)"
      ],
      "metadata": {
        "colab": {
          "base_uri": "https://localhost:8080/"
        },
        "id": "zm7kvxBoB6x6",
        "outputId": "02127ac1-a5dd-4e07-84f4-9e76a9c1096e"
      },
      "execution_count": 98,
      "outputs": [
        {
          "output_type": "stream",
          "name": "stdout",
          "text": [
            "[13, 33, 38, 68, 74, 75]\n"
          ]
        }
      ]
    },
    {
      "cell_type": "code",
      "source": [
        "list_length = len(outliers)\n",
        "\n",
        "# Print the number of values in the list\n",
        "print(\"The list has\", list_length, \"outliers in Total Revenue column of dataframe data \")"
      ],
      "metadata": {
        "colab": {
          "base_uri": "https://localhost:8080/"
        },
        "id": "VDe0VEoTB604",
        "outputId": "c2bea640-d4a2-418f-f7b2-6ae3652d274a"
      },
      "execution_count": 99,
      "outputs": [
        {
          "output_type": "stream",
          "name": "stdout",
          "text": [
            "The list has 6 outliers in Total Revenue column of dataframe data \n"
          ]
        }
      ]
    },
    {
      "cell_type": "markdown",
      "source": [
        "Box Plot of Unit Cost "
      ],
      "metadata": {
        "id": "7zEnn6V4CnpN"
      }
    },
    {
      "cell_type": "code",
      "source": [
        "sns.set(style='white')\n",
        "fig, ax = plt.subplots(figsize=(10, 2))\n",
        "sns.boxplot(data['Unit Cost'], color=\"plum\", width=.6)\n",
        "plt.title('Unit Cost Boxplot', fontsize=13)\n",
        "plt.xlabel('Unit Cost')\n",
        "plt.show()"
      ],
      "metadata": {
        "colab": {
          "base_uri": "https://localhost:8080/",
          "height": 196
        },
        "id": "KNzzHvTRBTL3",
        "outputId": "a9bacaaa-26dc-493d-9b1b-cfa7b0df535b"
      },
      "execution_count": 100,
      "outputs": [
        {
          "output_type": "display_data",
          "data": {
            "text/plain": [
              "<Figure size 720x144 with 1 Axes>"
            ],
            "image/png": "[encoded data removed]"
          },
          "metadata": {}
        }
      ]
    },
    {
      "cell_type": "markdown",
      "source": [
        "Box Plot of Unit Price"
      ],
      "metadata": {
        "id": "klynGJt3Cxwd"
      }
    },
    {
      "cell_type": "code",
      "source": [
        "sns.set(style='white')\n",
        "fig, ax = plt.subplots(figsize=(10, 2))\n",
        "sns.boxplot(data['Unit Price'], color=\"plum\", width=.6)\n",
        "plt.title('Unit Price Boxplot', fontsize=13)\n",
        "plt.xlabel('Unit Price')\n",
        "plt.show()"
      ],
      "metadata": {
        "colab": {
          "base_uri": "https://localhost:8080/",
          "height": 196
        },
        "id": "wwqvfNYVCk78",
        "outputId": "feee3947-ddd2-4f39-fbf2-eb33b35d60d1"
      },
      "execution_count": 101,
      "outputs": [
        {
          "output_type": "display_data",
          "data": {
            "text/plain": [
              "<Figure size 720x144 with 1 Axes>"
            ],
            "image/png": "[encoded data removed]"
          },
          "metadata": {}
        }
      ]
    },
    {
      "cell_type": "markdown",
      "source": [
        "Box Plot of Unit Sold "
      ],
      "metadata": {
        "id": "JTZ-jgHVC68h"
      }
    },
    {
      "cell_type": "code",
      "source": [
        "sns.set(style='white')\n",
        "fig, ax = plt.subplots(figsize=(10, 2))\n",
        "sns.boxplot(data['Units Sold'], color=\"plum\", width=.6)\n",
        "\n",
        "plt.title('Units Sold Boxplot', fontsize=13)\n",
        "plt.xlabel('Units Sold')\n",
        "plt.show()"
      ],
      "metadata": {
        "colab": {
          "base_uri": "https://localhost:8080/",
          "height": 196
        },
        "id": "-bnOBSXPC6kn",
        "outputId": "19b38fd0-8154-4e11-b4f1-0433b3a531fe"
      },
      "execution_count": 102,
      "outputs": [
        {
          "output_type": "display_data",
          "data": {
            "text/plain": [
              "<Figure size 720x144 with 1 Axes>"
            ],
            "image/png": "[encoded data removed]"
          },
          "metadata": {}
        }
      ]
    },
    {
      "cell_type": "code",
      "source": [
        "# Creating a bar chart for Total Revenue and Order Month \n",
        "plt.bar(df['Order Month'], df['Total Revenue'])\n",
        "\n",
        "# Set the chart title and axis labels\n",
        "plt.title('Number of Orders Purchased by Month and Year')\n",
        "plt.xticks([1,2,3,4,5,6,7,8,9,10,11,12])\n",
        "plt.xlabel('Order Month')\n",
        "plt.ylabel('Total Revenue')\n",
        "\n",
        "# Rotate the x-axis labels for better readability\n",
        "\n",
        "# Display the chart\n",
        "plt.show()"
      ],
      "metadata": {
        "id": "2HIYvc5CpkE2",
        "colab": {
          "base_uri": "https://localhost:8080/",
          "height": 304
        },
        "outputId": "336971b8-5cd9-40c9-ace4-3bb8f927155d"
      },
      "execution_count": 103,
      "outputs": [
        {
          "output_type": "display_data",
          "data": {
            "text/plain": [
              "<Figure size 432x288 with 1 Axes>"
            ],
            "image/png": "[encoded data removed]"
          },
          "metadata": {}
        }
      ]
    },
    {
      "cell_type": "code",
      "source": [
        "# Plot line graph of Total Profit and Order Year\n",
        "df.groupby('Order Year')['Total Profit'].mean().plot()\n",
        "plt.xlabel('Order Year')\n",
        "plt.ylabel('Total Profit')\n",
        "plt.title('Profit per year')"
      ],
      "metadata": {
        "colab": {
          "base_uri": "https://localhost:8080/",
          "height": 321
        },
        "id": "ssUfDsCjAn38",
        "outputId": "38d8eb47-d592-435d-c299-638c88a12dc2"
      },
      "execution_count": 104,
      "outputs": [
        {
          "output_type": "execute_result",
          "data": {
            "text/plain": [
              "Text(0.5, 1.0, 'Profit per year')"
            ]
          },
          "metadata": {},
          "execution_count": 104
        },
        {
          "output_type": "display_data",
          "data": {
            "text/plain": [
              "<Figure size 432x288 with 1 Axes>"
            ],
            "image/png": "[encoded data removed]"
          },
          "metadata": {}
        }
      ]
    },
    {
      "cell_type": "code",
      "source": [
        "# Calculating the total revenue for each group with respect to Item Type and then sorting then in descending order\n",
        "revenue_by_category = df.groupby('Item Type')['Total Revenue'].sum().sort_values(ascending=False)\n",
        "revenue_by_category"
      ],
      "metadata": {
        "id": "IJgmJvrvpVn2",
        "colab": {
          "base_uri": "https://localhost:8080/"
        },
        "outputId": "903c4a57-4351-4c2a-cb60-05f419f64ae5"
      },
      "execution_count": 105,
      "outputs": [
        {
          "output_type": "execute_result",
          "data": {
            "text/plain": [
              "Item Type\n",
              "Cosmetics          36601509.60\n",
              "Office Supplies    30585380.07\n",
              "Household          29889712.29\n",
              "Baby Food          10350327.60\n",
              "Clothes             7787292.80\n",
              "Cereal              5322898.90\n",
              "Meat                4503675.75\n",
              "Personal Care       3980904.84\n",
              "Vegetables          3089057.06\n",
              "Beverages           2690794.60\n",
              "Snacks              2080733.46\n",
              "Fruits               466481.34\n",
              "Name: Total Revenue, dtype: float64"
            ]
          },
          "metadata": {},
          "execution_count": 105
        }
      ]
    },
    {
      "cell_type": "code",
      "source": [
        "# Calculating the total profit for each group with respect to Item Type and then sorting then in descending order\n",
        "profit_by_category = df.groupby('Item Type')['Total Profit'].sum().sort_values(ascending=False)\n",
        "profit_by_category"
      ],
      "metadata": {
        "id": "m9N4b885pWHE",
        "colab": {
          "base_uri": "https://localhost:8080/"
        },
        "outputId": "8758a4a9-338c-4e48-bd2e-1107a243c7ae"
      },
      "execution_count": 106,
      "outputs": [
        {
          "output_type": "execute_result",
          "data": {
            "text/plain": [
              "Item Type\n",
              "Cosmetics          14556048.66\n",
              "Household           7412605.71\n",
              "Office Supplies     5929583.75\n",
              "Clothes             5233334.40\n",
              "Baby Food           3886643.70\n",
              "Cereal              2292443.43\n",
              "Vegetables          1265819.63\n",
              "Personal Care       1220622.48\n",
              "Beverages            888047.28\n",
              "Snacks               751944.18\n",
              "Meat                 610610.00\n",
              "Fruits               120495.18\n",
              "Name: Total Profit, dtype: float64"
            ]
          },
          "metadata": {},
          "execution_count": 106
        }
      ]
    },
    {
      "cell_type": "code",
      "source": [
        "# Calculating correlation of 'Total Revenue', 'Total Cost' and 'Total Profit' columns present in dataframe\n",
        "print(df[['Total Revenue', 'Total Cost', 'Total Profit']].corr())"
      ],
      "metadata": {
        "id": "dmuiM2DGoSUr",
        "colab": {
          "base_uri": "https://localhost:8080/"
        },
        "outputId": "85cb1a52-f4fa-41f2-ec98-1b40b1307f80"
      },
      "execution_count": 107,
      "outputs": [
        {
          "output_type": "stream",
          "name": "stdout",
          "text": [
            "               Total Revenue  Total Cost  Total Profit\n",
            "Total Revenue       1.000000    0.983928      0.897327\n",
            "Total Cost          0.983928    1.000000      0.804091\n",
            "Total Profit        0.897327    0.804091      1.000000\n"
          ]
        }
      ]
    },
    {
      "cell_type": "markdown",
      "source": [
        "##Predictive Analytics "
      ],
      "metadata": {
        "id": "DfF4yNVDPkbt"
      }
    },
    {
      "cell_type": "code",
      "source": [
        "# Label Encoding of Item Type, Sales Channel and Order Priority for model training \n",
        "from sklearn.preprocessing import LabelEncoder \n",
        "le = LabelEncoder()\n",
        "df[\"Item Type\"] = le.fit_transform(df[\"Item Type\"])\n",
        "df[\"Sales Channel\"] = le.fit_transform(df[\"Sales Channel\"])\n",
        "df[\"Order Priority\"] = le.fit_transform(df[\"Order Priority\"])"
      ],
      "metadata": {
        "id": "lwgGASIwF1fP"
      },
      "execution_count": 108,
      "outputs": []
    },
    {
      "cell_type": "code",
      "source": [
        "# Drop columns Region, Country, Order Date MonthYear, Order ID and Ship Date \n",
        "df = df.drop(\"Region\", axis=1)\n",
        "df = df.drop(\"Country\", axis=1)\n",
        "df = df.drop(\"Order Date MonthYear\", axis=1)\n",
        "df = df.drop(\"Order ID\", axis=1)\n",
        "df = df.drop(\"Ship Date\", axis=1)"
      ],
      "metadata": {
        "id": "qm9iugciRNGR"
      },
      "execution_count": 109,
      "outputs": []
    },
    {
      "cell_type": "code",
      "source": [
        "df.head()"
      ],
      "metadata": {
        "colab": {
          "base_uri": "https://localhost:8080/",
          "height": 215
        },
        "id": "3eRrkw81VSZq",
        "outputId": "ca570380-8524-4a6c-ce5e-240b3bf7ef94"
      },
      "execution_count": 110,
      "outputs": [
        {
          "output_type": "execute_result",
          "data": {
            "text/plain": [
              "   Item Type  Sales Channel  Order Priority  Units Sold  Unit Price  \\\n",
              "0          0              0               1        9925      255.28   \n",
              "1          2              1               0        2804      205.70   \n",
              "2          8              0               2        1779      651.21   \n",
              "3          5              1               0        8102        9.33   \n",
              "4          8              0               2        5062      651.21   \n",
              "\n",
              "   Unit Cost  Total Revenue  Total Cost  Total Profit  Order Month  Order Year  \n",
              "0     159.42     2533654.00  1582243.50     951410.50            5        2010  \n",
              "1     117.11      576782.80   328376.44     248406.36            8        2012  \n",
              "2     524.96     1158502.59   933903.84     224598.75            5        2014  \n",
              "3       6.92       75591.66    56065.84      19525.82            6        2014  \n",
              "4     524.96     3296425.02  2657347.52     639077.50            2        2013  "
            ],
            "text/html": [
              "\n",
              "  <div id=\"df-05f2b176-c1e5-4dcb-afec-1aed66e1f35d\">\n",
              "    <div class=\"colab-df-container\">\n",
              "      <div>\n",
              "<style scoped>\n",
              "    .dataframe tbody tr th:only-of-type {\n",
              "        vertical-align: middle;\n",
              "    }\n",
              "\n",
              "    .dataframe tbody tr th {\n",
              "        vertical-align: top;\n",
              "    }\n",
              "\n",
              "    .dataframe thead th {\n",
              "        text-align: right;\n",
              "    }\n",
              "</style>\n",
              "<table border=\"1\" class=\"dataframe\">\n",
              "  <thead>\n",
              "    <tr style=\"text-align: right;\">\n",
              "      <th></th>\n",
              "      <th>Item Type</th>\n",
              "      <th>Sales Channel</th>\n",
              "      <th>Order Priority</th>\n",
              "      <th>Units Sold</th>\n",
              "      <th>Unit Price</th>\n",
              "      <th>Unit Cost</th>\n",
              "      <th>Total Revenue</th>\n",
              "      <th>Total Cost</th>\n",
              "      <th>Total Profit</th>\n",
              "      <th>Order Month</th>\n",
              "      <th>Order Year</th>\n",
              "    </tr>\n",
              "  </thead>\n",
              "  <tbody>\n",
              "    <tr>\n",
              "      <th>0</th>\n",
              "      <td>0</td>\n",
              "      <td>0</td>\n",
              "      <td>1</td>\n",
              "      <td>9925</td>\n",
              "      <td>255.28</td>\n",
              "      <td>159.42</td>\n",
              "      <td>2533654.00</td>\n",
              "      <td>1582243.50</td>\n",
              "      <td>951410.50</td>\n",
              "      <td>5</td>\n",
              "      <td>2010</td>\n",
              "    </tr>\n",
              "    <tr>\n",
              "      <th>1</th>\n",
              "      <td>2</td>\n",
              "      <td>1</td>\n",
              "      <td>0</td>\n",
              "      <td>2804</td>\n",
              "      <td>205.70</td>\n",
              "      <td>117.11</td>\n",
              "      <td>576782.80</td>\n",
              "      <td>328376.44</td>\n",
              "      <td>248406.36</td>\n",
              "      <td>8</td>\n",
              "      <td>2012</td>\n",
              "    </tr>\n",
              "    <tr>\n",
              "      <th>2</th>\n",
              "      <td>8</td>\n",
              "      <td>0</td>\n",
              "      <td>2</td>\n",
              "      <td>1779</td>\n",
              "      <td>651.21</td>\n",
              "      <td>524.96</td>\n",
              "      <td>1158502.59</td>\n",
              "      <td>933903.84</td>\n",
              "      <td>224598.75</td>\n",
              "      <td>5</td>\n",
              "      <td>2014</td>\n",
              "    </tr>\n",
              "    <tr>\n",
              "      <th>3</th>\n",
              "      <td>5</td>\n",
              "      <td>1</td>\n",
              "      <td>0</td>\n",
              "      <td>8102</td>\n",
              "      <td>9.33</td>\n",
              "      <td>6.92</td>\n",
              "      <td>75591.66</td>\n",
              "      <td>56065.84</td>\n",
              "      <td>19525.82</td>\n",
              "      <td>6</td>\n",
              "      <td>2014</td>\n",
              "    </tr>\n",
              "    <tr>\n",
              "      <th>4</th>\n",
              "      <td>8</td>\n",
              "      <td>0</td>\n",
              "      <td>2</td>\n",
              "      <td>5062</td>\n",
              "      <td>651.21</td>\n",
              "      <td>524.96</td>\n",
              "      <td>3296425.02</td>\n",
              "      <td>2657347.52</td>\n",
              "      <td>639077.50</td>\n",
              "      <td>2</td>\n",
              "      <td>2013</td>\n",
              "    </tr>\n",
              "  </tbody>\n",
              "</table>\n",
              "</div>\n",
              "      <button class=\"colab-df-convert\" onclick=\"convertToInteractive('df-05f2b176-c1e5-4dcb-afec-1aed66e1f35d')\"\n",
              "              title=\"Convert this dataframe to an interactive table.\"\n",
              "              style=\"display:none;\">\n",
              "        \n",
              "  <svg xmlns=\"http://www.w3.org/2000/svg\" height=\"24px\"viewBox=\"0 0 24 24\"\n",
              "       width=\"24px\">\n",
              "    <path d=\"M0 0h24v24H0V0z\" fill=\"none\"/>\n",
              "    <path d=\"M18.56 5.44l.94 2.06.94-2.06 2.06-.94-2.06-.94-.94-2.06-.94 2.06-2.06.94zm-11 1L8.5 8.5l.94-2.06 2.06-.94-2.06-.94L8.5 2.5l-.94 2.06-2.06.94zm10 10l.94 2.06.94-2.06 2.06-.94-2.06-.94-.94-2.06-.94 2.06-2.06.94z\"/><path d=\"M17.41 7.96l-1.37-1.37c-.4-.4-.92-.59-1.43-.59-.52 0-1.04.2-1.43.59L10.3 9.45l-7.72 7.72c-.78.78-.78 2.05 0 2.83L4 21.41c.39.39.9.59 1.41.59.51 0 1.02-.2 1.41-.59l7.78-7.78 2.81-2.81c.8-.78.8-2.07 0-2.86zM5.41 20L4 18.59l7.72-7.72 1.47 1.35L5.41 20z\"/>\n",
              "  </svg>\n",
              "      </button>\n",
              "      \n",
              "  <style>\n",
              "    .colab-df-container {\n",
              "      display:flex;\n",
              "      flex-wrap:wrap;\n",
              "      gap: 12px;\n",
              "    }\n",
              "\n",
              "    .colab-df-convert {\n",
              "      background-color: #E8F0FE;\n",
              "      border: none;\n",
              "      border-radius: 50%;\n",
              "      cursor: pointer;\n",
              "      display: none;\n",
              "      fill: #1967D2;\n",
              "      height: 32px;\n",
              "      padding: 0 0 0 0;\n",
              "      width: 32px;\n",
              "    }\n",
              "\n",
              "    .colab-df-convert:hover {\n",
              "      background-color: #E2EBFA;\n",
              "      box-shadow: 0px 1px 2px rgba(60, 64, 67, 0.3), 0px 1px 3px 1px rgba(60, 64, 67, 0.15);\n",
              "      fill: #174EA6;\n",
              "    }\n",
              "\n",
              "    [theme=dark] .colab-df-convert {\n",
              "      background-color: #3B4455;\n",
              "      fill: #D2E3FC;\n",
              "    }\n",
              "\n",
              "    [theme=dark] .colab-df-convert:hover {\n",
              "      background-color: #434B5C;\n",
              "      box-shadow: 0px 1px 3px 1px rgba(0, 0, 0, 0.15);\n",
              "      filter: drop-shadow(0px 1px 2px rgba(0, 0, 0, 0.3));\n",
              "      fill: #FFFFFF;\n",
              "    }\n",
              "  </style>\n",
              "\n",
              "      <script>\n",
              "        const buttonEl =\n",
              "          document.querySelector('#df-05f2b176-c1e5-4dcb-afec-1aed66e1f35d button.colab-df-convert');\n",
              "        buttonEl.style.display =\n",
              "          google.colab.kernel.accessAllowed ? 'block' : 'none';\n",
              "\n",
              "        async function convertToInteractive(key) {\n",
              "          const element = document.querySelector('#df-05f2b176-c1e5-4dcb-afec-1aed66e1f35d');\n",
              "          const dataTable =\n",
              "            await google.colab.kernel.invokeFunction('convertToInteractive',\n",
              "                                                     [key], {});\n",
              "          if (!dataTable) return;\n",
              "\n",
              "          const docLinkHtml = 'Like what you see? Visit the ' +\n",
              "            '<a target=\"_blank\" href=https://colab.research.google.com/notebooks/data_table.ipynb>data table notebook</a>'\n",
              "            + ' to learn more about interactive tables.';\n",
              "          element.innerHTML = '';\n",
              "          dataTable['output_type'] = 'display_data';\n",
              "          await google.colab.output.renderOutput(dataTable, element);\n",
              "          const docLink = document.createElement('div');\n",
              "          docLink.innerHTML = docLinkHtml;\n",
              "          element.appendChild(docLink);\n",
              "        }\n",
              "      </script>\n",
              "    </div>\n",
              "  </div>\n",
              "  "
            ]
          },
          "metadata": {},
          "execution_count": 110
        }
      ]
    },
    {
      "cell_type": "markdown",
      "source": [
        "##Using Pycaret library \n",
        "\n",
        "PyCaret is an open-source, low-code machine learning library in Python that allows users to quickly and easily build, compare, and deploy machine learning models on structured and tabular data. It is designed to streamline the machine learning workflow and reduce the amount of code needed to build a model, while still providing users with a high degree of flexibility and control over the modeling process.\n",
        "\n",
        "PyCaret provides a variety of pre-processing methods, feature engineering techniques, and model selection strategies that can be easily applied to a dataset with just a few lines of code. It also includes a range of tools for model interpretation, such as feature importance plots and SHAP value plots.\n",
        "\n",
        "Some of the key features of PyCaret include:\n",
        "\n",
        "*   Preprocessing and feature engineering functions\n",
        "*   Automatic model selection and hyperparameter tuning\n",
        "*   Interpretation tools for model results\n",
        "*   Support for a wide range of machine learning algorithms\n",
        "*   Deployment of models to production\n"
      ],
      "metadata": {
        "id": "D9_5zRc3EbEF"
      }
    },
    {
      "cell_type": "code",
      "source": [
        "# Storing df dataframe in df_auto_ml for performing (Auto ML) Pycaret library \n",
        "df_auto_ml = df"
      ],
      "metadata": {
        "id": "DRdPcnHzlxYp"
      },
      "execution_count": 111,
      "outputs": []
    },
    {
      "cell_type": "code",
      "source": [
        "# Install pycaret dependency \n",
        "!pip install --pre pycaret"
      ],
      "metadata": {
        "colab": {
          "base_uri": "https://localhost:8080/"
        },
        "id": "Hq7GA2XpmcDJ",
        "outputId": "74999f48-eeab-4c90-c589-b1b3c0c0b3a7"
      },
      "execution_count": 112,
      "outputs": [
        {
          "output_type": "stream",
          "name": "stdout",
          "text": [
            "Looking in indexes: https://pypi.org/simple, https://us-python.pkg.dev/colab-wheels/public/simple/\n",
            "Requirement already satisfied: pycaret in /usr/local/lib/python3.9/dist-packages (3.0.0rc9)\n",
            "Requirement already satisfied: cloudpickle in /usr/local/lib/python3.9/dist-packages (from pycaret) (2.2.1)\n",
            "Requirement already satisfied: numba>=0.55.0 in /usr/local/lib/python3.9/dist-packages (from pycaret) (0.56.4)\n",
            "Requirement already satisfied: jinja2>=1.2 in /usr/local/lib/python3.9/dist-packages (from pycaret) (3.1.2)\n",
            "Requirement already satisfied: category-encoders>=2.4.0 in /usr/local/lib/python3.9/dist-packages (from pycaret) (2.6.0)\n",
            "Requirement already satisfied: pmdarima!=1.8.1,<3.0.0,>=1.8.0 in /usr/local/lib/python3.9/dist-packages (from pycaret) (2.0.2)\n",
            "Requirement already satisfied: scikit-learn>=1.0 in /usr/local/lib/python3.9/dist-packages (from pycaret) (1.2.1)\n",
            "Requirement already satisfied: scipy<2.0.0 in /usr/local/lib/python3.9/dist-packages (from pycaret) (1.10.1)\n",
            "Requirement already satisfied: psutil>=5.9.0 in /usr/local/lib/python3.9/dist-packages (from pycaret) (5.9.4)\n",
            "Requirement already satisfied: deprecation>=2.1.0 in /usr/local/lib/python3.9/dist-packages (from pycaret) (2.1.0)\n",
            "Requirement already satisfied: pyod>=0.9.8 in /usr/local/lib/python3.9/dist-packages (from pycaret) (1.0.8)\n",
            "Requirement already satisfied: kaleido>=0.2.1 in /usr/local/lib/python3.9/dist-packages (from pycaret) (0.2.1)\n",
            "Requirement already satisfied: ipywidgets>=7.6.5 in /usr/local/lib/python3.9/dist-packages (from pycaret) (7.7.1)\n",
            "Requirement already satisfied: scikit-plot>=0.3.7 in /usr/local/lib/python3.9/dist-packages (from pycaret) (0.3.7)\n",
            "Requirement already satisfied: plotly-resampler>=0.7.2.2 in /usr/local/lib/python3.9/dist-packages (from pycaret) (0.8.4rc1)\n",
            "Requirement already satisfied: statsmodels>=0.12.1 in /usr/local/lib/python3.9/dist-packages (from pycaret) (0.13.5)\n",
            "Requirement already satisfied: yellowbrick>=1.4 in /usr/local/lib/python3.9/dist-packages (from pycaret) (1.5)\n",
            "Requirement already satisfied: tqdm>=4.62.0 in /usr/local/lib/python3.9/dist-packages (from pycaret) (4.65.0)\n",
            "Requirement already satisfied: tbats>=1.1.0 in /usr/local/lib/python3.9/dist-packages (from pycaret) (1.1.2)\n",
            "Requirement already satisfied: markupsafe>=2.0.1 in /usr/local/lib/python3.9/dist-packages (from pycaret) (2.1.2)\n",
            "Requirement already satisfied: imbalanced-learn>=0.8.1 in /usr/local/lib/python3.9/dist-packages (from pycaret) (0.8.1)\n",
            "Requirement already satisfied: schemdraw>=0.14 in /usr/local/lib/python3.9/dist-packages (from pycaret) (0.15)\n",
            "Requirement already satisfied: numpy<1.25,>=1.21 in /usr/local/lib/python3.9/dist-packages (from pycaret) (1.22.4)\n",
            "Requirement already satisfied: matplotlib>=3.3.0 in /usr/local/lib/python3.9/dist-packages (from pycaret) (3.5.3)\n",
            "Requirement already satisfied: plotly>=5.0.0 in /usr/local/lib/python3.9/dist-packages (from pycaret) (5.5.0)\n",
            "Requirement already satisfied: requests>=2.27.1 in /usr/local/lib/python3.9/dist-packages (from pycaret) (2.28.2)\n",
            "Requirement already satisfied: pandas<1.6.0,>=1.3.0 in /usr/local/lib/python3.9/dist-packages (from pycaret) (1.3.5)\n",
            "Requirement already satisfied: joblib>=1.2.0 in /usr/local/lib/python3.9/dist-packages (from pycaret) (1.2.0)\n",
            "Requirement already satisfied: nbformat>=4.2.0 in /usr/local/lib/python3.9/dist-packages (from pycaret) (5.7.3)\n",
            "Requirement already satisfied: sktime>=0.15.0 in /usr/local/lib/python3.9/dist-packages (from pycaret) (0.16.1)\n",
            "Requirement already satisfied: lightgbm>=3.0.0 in /usr/local/lib/python3.9/dist-packages (from pycaret) (3.3.5)\n",
            "Requirement already satisfied: importlib-metadata>=4.12.0 in /usr/local/lib/python3.9/dist-packages (from pycaret) (6.0.0)\n",
            "Requirement already satisfied: ipython>=5.5.0 in /usr/local/lib/python3.9/dist-packages (from pycaret) (7.9.0)\n",
            "Requirement already satisfied: xxhash in /usr/local/lib/python3.9/dist-packages (from pycaret) (3.2.0)\n",
            "Requirement already satisfied: patsy>=0.5.1 in /usr/local/lib/python3.9/dist-packages (from category-encoders>=2.4.0->pycaret) (0.5.3)\n",
            "Requirement already satisfied: packaging in /usr/local/lib/python3.9/dist-packages (from deprecation>=2.1.0->pycaret) (23.0)\n",
            "Requirement already satisfied: zipp>=0.5 in /usr/local/lib/python3.9/dist-packages (from importlib-metadata>=4.12.0->pycaret) (3.15.0)\n",
            "Requirement already satisfied: traitlets>=4.2 in /usr/local/lib/python3.9/dist-packages (from ipython>=5.5.0->pycaret) (5.7.1)\n",
            "Requirement already satisfied: pickleshare in /usr/local/lib/python3.9/dist-packages (from ipython>=5.5.0->pycaret) (0.7.5)\n",
            "Requirement already satisfied: jedi>=0.10 in /usr/local/lib/python3.9/dist-packages (from ipython>=5.5.0->pycaret) (0.18.2)\n",
            "Requirement already satisfied: backcall in /usr/local/lib/python3.9/dist-packages (from ipython>=5.5.0->pycaret) (0.2.0)\n",
            "Requirement already satisfied: setuptools>=18.5 in /usr/local/lib/python3.9/dist-packages (from ipython>=5.5.0->pycaret) (57.4.0)\n",
            "Requirement already satisfied: prompt-toolkit<2.1.0,>=2.0.0 in /usr/local/lib/python3.9/dist-packages (from ipython>=5.5.0->pycaret) (2.0.10)\n",
            "Requirement already satisfied: decorator in /usr/local/lib/python3.9/dist-packages (from ipython>=5.5.0->pycaret) (4.4.2)\n",
            "Requirement already satisfied: pygments in /usr/local/lib/python3.9/dist-packages (from ipython>=5.5.0->pycaret) (2.6.1)\n",
            "Requirement already satisfied: pexpect in /usr/local/lib/python3.9/dist-packages (from ipython>=5.5.0->pycaret) (4.8.0)\n",
            "Requirement already satisfied: widgetsnbextension~=3.6.0 in /usr/local/lib/python3.9/dist-packages (from ipywidgets>=7.6.5->pycaret) (3.6.2)\n",
            "Requirement already satisfied: ipykernel>=4.5.1 in /usr/local/lib/python3.9/dist-packages (from ipywidgets>=7.6.5->pycaret) (5.3.4)\n",
            "Requirement already satisfied: jupyterlab-widgets>=1.0.0 in /usr/local/lib/python3.9/dist-packages (from ipywidgets>=7.6.5->pycaret) (3.0.5)\n",
            "Requirement already satisfied: ipython-genutils~=0.2.0 in /usr/local/lib/python3.9/dist-packages (from ipywidgets>=7.6.5->pycaret) (0.2.0)\n",
            "Requirement already satisfied: wheel in /usr/local/lib/python3.9/dist-packages (from lightgbm>=3.0.0->pycaret) (0.38.4)\n",
            "Requirement already satisfied: cycler>=0.10 in /usr/local/lib/python3.9/dist-packages (from matplotlib>=3.3.0->pycaret) (0.11.0)\n",
            "Requirement already satisfied: kiwisolver>=1.0.1 in /usr/local/lib/python3.9/dist-packages (from matplotlib>=3.3.0->pycaret) (1.4.4)\n",
            "Requirement already satisfied: pyparsing>=2.2.1 in /usr/local/lib/python3.9/dist-packages (from matplotlib>=3.3.0->pycaret) (3.0.9)\n",
            "Requirement already satisfied: fonttools>=4.22.0 in /usr/local/lib/python3.9/dist-packages (from matplotlib>=3.3.0->pycaret) (4.39.0)\n",
            "Requirement already satisfied: pillow>=6.2.0 in /usr/local/lib/python3.9/dist-packages (from matplotlib>=3.3.0->pycaret) (8.4.0)\n",
            "Requirement already satisfied: python-dateutil>=2.7 in /usr/local/lib/python3.9/dist-packages (from matplotlib>=3.3.0->pycaret) (2.8.2)\n",
            "Requirement already satisfied: fastjsonschema in /usr/local/lib/python3.9/dist-packages (from nbformat>=4.2.0->pycaret) (2.16.3)\n",
            "Requirement already satisfied: jupyter-core in /usr/local/lib/python3.9/dist-packages (from nbformat>=4.2.0->pycaret) (5.2.0)\n",
            "Requirement already satisfied: jsonschema>=2.6 in /usr/local/lib/python3.9/dist-packages (from nbformat>=4.2.0->pycaret) (4.3.3)\n",
            "Requirement already satisfied: llvmlite<0.40,>=0.39.0dev0 in /usr/local/lib/python3.9/dist-packages (from numba>=0.55.0->pycaret) (0.39.1)\n",
            "Requirement already satisfied: pytz>=2017.3 in /usr/local/lib/python3.9/dist-packages (from pandas<1.6.0,>=1.3.0->pycaret) (2022.7.1)\n",
            "Requirement already satisfied: tenacity>=6.2.0 in /usr/local/lib/python3.9/dist-packages (from plotly>=5.0.0->pycaret) (8.2.2)\n",
            "Requirement already satisfied: six in /usr/local/lib/python3.9/dist-packages (from plotly>=5.0.0->pycaret) (1.15.0)\n",
            "Requirement already satisfied: jupyter-dash>=0.4.2 in /usr/local/lib/python3.9/dist-packages (from plotly-resampler>=0.7.2.2->pycaret) (0.4.2)\n",
            "Requirement already satisfied: Flask-Cors<4.0.0,>=3.0.10 in /usr/local/lib/python3.9/dist-packages (from plotly-resampler>=0.7.2.2->pycaret) (3.0.10)\n",
            "Requirement already satisfied: Werkzeug<=2.1.2 in /usr/local/lib/python3.9/dist-packages (from plotly-resampler>=0.7.2.2->pycaret) (2.1.2)\n",
            "Requirement already satisfied: trace-updater>=0.0.8 in /usr/local/lib/python3.9/dist-packages (from plotly-resampler>=0.7.2.2->pycaret) (0.0.9)\n",
            "Requirement already satisfied: dash<3.0.0,>=2.2.0 in /usr/local/lib/python3.9/dist-packages (from plotly-resampler>=0.7.2.2->pycaret) (2.8.1)\n",
            "Requirement already satisfied: orjson<4.0.0,>=3.8.0 in /usr/local/lib/python3.9/dist-packages (from plotly-resampler>=0.7.2.2->pycaret) (3.8.7)\n",
            "Requirement already satisfied: urllib3 in /usr/local/lib/python3.9/dist-packages (from pmdarima!=1.8.1,<3.0.0,>=1.8.0->pycaret) (1.26.14)\n",
            "Requirement already satisfied: Cython!=0.29.18,!=0.29.31,>=0.29 in /usr/local/lib/python3.9/dist-packages (from pmdarima!=1.8.1,<3.0.0,>=1.8.0->pycaret) (0.29.33)\n",
            "Requirement already satisfied: certifi>=2017.4.17 in /usr/local/lib/python3.9/dist-packages (from requests>=2.27.1->pycaret) (2022.12.7)\n",
            "Requirement already satisfied: charset-normalizer<4,>=2 in /usr/local/lib/python3.9/dist-packages (from requests>=2.27.1->pycaret) (3.1.0)\n",
            "Requirement already satisfied: idna<4,>=2.5 in /usr/local/lib/python3.9/dist-packages (from requests>=2.27.1->pycaret) (2.10)\n",
            "Requirement already satisfied: threadpoolctl>=2.0.0 in /usr/local/lib/python3.9/dist-packages (from scikit-learn>=1.0->pycaret) (3.1.0)\n",
            "Requirement already satisfied: deprecated>=1.2.13 in /usr/local/lib/python3.9/dist-packages (from sktime>=0.15.0->pycaret) (1.2.13)\n",
            "Requirement already satisfied: Flask>=1.0.4 in /usr/local/lib/python3.9/dist-packages (from dash<3.0.0,>=2.2.0->plotly-resampler>=0.7.2.2->pycaret) (2.1.3)\n",
            "Requirement already satisfied: dash-core-components==2.0.0 in /usr/local/lib/python3.9/dist-packages (from dash<3.0.0,>=2.2.0->plotly-resampler>=0.7.2.2->pycaret) (2.0.0)\n",
            "Requirement already satisfied: dash-html-components==2.0.0 in /usr/local/lib/python3.9/dist-packages (from dash<3.0.0,>=2.2.0->plotly-resampler>=0.7.2.2->pycaret) (2.0.0)\n",
            "Requirement already satisfied: dash-table==5.0.0 in /usr/local/lib/python3.9/dist-packages (from dash<3.0.0,>=2.2.0->plotly-resampler>=0.7.2.2->pycaret) (5.0.0)\n",
            "Requirement already satisfied: wrapt<2,>=1.10 in /usr/local/lib/python3.9/dist-packages (from deprecated>=1.2.13->sktime>=0.15.0->pycaret) (1.15.0)\n",
            "Requirement already satisfied: jupyter-client in /usr/local/lib/python3.9/dist-packages (from ipykernel>=4.5.1->ipywidgets>=7.6.5->pycaret) (6.1.12)\n",
            "Requirement already satisfied: tornado>=4.2 in /usr/local/lib/python3.9/dist-packages (from ipykernel>=4.5.1->ipywidgets>=7.6.5->pycaret) (6.2)\n",
            "Requirement already satisfied: parso<0.9.0,>=0.8.0 in /usr/local/lib/python3.9/dist-packages (from jedi>=0.10->ipython>=5.5.0->pycaret) (0.8.3)\n",
            "Requirement already satisfied: pyrsistent!=0.17.0,!=0.17.1,!=0.17.2,>=0.14.0 in /usr/local/lib/python3.9/dist-packages (from jsonschema>=2.6->nbformat>=4.2.0->pycaret) (0.19.3)\n",
            "Requirement already satisfied: attrs>=17.4.0 in /usr/local/lib/python3.9/dist-packages (from jsonschema>=2.6->nbformat>=4.2.0->pycaret) (22.2.0)\n",
            "Requirement already satisfied: nest-asyncio in /usr/local/lib/python3.9/dist-packages (from jupyter-dash>=0.4.2->plotly-resampler>=0.7.2.2->pycaret) (1.5.6)\n",
            "Requirement already satisfied: retrying in /usr/local/lib/python3.9/dist-packages (from jupyter-dash>=0.4.2->plotly-resampler>=0.7.2.2->pycaret) (1.3.4)\n",
            "Requirement already satisfied: ansi2html in /usr/local/lib/python3.9/dist-packages (from jupyter-dash>=0.4.2->plotly-resampler>=0.7.2.2->pycaret) (1.9.0rc1)\n",
            "Requirement already satisfied: wcwidth in /usr/local/lib/python3.9/dist-packages (from prompt-toolkit<2.1.0,>=2.0.0->ipython>=5.5.0->pycaret) (0.2.6)\n",
            "Requirement already satisfied: notebook>=4.4.1 in /usr/local/lib/python3.9/dist-packages (from widgetsnbextension~=3.6.0->ipywidgets>=7.6.5->pycaret) (6.3.0)\n",
            "Requirement already satisfied: platformdirs>=2.5 in /usr/local/lib/python3.9/dist-packages (from jupyter-core->nbformat>=4.2.0->pycaret) (3.1.0)\n",
            "Requirement already satisfied: ptyprocess>=0.5 in /usr/local/lib/python3.9/dist-packages (from pexpect->ipython>=5.5.0->pycaret) (0.7.0)\n",
            "Requirement already satisfied: click>=8.0 in /usr/local/lib/python3.9/dist-packages (from Flask>=1.0.4->dash<3.0.0,>=2.2.0->plotly-resampler>=0.7.2.2->pycaret) (8.1.3)\n",
            "Requirement already satisfied: itsdangerous>=2.0 in /usr/local/lib/python3.9/dist-packages (from Flask>=1.0.4->dash<3.0.0,>=2.2.0->plotly-resampler>=0.7.2.2->pycaret) (2.1.2)\n",
            "Requirement already satisfied: Send2Trash>=1.5.0 in /usr/local/lib/python3.9/dist-packages (from notebook>=4.4.1->widgetsnbextension~=3.6.0->ipywidgets>=7.6.5->pycaret) (1.8.0)\n",
            "Requirement already satisfied: argon2-cffi in /usr/local/lib/python3.9/dist-packages (from notebook>=4.4.1->widgetsnbextension~=3.6.0->ipywidgets>=7.6.5->pycaret) (21.3.0)\n",
            "Requirement already satisfied: terminado>=0.8.3 in /usr/local/lib/python3.9/dist-packages (from notebook>=4.4.1->widgetsnbextension~=3.6.0->ipywidgets>=7.6.5->pycaret) (0.17.1)\n",
            "Requirement already satisfied: prometheus-client in /usr/local/lib/python3.9/dist-packages (from notebook>=4.4.1->widgetsnbextension~=3.6.0->ipywidgets>=7.6.5->pycaret) (0.16.0)\n",
            "Requirement already satisfied: pyzmq>=17 in /usr/local/lib/python3.9/dist-packages (from notebook>=4.4.1->widgetsnbextension~=3.6.0->ipywidgets>=7.6.5->pycaret) (23.2.1)\n",
            "Requirement already satisfied: nbconvert in /usr/local/lib/python3.9/dist-packages (from notebook>=4.4.1->widgetsnbextension~=3.6.0->ipywidgets>=7.6.5->pycaret) (6.5.4)\n",
            "Requirement already satisfied: argon2-cffi-bindings in /usr/local/lib/python3.9/dist-packages (from argon2-cffi->notebook>=4.4.1->widgetsnbextension~=3.6.0->ipywidgets>=7.6.5->pycaret) (21.2.0)\n",
            "Requirement already satisfied: bleach in /usr/local/lib/python3.9/dist-packages (from nbconvert->notebook>=4.4.1->widgetsnbextension~=3.6.0->ipywidgets>=7.6.5->pycaret) (6.0.0)\n",
            "Requirement already satisfied: nbclient>=0.5.0 in /usr/local/lib/python3.9/dist-packages (from nbconvert->notebook>=4.4.1->widgetsnbextension~=3.6.0->ipywidgets>=7.6.5->pycaret) (0.7.2)\n",
            "Requirement already satisfied: mistune<2,>=0.8.1 in /usr/local/lib/python3.9/dist-packages (from nbconvert->notebook>=4.4.1->widgetsnbextension~=3.6.0->ipywidgets>=7.6.5->pycaret) (0.8.4)\n",
            "Requirement already satisfied: jupyterlab-pygments in /usr/local/lib/python3.9/dist-packages (from nbconvert->notebook>=4.4.1->widgetsnbextension~=3.6.0->ipywidgets>=7.6.5->pycaret) (0.2.2)\n",
            "Requirement already satisfied: entrypoints>=0.2.2 in /usr/local/lib/python3.9/dist-packages (from nbconvert->notebook>=4.4.1->widgetsnbextension~=3.6.0->ipywidgets>=7.6.5->pycaret) (0.4)\n",
            "Requirement already satisfied: pandocfilters>=1.4.1 in /usr/local/lib/python3.9/dist-packages (from nbconvert->notebook>=4.4.1->widgetsnbextension~=3.6.0->ipywidgets>=7.6.5->pycaret) (1.5.0)\n",
            "Requirement already satisfied: lxml in /usr/local/lib/python3.9/dist-packages (from nbconvert->notebook>=4.4.1->widgetsnbextension~=3.6.0->ipywidgets>=7.6.5->pycaret) (4.9.2)\n",
            "Requirement already satisfied: tinycss2 in /usr/local/lib/python3.9/dist-packages (from nbconvert->notebook>=4.4.1->widgetsnbextension~=3.6.0->ipywidgets>=7.6.5->pycaret) (1.2.1)\n",
            "Requirement already satisfied: beautifulsoup4 in /usr/local/lib/python3.9/dist-packages (from nbconvert->notebook>=4.4.1->widgetsnbextension~=3.6.0->ipywidgets>=7.6.5->pycaret) (4.6.3)\n",
            "Requirement already satisfied: defusedxml in /usr/local/lib/python3.9/dist-packages (from nbconvert->notebook>=4.4.1->widgetsnbextension~=3.6.0->ipywidgets>=7.6.5->pycaret) (0.7.1)\n",
            "Requirement already satisfied: cffi>=1.0.1 in /usr/local/lib/python3.9/dist-packages (from argon2-cffi-bindings->argon2-cffi->notebook>=4.4.1->widgetsnbextension~=3.6.0->ipywidgets>=7.6.5->pycaret) (1.15.1)\n",
            "Requirement already satisfied: webencodings in /usr/local/lib/python3.9/dist-packages (from bleach->nbconvert->notebook>=4.4.1->widgetsnbextension~=3.6.0->ipywidgets>=7.6.5->pycaret) (0.5.1)\n",
            "Requirement already satisfied: pycparser in /usr/local/lib/python3.9/dist-packages (from cffi>=1.0.1->argon2-cffi-bindings->argon2-cffi->notebook>=4.4.1->widgetsnbextension~=3.6.0->ipywidgets>=7.6.5->pycaret) (2.21)\n"
          ]
        }
      ]
    },
    {
      "cell_type": "code",
      "source": [
        "# Import * to train dataframe on multiple regression algorithm  \n",
        "from pycaret.regression import *"
      ],
      "metadata": {
        "id": "5AyZRS9XmcAa"
      },
      "execution_count": 113,
      "outputs": []
    },
    {
      "cell_type": "code",
      "source": [
        "# Set target value\n",
        "reg = setup(data=df_auto_ml,target='Total Profit')"
      ],
      "metadata": {
        "colab": {
          "base_uri": "https://localhost:8080/",
          "height": 645
        },
        "id": "IFBsDv_omb9g",
        "outputId": "135f7fc5-2704-4104-df01-0c28a431921f"
      },
      "execution_count": 114,
      "outputs": [
        {
          "output_type": "display_data",
          "data": {
            "text/plain": [
              "<pandas.io.formats.style.Styler at 0x7fcc745bc130>"
            ],
            "text/html": [
              "<style type=\"text/css\">\n",
              "#T_c834e_row8_col1 {\n",
              "  background-color: lightgreen;\n",
              "}\n",
              "</style>\n",
              "<table id=\"T_c834e_\" class=\"dataframe\">\n",
              "  <thead>\n",
              "    <tr>\n",
              "      <th class=\"blank level0\" >&nbsp;</th>\n",
              "      <th class=\"col_heading level0 col0\" >Description</th>\n",
              "      <th class=\"col_heading level0 col1\" >Value</th>\n",
              "    </tr>\n",
              "  </thead>\n",
              "  <tbody>\n",
              "    <tr>\n",
              "      <th id=\"T_c834e_level0_row0\" class=\"row_heading level0 row0\" >0</th>\n",
              "      <td id=\"T_c834e_row0_col0\" class=\"data row0 col0\" >Session id</td>\n",
              "      <td id=\"T_c834e_row0_col1\" class=\"data row0 col1\" >6005</td>\n",
              "    </tr>\n",
              "    <tr>\n",
              "      <th id=\"T_c834e_level0_row1\" class=\"row_heading level0 row1\" >1</th>\n",
              "      <td id=\"T_c834e_row1_col0\" class=\"data row1 col0\" >Target</td>\n",
              "      <td id=\"T_c834e_row1_col1\" class=\"data row1 col1\" >Total Profit</td>\n",
              "    </tr>\n",
              "    <tr>\n",
              "      <th id=\"T_c834e_level0_row2\" class=\"row_heading level0 row2\" >2</th>\n",
              "      <td id=\"T_c834e_row2_col0\" class=\"data row2 col0\" >Target type</td>\n",
              "      <td id=\"T_c834e_row2_col1\" class=\"data row2 col1\" >Regression</td>\n",
              "    </tr>\n",
              "    <tr>\n",
              "      <th id=\"T_c834e_level0_row3\" class=\"row_heading level0 row3\" >3</th>\n",
              "      <td id=\"T_c834e_row3_col0\" class=\"data row3 col0\" >Original data shape</td>\n",
              "      <td id=\"T_c834e_row3_col1\" class=\"data row3 col1\" >(100, 11)</td>\n",
              "    </tr>\n",
              "    <tr>\n",
              "      <th id=\"T_c834e_level0_row4\" class=\"row_heading level0 row4\" >4</th>\n",
              "      <td id=\"T_c834e_row4_col0\" class=\"data row4 col0\" >Transformed data shape</td>\n",
              "      <td id=\"T_c834e_row4_col1\" class=\"data row4 col1\" >(100, 11)</td>\n",
              "    </tr>\n",
              "    <tr>\n",
              "      <th id=\"T_c834e_level0_row5\" class=\"row_heading level0 row5\" >5</th>\n",
              "      <td id=\"T_c834e_row5_col0\" class=\"data row5 col0\" >Transformed train set shape</td>\n",
              "      <td id=\"T_c834e_row5_col1\" class=\"data row5 col1\" >(70, 11)</td>\n",
              "    </tr>\n",
              "    <tr>\n",
              "      <th id=\"T_c834e_level0_row6\" class=\"row_heading level0 row6\" >6</th>\n",
              "      <td id=\"T_c834e_row6_col0\" class=\"data row6 col0\" >Transformed test set shape</td>\n",
              "      <td id=\"T_c834e_row6_col1\" class=\"data row6 col1\" >(30, 11)</td>\n",
              "    </tr>\n",
              "    <tr>\n",
              "      <th id=\"T_c834e_level0_row7\" class=\"row_heading level0 row7\" >7</th>\n",
              "      <td id=\"T_c834e_row7_col0\" class=\"data row7 col0\" >Numeric features</td>\n",
              "      <td id=\"T_c834e_row7_col1\" class=\"data row7 col1\" >10</td>\n",
              "    </tr>\n",
              "    <tr>\n",
              "      <th id=\"T_c834e_level0_row8\" class=\"row_heading level0 row8\" >8</th>\n",
              "      <td id=\"T_c834e_row8_col0\" class=\"data row8 col0\" >Preprocess</td>\n",
              "      <td id=\"T_c834e_row8_col1\" class=\"data row8 col1\" >True</td>\n",
              "    </tr>\n",
              "    <tr>\n",
              "      <th id=\"T_c834e_level0_row9\" class=\"row_heading level0 row9\" >9</th>\n",
              "      <td id=\"T_c834e_row9_col0\" class=\"data row9 col0\" >Imputation type</td>\n",
              "      <td id=\"T_c834e_row9_col1\" class=\"data row9 col1\" >simple</td>\n",
              "    </tr>\n",
              "    <tr>\n",
              "      <th id=\"T_c834e_level0_row10\" class=\"row_heading level0 row10\" >10</th>\n",
              "      <td id=\"T_c834e_row10_col0\" class=\"data row10 col0\" >Numeric imputation</td>\n",
              "      <td id=\"T_c834e_row10_col1\" class=\"data row10 col1\" >mean</td>\n",
              "    </tr>\n",
              "    <tr>\n",
              "      <th id=\"T_c834e_level0_row11\" class=\"row_heading level0 row11\" >11</th>\n",
              "      <td id=\"T_c834e_row11_col0\" class=\"data row11 col0\" >Categorical imputation</td>\n",
              "      <td id=\"T_c834e_row11_col1\" class=\"data row11 col1\" >mode</td>\n",
              "    </tr>\n",
              "    <tr>\n",
              "      <th id=\"T_c834e_level0_row12\" class=\"row_heading level0 row12\" >12</th>\n",
              "      <td id=\"T_c834e_row12_col0\" class=\"data row12 col0\" >Fold Generator</td>\n",
              "      <td id=\"T_c834e_row12_col1\" class=\"data row12 col1\" >KFold</td>\n",
              "    </tr>\n",
              "    <tr>\n",
              "      <th id=\"T_c834e_level0_row13\" class=\"row_heading level0 row13\" >13</th>\n",
              "      <td id=\"T_c834e_row13_col0\" class=\"data row13 col0\" >Fold Number</td>\n",
              "      <td id=\"T_c834e_row13_col1\" class=\"data row13 col1\" >10</td>\n",
              "    </tr>\n",
              "    <tr>\n",
              "      <th id=\"T_c834e_level0_row14\" class=\"row_heading level0 row14\" >14</th>\n",
              "      <td id=\"T_c834e_row14_col0\" class=\"data row14 col0\" >CPU Jobs</td>\n",
              "      <td id=\"T_c834e_row14_col1\" class=\"data row14 col1\" >-1</td>\n",
              "    </tr>\n",
              "    <tr>\n",
              "      <th id=\"T_c834e_level0_row15\" class=\"row_heading level0 row15\" >15</th>\n",
              "      <td id=\"T_c834e_row15_col0\" class=\"data row15 col0\" >Use GPU</td>\n",
              "      <td id=\"T_c834e_row15_col1\" class=\"data row15 col1\" >False</td>\n",
              "    </tr>\n",
              "    <tr>\n",
              "      <th id=\"T_c834e_level0_row16\" class=\"row_heading level0 row16\" >16</th>\n",
              "      <td id=\"T_c834e_row16_col0\" class=\"data row16 col0\" >Log Experiment</td>\n",
              "      <td id=\"T_c834e_row16_col1\" class=\"data row16 col1\" >False</td>\n",
              "    </tr>\n",
              "    <tr>\n",
              "      <th id=\"T_c834e_level0_row17\" class=\"row_heading level0 row17\" >17</th>\n",
              "      <td id=\"T_c834e_row17_col0\" class=\"data row17 col0\" >Experiment Name</td>\n",
              "      <td id=\"T_c834e_row17_col1\" class=\"data row17 col1\" >reg-default-name</td>\n",
              "    </tr>\n",
              "    <tr>\n",
              "      <th id=\"T_c834e_level0_row18\" class=\"row_heading level0 row18\" >18</th>\n",
              "      <td id=\"T_c834e_row18_col0\" class=\"data row18 col0\" >USI</td>\n",
              "      <td id=\"T_c834e_row18_col1\" class=\"data row18 col1\" >87bf</td>\n",
              "    </tr>\n",
              "  </tbody>\n",
              "</table>\n"
            ]
          },
          "metadata": {}
        }
      ]
    },
    {
      "cell_type": "code",
      "source": [
        "# Comparing multiple models \n",
        "compare_models()"
      ],
      "metadata": {
        "colab": {
          "base_uri": "https://localhost:8080/",
          "height": 703,
          "referenced_widgets": [
            "14122eab44b54b6db5b8e712d785e468",
            "c281fe3929b240c98073623bc2ddc344",
            "4dc0bbc4ccff470e8791974fd65f0e71",
            "4351b0feba7e439f98cb3461d648b7a4",
            "da7db208b432408fb69faadab47535b2",
            "8003cf99b406405ba5c6ec2d5189c614",
            "40a1fd0b3dcd40b78562264a08eaeba5",
            "572a43331dbc432abc475b185a122ffe",
            "b86d3e8399fe4d4aacc2e602ff999d23",
            "3125b31e7e0f4d07b21860c64ff88faa",
            "5a3a457b67854a379050f0cf83e36989"
          ]
        },
        "id": "w2Szmzudmb6u",
        "outputId": "fc1a303d-a571-4914-a41d-e46104d951e7"
      },
      "execution_count": 115,
      "outputs": [
        {
          "output_type": "display_data",
          "data": {
            "text/plain": [
              "<IPython.core.display.HTML object>"
            ],
            "text/html": []
          },
          "metadata": {}
        },
        {
          "output_type": "display_data",
          "data": {
            "text/plain": [
              "<pandas.io.formats.style.Styler at 0x7fcc5a756460>"
            ],
            "text/html": [
              "<style type=\"text/css\">\n",
              "#T_63baf_ th {\n",
              "  text-align: left;\n",
              "}\n",
              "#T_63baf_row0_col0, #T_63baf_row0_col1, #T_63baf_row0_col2, #T_63baf_row0_col3, #T_63baf_row1_col0, #T_63baf_row1_col1, #T_63baf_row1_col2, #T_63baf_row1_col3, #T_63baf_row2_col0, #T_63baf_row2_col1, #T_63baf_row2_col2, #T_63baf_row2_col3, #T_63baf_row3_col0, #T_63baf_row4_col0, #T_63baf_row4_col1, #T_63baf_row4_col2, #T_63baf_row4_col3, #T_63baf_row5_col0, #T_63baf_row5_col1, #T_63baf_row5_col2, #T_63baf_row5_col3, #T_63baf_row5_col5, #T_63baf_row5_col6, #T_63baf_row6_col0, #T_63baf_row6_col1, #T_63baf_row6_col2, #T_63baf_row6_col3, #T_63baf_row7_col0, #T_63baf_row7_col1, #T_63baf_row7_col2, #T_63baf_row7_col3, #T_63baf_row7_col4, #T_63baf_row7_col5, #T_63baf_row7_col6, #T_63baf_row8_col0, #T_63baf_row8_col1, #T_63baf_row8_col2, #T_63baf_row8_col3, #T_63baf_row8_col4, #T_63baf_row8_col5, #T_63baf_row8_col6, #T_63baf_row9_col0, #T_63baf_row9_col1, #T_63baf_row9_col2, #T_63baf_row9_col3, #T_63baf_row9_col4, #T_63baf_row9_col5, #T_63baf_row9_col6, #T_63baf_row10_col0, #T_63baf_row10_col1, #T_63baf_row10_col2, #T_63baf_row10_col3, #T_63baf_row10_col4, #T_63baf_row10_col5, #T_63baf_row10_col6, #T_63baf_row11_col0, #T_63baf_row11_col1, #T_63baf_row11_col2, #T_63baf_row11_col3, #T_63baf_row11_col4, #T_63baf_row11_col5, #T_63baf_row11_col6, #T_63baf_row12_col0, #T_63baf_row12_col1, #T_63baf_row12_col2, #T_63baf_row12_col3, #T_63baf_row12_col4, #T_63baf_row12_col5, #T_63baf_row12_col6, #T_63baf_row13_col0, #T_63baf_row13_col1, #T_63baf_row13_col2, #T_63baf_row13_col3, #T_63baf_row13_col4, #T_63baf_row13_col5, #T_63baf_row13_col6, #T_63baf_row14_col0, #T_63baf_row14_col1, #T_63baf_row14_col2, #T_63baf_row14_col3, #T_63baf_row14_col4, #T_63baf_row14_col5, #T_63baf_row14_col6, #T_63baf_row15_col0, #T_63baf_row15_col1, #T_63baf_row15_col2, #T_63baf_row15_col3, #T_63baf_row15_col4, #T_63baf_row15_col5, #T_63baf_row15_col6, #T_63baf_row16_col0, #T_63baf_row16_col1, #T_63baf_row16_col2, #T_63baf_row16_col3, #T_63baf_row16_col4, #T_63baf_row16_col5, #T_63baf_row16_col6, #T_63baf_row17_col0, #T_63baf_row17_col1, #T_63baf_row17_col2, #T_63baf_row17_col3, #T_63baf_row17_col4, #T_63baf_row17_col5, #T_63baf_row17_col6, #T_63baf_row18_col0, #T_63baf_row18_col1, #T_63baf_row18_col2, #T_63baf_row18_col3, #T_63baf_row18_col4, #T_63baf_row18_col5, #T_63baf_row18_col6 {\n",
              "  text-align: left;\n",
              "}\n",
              "#T_63baf_row0_col4, #T_63baf_row0_col5, #T_63baf_row0_col6, #T_63baf_row1_col4, #T_63baf_row1_col5, #T_63baf_row1_col6, #T_63baf_row2_col4, #T_63baf_row2_col5, #T_63baf_row2_col6, #T_63baf_row3_col1, #T_63baf_row3_col2, #T_63baf_row3_col3, #T_63baf_row3_col4, #T_63baf_row3_col5, #T_63baf_row3_col6, #T_63baf_row4_col4, #T_63baf_row4_col5, #T_63baf_row4_col6, #T_63baf_row5_col4, #T_63baf_row6_col4, #T_63baf_row6_col5, #T_63baf_row6_col6 {\n",
              "  text-align: left;\n",
              "  background-color: yellow;\n",
              "}\n",
              "#T_63baf_row0_col7, #T_63baf_row1_col7, #T_63baf_row2_col7, #T_63baf_row3_col7, #T_63baf_row4_col7, #T_63baf_row5_col7, #T_63baf_row6_col7, #T_63baf_row8_col7, #T_63baf_row9_col7, #T_63baf_row10_col7, #T_63baf_row11_col7, #T_63baf_row12_col7, #T_63baf_row13_col7, #T_63baf_row14_col7, #T_63baf_row15_col7, #T_63baf_row16_col7, #T_63baf_row17_col7, #T_63baf_row18_col7 {\n",
              "  text-align: left;\n",
              "  background-color: lightgrey;\n",
              "}\n",
              "#T_63baf_row7_col7 {\n",
              "  text-align: left;\n",
              "  background-color: yellow;\n",
              "  background-color: lightgrey;\n",
              "}\n",
              "</style>\n",
              "<table id=\"T_63baf_\" class=\"dataframe\">\n",
              "  <thead>\n",
              "    <tr>\n",
              "      <th class=\"blank level0\" >&nbsp;</th>\n",
              "      <th class=\"col_heading level0 col0\" >Model</th>\n",
              "      <th class=\"col_heading level0 col1\" >MAE</th>\n",
              "      <th class=\"col_heading level0 col2\" >MSE</th>\n",
              "      <th class=\"col_heading level0 col3\" >RMSE</th>\n",
              "      <th class=\"col_heading level0 col4\" >R2</th>\n",
              "      <th class=\"col_heading level0 col5\" >RMSLE</th>\n",
              "      <th class=\"col_heading level0 col6\" >MAPE</th>\n",
              "      <th class=\"col_heading level0 col7\" >TT (Sec)</th>\n",
              "    </tr>\n",
              "  </thead>\n",
              "  <tbody>\n",
              "    <tr>\n",
              "      <th id=\"T_63baf_level0_row0\" class=\"row_heading level0 row0\" >lr</th>\n",
              "      <td id=\"T_63baf_row0_col0\" class=\"data row0 col0\" >Linear Regression</td>\n",
              "      <td id=\"T_63baf_row0_col1\" class=\"data row0 col1\" >0.0446</td>\n",
              "      <td id=\"T_63baf_row0_col2\" class=\"data row0 col2\" >0.0074</td>\n",
              "      <td id=\"T_63baf_row0_col3\" class=\"data row0 col3\" >0.0723</td>\n",
              "      <td id=\"T_63baf_row0_col4\" class=\"data row0 col4\" >1.0000</td>\n",
              "      <td id=\"T_63baf_row0_col5\" class=\"data row0 col5\" >0.0000</td>\n",
              "      <td id=\"T_63baf_row0_col6\" class=\"data row0 col6\" >0.0000</td>\n",
              "      <td id=\"T_63baf_row0_col7\" class=\"data row0 col7\" >0.4870</td>\n",
              "    </tr>\n",
              "    <tr>\n",
              "      <th id=\"T_63baf_level0_row1\" class=\"row_heading level0 row1\" >ridge</th>\n",
              "      <td id=\"T_63baf_row1_col0\" class=\"data row1 col0\" >Ridge Regression</td>\n",
              "      <td id=\"T_63baf_row1_col1\" class=\"data row1 col1\" >0.0445</td>\n",
              "      <td id=\"T_63baf_row1_col2\" class=\"data row1 col2\" >0.0074</td>\n",
              "      <td id=\"T_63baf_row1_col3\" class=\"data row1 col3\" >0.0722</td>\n",
              "      <td id=\"T_63baf_row1_col4\" class=\"data row1 col4\" >1.0000</td>\n",
              "      <td id=\"T_63baf_row1_col5\" class=\"data row1 col5\" >0.0000</td>\n",
              "      <td id=\"T_63baf_row1_col6\" class=\"data row1 col6\" >0.0000</td>\n",
              "      <td id=\"T_63baf_row1_col7\" class=\"data row1 col7\" >0.0530</td>\n",
              "    </tr>\n",
              "    <tr>\n",
              "      <th id=\"T_63baf_level0_row2\" class=\"row_heading level0 row2\" >lar</th>\n",
              "      <td id=\"T_63baf_row2_col0\" class=\"data row2 col0\" >Least Angle Regression</td>\n",
              "      <td id=\"T_63baf_row2_col1\" class=\"data row2 col1\" >0.0470</td>\n",
              "      <td id=\"T_63baf_row2_col2\" class=\"data row2 col2\" >0.0079</td>\n",
              "      <td id=\"T_63baf_row2_col3\" class=\"data row2 col3\" >0.0749</td>\n",
              "      <td id=\"T_63baf_row2_col4\" class=\"data row2 col4\" >1.0000</td>\n",
              "      <td id=\"T_63baf_row2_col5\" class=\"data row2 col5\" >0.0000</td>\n",
              "      <td id=\"T_63baf_row2_col6\" class=\"data row2 col6\" >0.0000</td>\n",
              "      <td id=\"T_63baf_row2_col7\" class=\"data row2 col7\" >0.0480</td>\n",
              "    </tr>\n",
              "    <tr>\n",
              "      <th id=\"T_63baf_level0_row3\" class=\"row_heading level0 row3\" >llar</th>\n",
              "      <td id=\"T_63baf_row3_col0\" class=\"data row3 col0\" >Lasso Least Angle Regression</td>\n",
              "      <td id=\"T_63baf_row3_col1\" class=\"data row3 col1\" >0.0394</td>\n",
              "      <td id=\"T_63baf_row3_col2\" class=\"data row3 col2\" >0.0062</td>\n",
              "      <td id=\"T_63baf_row3_col3\" class=\"data row3 col3\" >0.0663</td>\n",
              "      <td id=\"T_63baf_row3_col4\" class=\"data row3 col4\" >1.0000</td>\n",
              "      <td id=\"T_63baf_row3_col5\" class=\"data row3 col5\" >0.0000</td>\n",
              "      <td id=\"T_63baf_row3_col6\" class=\"data row3 col6\" >0.0000</td>\n",
              "      <td id=\"T_63baf_row3_col7\" class=\"data row3 col7\" >0.0660</td>\n",
              "    </tr>\n",
              "    <tr>\n",
              "      <th id=\"T_63baf_level0_row4\" class=\"row_heading level0 row4\" >br</th>\n",
              "      <td id=\"T_63baf_row4_col0\" class=\"data row4 col0\" >Bayesian Ridge</td>\n",
              "      <td id=\"T_63baf_row4_col1\" class=\"data row4 col1\" >0.0446</td>\n",
              "      <td id=\"T_63baf_row4_col2\" class=\"data row4 col2\" >0.0074</td>\n",
              "      <td id=\"T_63baf_row4_col3\" class=\"data row4 col3\" >0.0723</td>\n",
              "      <td id=\"T_63baf_row4_col4\" class=\"data row4 col4\" >1.0000</td>\n",
              "      <td id=\"T_63baf_row4_col5\" class=\"data row4 col5\" >0.0000</td>\n",
              "      <td id=\"T_63baf_row4_col6\" class=\"data row4 col6\" >0.0000</td>\n",
              "      <td id=\"T_63baf_row4_col7\" class=\"data row4 col7\" >0.0850</td>\n",
              "    </tr>\n",
              "    <tr>\n",
              "      <th id=\"T_63baf_level0_row5\" class=\"row_heading level0 row5\" >par</th>\n",
              "      <td id=\"T_63baf_row5_col0\" class=\"data row5 col0\" >Passive Aggressive Regressor</td>\n",
              "      <td id=\"T_63baf_row5_col1\" class=\"data row5 col1\" >99.4826</td>\n",
              "      <td id=\"T_63baf_row5_col2\" class=\"data row5 col2\" >42970.2614</td>\n",
              "      <td id=\"T_63baf_row5_col3\" class=\"data row5 col3\" >153.5504</td>\n",
              "      <td id=\"T_63baf_row5_col4\" class=\"data row5 col4\" >1.0000</td>\n",
              "      <td id=\"T_63baf_row5_col5\" class=\"data row5 col5\" >0.0019</td>\n",
              "      <td id=\"T_63baf_row5_col6\" class=\"data row5 col6\" >0.0011</td>\n",
              "      <td id=\"T_63baf_row5_col7\" class=\"data row5 col7\" >0.0950</td>\n",
              "    </tr>\n",
              "    <tr>\n",
              "      <th id=\"T_63baf_level0_row6\" class=\"row_heading level0 row6\" >huber</th>\n",
              "      <td id=\"T_63baf_row6_col0\" class=\"data row6 col0\" >Huber Regressor</td>\n",
              "      <td id=\"T_63baf_row6_col1\" class=\"data row6 col1\" >0.0665</td>\n",
              "      <td id=\"T_63baf_row6_col2\" class=\"data row6 col2\" >0.0111</td>\n",
              "      <td id=\"T_63baf_row6_col3\" class=\"data row6 col3\" >0.0927</td>\n",
              "      <td id=\"T_63baf_row6_col4\" class=\"data row6 col4\" >1.0000</td>\n",
              "      <td id=\"T_63baf_row6_col5\" class=\"data row6 col5\" >0.0000</td>\n",
              "      <td id=\"T_63baf_row6_col6\" class=\"data row6 col6\" >0.0000</td>\n",
              "      <td id=\"T_63baf_row6_col7\" class=\"data row6 col7\" >0.1080</td>\n",
              "    </tr>\n",
              "    <tr>\n",
              "      <th id=\"T_63baf_level0_row7\" class=\"row_heading level0 row7\" >en</th>\n",
              "      <td id=\"T_63baf_row7_col0\" class=\"data row7 col0\" >Elastic Net</td>\n",
              "      <td id=\"T_63baf_row7_col1\" class=\"data row7 col1\" >6591.6920</td>\n",
              "      <td id=\"T_63baf_row7_col2\" class=\"data row7 col2\" >79198477.0187</td>\n",
              "      <td id=\"T_63baf_row7_col3\" class=\"data row7 col3\" >8103.7242</td>\n",
              "      <td id=\"T_63baf_row7_col4\" class=\"data row7 col4\" >0.9987</td>\n",
              "      <td id=\"T_63baf_row7_col5\" class=\"data row7 col5\" >0.2946</td>\n",
              "      <td id=\"T_63baf_row7_col6\" class=\"data row7 col6\" >0.5179</td>\n",
              "      <td id=\"T_63baf_row7_col7\" class=\"data row7 col7\" >0.0430</td>\n",
              "    </tr>\n",
              "    <tr>\n",
              "      <th id=\"T_63baf_level0_row8\" class=\"row_heading level0 row8\" >lasso</th>\n",
              "      <td id=\"T_63baf_row8_col0\" class=\"data row8 col0\" >Lasso Regression</td>\n",
              "      <td id=\"T_63baf_row8_col1\" class=\"data row8 col1\" >6985.4503</td>\n",
              "      <td id=\"T_63baf_row8_col2\" class=\"data row8 col2\" >88575959.2734</td>\n",
              "      <td id=\"T_63baf_row8_col3\" class=\"data row8 col3\" >8629.1088</td>\n",
              "      <td id=\"T_63baf_row8_col4\" class=\"data row8 col4\" >0.9986</td>\n",
              "      <td id=\"T_63baf_row8_col5\" class=\"data row8 col5\" >0.3355</td>\n",
              "      <td id=\"T_63baf_row8_col6\" class=\"data row8 col6\" >0.5274</td>\n",
              "      <td id=\"T_63baf_row8_col7\" class=\"data row8 col7\" >0.0440</td>\n",
              "    </tr>\n",
              "    <tr>\n",
              "      <th id=\"T_63baf_level0_row9\" class=\"row_heading level0 row9\" >et</th>\n",
              "      <td id=\"T_63baf_row9_col0\" class=\"data row9 col0\" >Extra Trees Regressor</td>\n",
              "      <td id=\"T_63baf_row9_col1\" class=\"data row9 col1\" >63762.1642</td>\n",
              "      <td id=\"T_63baf_row9_col2\" class=\"data row9 col2\" >10550514574.9109</td>\n",
              "      <td id=\"T_63baf_row9_col3\" class=\"data row9 col3\" >93568.4784</td>\n",
              "      <td id=\"T_63baf_row9_col4\" class=\"data row9 col4\" >0.8162</td>\n",
              "      <td id=\"T_63baf_row9_col5\" class=\"data row9 col5\" >0.3781</td>\n",
              "      <td id=\"T_63baf_row9_col6\" class=\"data row9 col6\" >0.5041</td>\n",
              "      <td id=\"T_63baf_row9_col7\" class=\"data row9 col7\" >0.6110</td>\n",
              "    </tr>\n",
              "    <tr>\n",
              "      <th id=\"T_63baf_level0_row10\" class=\"row_heading level0 row10\" >xgboost</th>\n",
              "      <td id=\"T_63baf_row10_col0\" class=\"data row10 col0\" >Extreme Gradient Boosting</td>\n",
              "      <td id=\"T_63baf_row10_col1\" class=\"data row10 col1\" >77158.0816</td>\n",
              "      <td id=\"T_63baf_row10_col2\" class=\"data row10 col2\" >13601460224.0000</td>\n",
              "      <td id=\"T_63baf_row10_col3\" class=\"data row10 col3\" >105425.7113</td>\n",
              "      <td id=\"T_63baf_row10_col4\" class=\"data row10 col4\" >0.7996</td>\n",
              "      <td id=\"T_63baf_row10_col5\" class=\"data row10 col5\" >0.3892</td>\n",
              "      <td id=\"T_63baf_row10_col6\" class=\"data row10 col6\" >0.4743</td>\n",
              "      <td id=\"T_63baf_row10_col7\" class=\"data row10 col7\" >0.4050</td>\n",
              "    </tr>\n",
              "    <tr>\n",
              "      <th id=\"T_63baf_level0_row11\" class=\"row_heading level0 row11\" >gbr</th>\n",
              "      <td id=\"T_63baf_row11_col0\" class=\"data row11 col0\" >Gradient Boosting Regressor</td>\n",
              "      <td id=\"T_63baf_row11_col1\" class=\"data row11 col1\" >72522.4296</td>\n",
              "      <td id=\"T_63baf_row11_col2\" class=\"data row11 col2\" >14273755847.6186</td>\n",
              "      <td id=\"T_63baf_row11_col3\" class=\"data row11 col3\" >106801.1361</td>\n",
              "      <td id=\"T_63baf_row11_col4\" class=\"data row11 col4\" >0.7989</td>\n",
              "      <td id=\"T_63baf_row11_col5\" class=\"data row11 col5\" >0.3361</td>\n",
              "      <td id=\"T_63baf_row11_col6\" class=\"data row11 col6\" >0.3269</td>\n",
              "      <td id=\"T_63baf_row11_col7\" class=\"data row11 col7\" >0.4400</td>\n",
              "    </tr>\n",
              "    <tr>\n",
              "      <th id=\"T_63baf_level0_row12\" class=\"row_heading level0 row12\" >ada</th>\n",
              "      <td id=\"T_63baf_row12_col0\" class=\"data row12 col0\" >AdaBoost Regressor</td>\n",
              "      <td id=\"T_63baf_row12_col1\" class=\"data row12 col1\" >109773.6634</td>\n",
              "      <td id=\"T_63baf_row12_col2\" class=\"data row12 col2\" >23643135316.4519</td>\n",
              "      <td id=\"T_63baf_row12_col3\" class=\"data row12 col3\" >139537.2813</td>\n",
              "      <td id=\"T_63baf_row12_col4\" class=\"data row12 col4\" >0.7206</td>\n",
              "      <td id=\"T_63baf_row12_col5\" class=\"data row12 col5\" >0.7425</td>\n",
              "      <td id=\"T_63baf_row12_col6\" class=\"data row12 col6\" >1.9363</td>\n",
              "      <td id=\"T_63baf_row12_col7\" class=\"data row12 col7\" >0.3080</td>\n",
              "    </tr>\n",
              "    <tr>\n",
              "      <th id=\"T_63baf_level0_row13\" class=\"row_heading level0 row13\" >rf</th>\n",
              "      <td id=\"T_63baf_row13_col0\" class=\"data row13 col0\" >Random Forest Regressor</td>\n",
              "      <td id=\"T_63baf_row13_col1\" class=\"data row13 col1\" >104511.9923</td>\n",
              "      <td id=\"T_63baf_row13_col2\" class=\"data row13 col2\" >23428604412.0146</td>\n",
              "      <td id=\"T_63baf_row13_col3\" class=\"data row13 col3\" >143862.8491</td>\n",
              "      <td id=\"T_63baf_row13_col4\" class=\"data row13 col4\" >0.6834</td>\n",
              "      <td id=\"T_63baf_row13_col5\" class=\"data row13 col5\" >0.4613</td>\n",
              "      <td id=\"T_63baf_row13_col6\" class=\"data row13 col6\" >0.6121</td>\n",
              "      <td id=\"T_63baf_row13_col7\" class=\"data row13 col7\" >0.4620</td>\n",
              "    </tr>\n",
              "    <tr>\n",
              "      <th id=\"T_63baf_level0_row14\" class=\"row_heading level0 row14\" >dt</th>\n",
              "      <td id=\"T_63baf_row14_col0\" class=\"data row14 col0\" >Decision Tree Regressor</td>\n",
              "      <td id=\"T_63baf_row14_col1\" class=\"data row14 col1\" >117688.2629</td>\n",
              "      <td id=\"T_63baf_row14_col2\" class=\"data row14 col2\" >31614011482.4900</td>\n",
              "      <td id=\"T_63baf_row14_col3\" class=\"data row14 col3\" >162175.3515</td>\n",
              "      <td id=\"T_63baf_row14_col4\" class=\"data row14 col4\" >0.6694</td>\n",
              "      <td id=\"T_63baf_row14_col5\" class=\"data row14 col5\" >0.5838</td>\n",
              "      <td id=\"T_63baf_row14_col6\" class=\"data row14 col6\" >0.7263</td>\n",
              "      <td id=\"T_63baf_row14_col7\" class=\"data row14 col7\" >0.0760</td>\n",
              "    </tr>\n",
              "    <tr>\n",
              "      <th id=\"T_63baf_level0_row15\" class=\"row_heading level0 row15\" >lightgbm</th>\n",
              "      <td id=\"T_63baf_row15_col0\" class=\"data row15 col0\" >Light Gradient Boosting Machine</td>\n",
              "      <td id=\"T_63baf_row15_col1\" class=\"data row15 col1\" >143392.1755</td>\n",
              "      <td id=\"T_63baf_row15_col2\" class=\"data row15 col2\" >41811490603.4612</td>\n",
              "      <td id=\"T_63baf_row15_col3\" class=\"data row15 col3\" >190935.7061</td>\n",
              "      <td id=\"T_63baf_row15_col4\" class=\"data row15 col4\" >0.6323</td>\n",
              "      <td id=\"T_63baf_row15_col5\" class=\"data row15 col5\" >1.0960</td>\n",
              "      <td id=\"T_63baf_row15_col6\" class=\"data row15 col6\" >1.3495</td>\n",
              "      <td id=\"T_63baf_row15_col7\" class=\"data row15 col7\" >0.2990</td>\n",
              "    </tr>\n",
              "    <tr>\n",
              "      <th id=\"T_63baf_level0_row16\" class=\"row_heading level0 row16\" >omp</th>\n",
              "      <td id=\"T_63baf_row16_col0\" class=\"data row16 col0\" >Orthogonal Matching Pursuit</td>\n",
              "      <td id=\"T_63baf_row16_col1\" class=\"data row16 col1\" >145326.4659</td>\n",
              "      <td id=\"T_63baf_row16_col2\" class=\"data row16 col2\" >38879911970.3181</td>\n",
              "      <td id=\"T_63baf_row16_col3\" class=\"data row16 col3\" >192525.1255</td>\n",
              "      <td id=\"T_63baf_row16_col4\" class=\"data row16 col4\" >0.6085</td>\n",
              "      <td id=\"T_63baf_row16_col5\" class=\"data row16 col5\" >0.8402</td>\n",
              "      <td id=\"T_63baf_row16_col6\" class=\"data row16 col6\" >2.2112</td>\n",
              "      <td id=\"T_63baf_row16_col7\" class=\"data row16 col7\" >0.0670</td>\n",
              "    </tr>\n",
              "    <tr>\n",
              "      <th id=\"T_63baf_level0_row17\" class=\"row_heading level0 row17\" >knn</th>\n",
              "      <td id=\"T_63baf_row17_col0\" class=\"data row17 col0\" >K Neighbors Regressor</td>\n",
              "      <td id=\"T_63baf_row17_col1\" class=\"data row17 col1\" >126619.5316</td>\n",
              "      <td id=\"T_63baf_row17_col2\" class=\"data row17 col2\" >40519199129.6000</td>\n",
              "      <td id=\"T_63baf_row17_col3\" class=\"data row17 col3\" >192553.4016</td>\n",
              "      <td id=\"T_63baf_row17_col4\" class=\"data row17 col4\" >0.5586</td>\n",
              "      <td id=\"T_63baf_row17_col5\" class=\"data row17 col5\" >0.3862</td>\n",
              "      <td id=\"T_63baf_row17_col6\" class=\"data row17 col6\" >0.4183</td>\n",
              "      <td id=\"T_63baf_row17_col7\" class=\"data row17 col7\" >0.0730</td>\n",
              "    </tr>\n",
              "    <tr>\n",
              "      <th id=\"T_63baf_level0_row18\" class=\"row_heading level0 row18\" >dummy</th>\n",
              "      <td id=\"T_63baf_row18_col0\" class=\"data row18 col0\" >Dummy Regressor</td>\n",
              "      <td id=\"T_63baf_row18_col1\" class=\"data row18 col1\" >343229.0453</td>\n",
              "      <td id=\"T_63baf_row18_col2\" class=\"data row18 col2\" >192653916979.2000</td>\n",
              "      <td id=\"T_63baf_row18_col3\" class=\"data row18 col3\" >417337.6641</td>\n",
              "      <td id=\"T_63baf_row18_col4\" class=\"data row18 col4\" >-0.4698</td>\n",
              "      <td id=\"T_63baf_row18_col5\" class=\"data row18 col5\" >1.5536</td>\n",
              "      <td id=\"T_63baf_row18_col6\" class=\"data row18 col6\" >10.4357</td>\n",
              "      <td id=\"T_63baf_row18_col7\" class=\"data row18 col7\" >0.1010</td>\n",
              "    </tr>\n",
              "  </tbody>\n",
              "</table>\n"
            ]
          },
          "metadata": {}
        },
        {
          "output_type": "display_data",
          "data": {
            "text/plain": [
              "Processing:   0%|          | 0/81 [00:00<?, ?it/s]"
            ],
            "application/vnd.jupyter.widget-view+json": {
              "version_major": 2,
              "version_minor": 0,
              "model_id": "14122eab44b54b6db5b8e712d785e468"
            }
          },
          "metadata": {
            "application/vnd.jupyter.widget-view+json": {
              "colab": {
                "custom_widget_manager": {
                  "url": "https://ssl.gstatic.com/colaboratory-static/widgets/colab-cdn-widget-manager/b3e629b1971e1542/manager.min.js"
                }
              }
            }
          }
        },
        {
          "output_type": "display_data",
          "data": {
            "text/plain": [
              "<IPython.core.display.HTML object>"
            ],
            "text/html": []
          },
          "metadata": {}
        },
        {
          "output_type": "execute_result",
          "data": {
            "text/plain": [
              "LinearRegression(n_jobs=-1)"
            ],
            "text/html": [
              "<style>#sk-container-id-3 {color: black;background-color: white;}#sk-container-id-3 pre{padding: 0;}#sk-container-id-3 div.sk-toggleable {background-color: white;}#sk-container-id-3 label.sk-toggleable__label {cursor: pointer;display: block;width: 100%;margin-bottom: 0;padding: 0.3em;box-sizing: border-box;text-align: center;}#sk-container-id-3 label.sk-toggleable__label-arrow:before {content: \"▸\";float: left;margin-right: 0.25em;color: #696969;}#sk-container-id-3 label.sk-toggleable__label-arrow:hover:before {color: black;}#sk-container-id-3 div.sk-estimator:hover label.sk-toggleable__label-arrow:before {color: black;}#sk-container-id-3 div.sk-toggleable__content {max-height: 0;max-width: 0;overflow: hidden;text-align: left;background-color: #f0f8ff;}#sk-container-id-3 div.sk-toggleable__content pre {margin: 0.2em;color: black;border-radius: 0.25em;background-color: #f0f8ff;}#sk-container-id-3 input.sk-toggleable__control:checked~div.sk-toggleable__content {max-height: 200px;max-width: 100%;overflow: auto;}#sk-container-id-3 input.sk-toggleable__control:checked~label.sk-toggleable__label-arrow:before {content: \"▾\";}#sk-container-id-3 div.sk-estimator input.sk-toggleable__control:checked~label.sk-toggleable__label {background-color: #d4ebff;}#sk-container-id-3 div.sk-label input.sk-toggleable__control:checked~label.sk-toggleable__label {background-color: #d4ebff;}#sk-container-id-3 input.sk-hidden--visually {border: 0;clip: rect(1px 1px 1px 1px);clip: rect(1px, 1px, 1px, 1px);height: 1px;margin: -1px;overflow: hidden;padding: 0;position: absolute;width: 1px;}#sk-container-id-3 div.sk-estimator {font-family: monospace;background-color: #f0f8ff;border: 1px dotted black;border-radius: 0.25em;box-sizing: border-box;margin-bottom: 0.5em;}#sk-container-id-3 div.sk-estimator:hover {background-color: #d4ebff;}#sk-container-id-3 div.sk-parallel-item::after {content: \"\";width: 100%;border-bottom: 1px solid gray;flex-grow: 1;}#sk-container-id-3 div.sk-label:hover label.sk-toggleable__label {background-color: #d4ebff;}#sk-container-id-3 div.sk-serial::before {content: \"\";position: absolute;border-left: 1px solid gray;box-sizing: border-box;top: 0;bottom: 0;left: 50%;z-index: 0;}#sk-container-id-3 div.sk-serial {display: flex;flex-direction: column;align-items: center;background-color: white;padding-right: 0.2em;padding-left: 0.2em;position: relative;}#sk-container-id-3 div.sk-item {position: relative;z-index: 1;}#sk-container-id-3 div.sk-parallel {display: flex;align-items: stretch;justify-content: center;background-color: white;position: relative;}#sk-container-id-3 div.sk-item::before, #sk-container-id-3 div.sk-parallel-item::before {content: \"\";position: absolute;border-left: 1px solid gray;box-sizing: border-box;top: 0;bottom: 0;left: 50%;z-index: -1;}#sk-container-id-3 div.sk-parallel-item {display: flex;flex-direction: column;z-index: 1;position: relative;background-color: white;}#sk-container-id-3 div.sk-parallel-item:first-child::after {align-self: flex-end;width: 50%;}#sk-container-id-3 div.sk-parallel-item:last-child::after {align-self: flex-start;width: 50%;}#sk-container-id-3 div.sk-parallel-item:only-child::after {width: 0;}#sk-container-id-3 div.sk-dashed-wrapped {border: 1px dashed gray;margin: 0 0.4em 0.5em 0.4em;box-sizing: border-box;padding-bottom: 0.4em;background-color: white;}#sk-container-id-3 div.sk-label label {font-family: monospace;font-weight: bold;display: inline-block;line-height: 1.2em;}#sk-container-id-3 div.sk-label-container {text-align: center;}#sk-container-id-3 div.sk-container {/* jupyter's `normalize.less` sets `[hidden] { display: none; }` but bootstrap.min.css set `[hidden] { display: none !important; }` so we also need the `!important` here to be able to override the default hidden behavior on the sphinx rendered scikit-learn.org. See: https://github.com/scikit-learn/scikit-learn/issues/21755 */display: inline-block !important;position: relative;}#sk-container-id-3 div.sk-text-repr-fallback {display: none;}</style><div id=\"sk-container-id-3\" class=\"sk-top-container\"><div class=\"sk-text-repr-fallback\"><pre>LinearRegression(n_jobs=-1)</pre><b>In a Jupyter environment, please rerun this cell to show the HTML representation or trust the notebook. <br />On GitHub, the HTML representation is unable to render, please try loading this page with nbviewer.org.</b></div><div class=\"sk-container\" hidden><div class=\"sk-item\"><div class=\"sk-estimator sk-toggleable\"><input class=\"sk-toggleable__control sk-hidden--visually\" id=\"sk-estimator-id-3\" type=\"checkbox\" checked><label for=\"sk-estimator-id-3\" class=\"sk-toggleable__label sk-toggleable__label-arrow\">LinearRegression</label><div class=\"sk-toggleable__content\"><pre>LinearRegression(n_jobs=-1)</pre></div></div></div></div></div>"
            ]
          },
          "metadata": {},
          "execution_count": 115
        }
      ]
    },
    {
      "cell_type": "code",
      "source": [
        "# Using Lasso Least Angle Regression algorithm to train model \n",
        "llar_model = create_model('llar')"
      ],
      "metadata": {
        "colab": {
          "base_uri": "https://localhost:8080/",
          "height": 457,
          "referenced_widgets": [
            "a42bc603c8124eac83752771fe227924",
            "a8f9dc11f9ca47c48c7867601fa99b21",
            "21783f0ff3534cf7b1ed1b6886aed152",
            "7013335c460f49079011df48ea676119",
            "9464d9f4e75b4b94a568cb3de3707ace",
            "b72965e084f44004b9e317fb79db4940",
            "65de1b782040470b8bf27c759068774b",
            "f02237156dfe4dbeb4220af18530be39",
            "bce73ba6104148d98525ed4fc15c8476",
            "34abb2af7c224eeba4e40eca157a3f1f",
            "27f83b2cfb664ac381ec78c6905c642a"
          ]
        },
        "id": "jCzEO_bOmbyM",
        "outputId": "b0c4796c-6e62-4492-e79c-235d1836d987"
      },
      "execution_count": 116,
      "outputs": [
        {
          "output_type": "display_data",
          "data": {
            "text/plain": [
              "<IPython.core.display.HTML object>"
            ],
            "text/html": []
          },
          "metadata": {}
        },
        {
          "output_type": "display_data",
          "data": {
            "text/plain": [
              "<pandas.io.formats.style.Styler at 0x7fcc5a75c190>"
            ],
            "text/html": [
              "<style type=\"text/css\">\n",
              "#T_6d79f_row10_col0, #T_6d79f_row10_col1, #T_6d79f_row10_col2, #T_6d79f_row10_col3, #T_6d79f_row10_col4, #T_6d79f_row10_col5 {\n",
              "  background: yellow;\n",
              "}\n",
              "</style>\n",
              "<table id=\"T_6d79f_\" class=\"dataframe\">\n",
              "  <thead>\n",
              "    <tr>\n",
              "      <th class=\"blank level0\" >&nbsp;</th>\n",
              "      <th class=\"col_heading level0 col0\" >MAE</th>\n",
              "      <th class=\"col_heading level0 col1\" >MSE</th>\n",
              "      <th class=\"col_heading level0 col2\" >RMSE</th>\n",
              "      <th class=\"col_heading level0 col3\" >R2</th>\n",
              "      <th class=\"col_heading level0 col4\" >RMSLE</th>\n",
              "      <th class=\"col_heading level0 col5\" >MAPE</th>\n",
              "    </tr>\n",
              "    <tr>\n",
              "      <th class=\"index_name level0\" >Fold</th>\n",
              "      <th class=\"blank col0\" >&nbsp;</th>\n",
              "      <th class=\"blank col1\" >&nbsp;</th>\n",
              "      <th class=\"blank col2\" >&nbsp;</th>\n",
              "      <th class=\"blank col3\" >&nbsp;</th>\n",
              "      <th class=\"blank col4\" >&nbsp;</th>\n",
              "      <th class=\"blank col5\" >&nbsp;</th>\n",
              "    </tr>\n",
              "  </thead>\n",
              "  <tbody>\n",
              "    <tr>\n",
              "      <th id=\"T_6d79f_level0_row0\" class=\"row_heading level0 row0\" >0</th>\n",
              "      <td id=\"T_6d79f_row0_col0\" class=\"data row0 col0\" >0.0215</td>\n",
              "      <td id=\"T_6d79f_row0_col1\" class=\"data row0 col1\" >0.0008</td>\n",
              "      <td id=\"T_6d79f_row0_col2\" class=\"data row0 col2\" >0.0281</td>\n",
              "      <td id=\"T_6d79f_row0_col3\" class=\"data row0 col3\" >1.0000</td>\n",
              "      <td id=\"T_6d79f_row0_col4\" class=\"data row0 col4\" >0.0000</td>\n",
              "      <td id=\"T_6d79f_row0_col5\" class=\"data row0 col5\" >0.0000</td>\n",
              "    </tr>\n",
              "    <tr>\n",
              "      <th id=\"T_6d79f_level0_row1\" class=\"row_heading level0 row1\" >1</th>\n",
              "      <td id=\"T_6d79f_row1_col0\" class=\"data row1 col0\" >0.0759</td>\n",
              "      <td id=\"T_6d79f_row1_col1\" class=\"data row1 col1\" >0.0173</td>\n",
              "      <td id=\"T_6d79f_row1_col2\" class=\"data row1 col2\" >0.1315</td>\n",
              "      <td id=\"T_6d79f_row1_col3\" class=\"data row1 col3\" >1.0000</td>\n",
              "      <td id=\"T_6d79f_row1_col4\" class=\"data row1 col4\" >0.0000</td>\n",
              "      <td id=\"T_6d79f_row1_col5\" class=\"data row1 col5\" >0.0000</td>\n",
              "    </tr>\n",
              "    <tr>\n",
              "      <th id=\"T_6d79f_level0_row2\" class=\"row_heading level0 row2\" >2</th>\n",
              "      <td id=\"T_6d79f_row2_col0\" class=\"data row2 col0\" >0.0202</td>\n",
              "      <td id=\"T_6d79f_row2_col1\" class=\"data row2 col1\" >0.0008</td>\n",
              "      <td id=\"T_6d79f_row2_col2\" class=\"data row2 col2\" >0.0289</td>\n",
              "      <td id=\"T_6d79f_row2_col3\" class=\"data row2 col3\" >1.0000</td>\n",
              "      <td id=\"T_6d79f_row2_col4\" class=\"data row2 col4\" >0.0000</td>\n",
              "      <td id=\"T_6d79f_row2_col5\" class=\"data row2 col5\" >0.0000</td>\n",
              "    </tr>\n",
              "    <tr>\n",
              "      <th id=\"T_6d79f_level0_row3\" class=\"row_heading level0 row3\" >3</th>\n",
              "      <td id=\"T_6d79f_row3_col0\" class=\"data row3 col0\" >0.0704</td>\n",
              "      <td id=\"T_6d79f_row3_col1\" class=\"data row3 col1\" >0.0184</td>\n",
              "      <td id=\"T_6d79f_row3_col2\" class=\"data row3 col2\" >0.1356</td>\n",
              "      <td id=\"T_6d79f_row3_col3\" class=\"data row3 col3\" >1.0000</td>\n",
              "      <td id=\"T_6d79f_row3_col4\" class=\"data row3 col4\" >0.0000</td>\n",
              "      <td id=\"T_6d79f_row3_col5\" class=\"data row3 col5\" >0.0000</td>\n",
              "    </tr>\n",
              "    <tr>\n",
              "      <th id=\"T_6d79f_level0_row4\" class=\"row_heading level0 row4\" >4</th>\n",
              "      <td id=\"T_6d79f_row4_col0\" class=\"data row4 col0\" >0.0169</td>\n",
              "      <td id=\"T_6d79f_row4_col1\" class=\"data row4 col1\" >0.0004</td>\n",
              "      <td id=\"T_6d79f_row4_col2\" class=\"data row4 col2\" >0.0192</td>\n",
              "      <td id=\"T_6d79f_row4_col3\" class=\"data row4 col3\" >1.0000</td>\n",
              "      <td id=\"T_6d79f_row4_col4\" class=\"data row4 col4\" >0.0000</td>\n",
              "      <td id=\"T_6d79f_row4_col5\" class=\"data row4 col5\" >0.0000</td>\n",
              "    </tr>\n",
              "    <tr>\n",
              "      <th id=\"T_6d79f_level0_row5\" class=\"row_heading level0 row5\" >5</th>\n",
              "      <td id=\"T_6d79f_row5_col0\" class=\"data row5 col0\" >0.0671</td>\n",
              "      <td id=\"T_6d79f_row5_col1\" class=\"data row5 col1\" >0.0099</td>\n",
              "      <td id=\"T_6d79f_row5_col2\" class=\"data row5 col2\" >0.0996</td>\n",
              "      <td id=\"T_6d79f_row5_col3\" class=\"data row5 col3\" >1.0000</td>\n",
              "      <td id=\"T_6d79f_row5_col4\" class=\"data row5 col4\" >0.0000</td>\n",
              "      <td id=\"T_6d79f_row5_col5\" class=\"data row5 col5\" >0.0000</td>\n",
              "    </tr>\n",
              "    <tr>\n",
              "      <th id=\"T_6d79f_level0_row6\" class=\"row_heading level0 row6\" >6</th>\n",
              "      <td id=\"T_6d79f_row6_col0\" class=\"data row6 col0\" >0.0178</td>\n",
              "      <td id=\"T_6d79f_row6_col1\" class=\"data row6 col1\" >0.0010</td>\n",
              "      <td id=\"T_6d79f_row6_col2\" class=\"data row6 col2\" >0.0308</td>\n",
              "      <td id=\"T_6d79f_row6_col3\" class=\"data row6 col3\" >1.0000</td>\n",
              "      <td id=\"T_6d79f_row6_col4\" class=\"data row6 col4\" >0.0000</td>\n",
              "      <td id=\"T_6d79f_row6_col5\" class=\"data row6 col5\" >0.0000</td>\n",
              "    </tr>\n",
              "    <tr>\n",
              "      <th id=\"T_6d79f_level0_row7\" class=\"row_heading level0 row7\" >7</th>\n",
              "      <td id=\"T_6d79f_row7_col0\" class=\"data row7 col0\" >0.0418</td>\n",
              "      <td id=\"T_6d79f_row7_col1\" class=\"data row7 col1\" >0.0066</td>\n",
              "      <td id=\"T_6d79f_row7_col2\" class=\"data row7 col2\" >0.0811</td>\n",
              "      <td id=\"T_6d79f_row7_col3\" class=\"data row7 col3\" >1.0000</td>\n",
              "      <td id=\"T_6d79f_row7_col4\" class=\"data row7 col4\" >0.0000</td>\n",
              "      <td id=\"T_6d79f_row7_col5\" class=\"data row7 col5\" >0.0000</td>\n",
              "    </tr>\n",
              "    <tr>\n",
              "      <th id=\"T_6d79f_level0_row8\" class=\"row_heading level0 row8\" >8</th>\n",
              "      <td id=\"T_6d79f_row8_col0\" class=\"data row8 col0\" >0.0207</td>\n",
              "      <td id=\"T_6d79f_row8_col1\" class=\"data row8 col1\" >0.0008</td>\n",
              "      <td id=\"T_6d79f_row8_col2\" class=\"data row8 col2\" >0.0279</td>\n",
              "      <td id=\"T_6d79f_row8_col3\" class=\"data row8 col3\" >1.0000</td>\n",
              "      <td id=\"T_6d79f_row8_col4\" class=\"data row8 col4\" >0.0000</td>\n",
              "      <td id=\"T_6d79f_row8_col5\" class=\"data row8 col5\" >0.0000</td>\n",
              "    </tr>\n",
              "    <tr>\n",
              "      <th id=\"T_6d79f_level0_row9\" class=\"row_heading level0 row9\" >9</th>\n",
              "      <td id=\"T_6d79f_row9_col0\" class=\"data row9 col0\" >0.0419</td>\n",
              "      <td id=\"T_6d79f_row9_col1\" class=\"data row9 col1\" >0.0064</td>\n",
              "      <td id=\"T_6d79f_row9_col2\" class=\"data row9 col2\" >0.0800</td>\n",
              "      <td id=\"T_6d79f_row9_col3\" class=\"data row9 col3\" >1.0000</td>\n",
              "      <td id=\"T_6d79f_row9_col4\" class=\"data row9 col4\" >0.0000</td>\n",
              "      <td id=\"T_6d79f_row9_col5\" class=\"data row9 col5\" >0.0000</td>\n",
              "    </tr>\n",
              "    <tr>\n",
              "      <th id=\"T_6d79f_level0_row10\" class=\"row_heading level0 row10\" >Mean</th>\n",
              "      <td id=\"T_6d79f_row10_col0\" class=\"data row10 col0\" >0.0394</td>\n",
              "      <td id=\"T_6d79f_row10_col1\" class=\"data row10 col1\" >0.0062</td>\n",
              "      <td id=\"T_6d79f_row10_col2\" class=\"data row10 col2\" >0.0663</td>\n",
              "      <td id=\"T_6d79f_row10_col3\" class=\"data row10 col3\" >1.0000</td>\n",
              "      <td id=\"T_6d79f_row10_col4\" class=\"data row10 col4\" >0.0000</td>\n",
              "      <td id=\"T_6d79f_row10_col5\" class=\"data row10 col5\" >0.0000</td>\n",
              "    </tr>\n",
              "    <tr>\n",
              "      <th id=\"T_6d79f_level0_row11\" class=\"row_heading level0 row11\" >Std</th>\n",
              "      <td id=\"T_6d79f_row11_col0\" class=\"data row11 col0\" >0.0226</td>\n",
              "      <td id=\"T_6d79f_row11_col1\" class=\"data row11 col1\" >0.0066</td>\n",
              "      <td id=\"T_6d79f_row11_col2\" class=\"data row11 col2\" >0.0429</td>\n",
              "      <td id=\"T_6d79f_row11_col3\" class=\"data row11 col3\" >0.0000</td>\n",
              "      <td id=\"T_6d79f_row11_col4\" class=\"data row11 col4\" >0.0000</td>\n",
              "      <td id=\"T_6d79f_row11_col5\" class=\"data row11 col5\" >0.0000</td>\n",
              "    </tr>\n",
              "  </tbody>\n",
              "</table>\n"
            ]
          },
          "metadata": {}
        },
        {
          "output_type": "display_data",
          "data": {
            "text/plain": [
              "Processing:   0%|          | 0/4 [00:00<?, ?it/s]"
            ],
            "application/vnd.jupyter.widget-view+json": {
              "version_major": 2,
              "version_minor": 0,
              "model_id": "a42bc603c8124eac83752771fe227924"
            }
          },
          "metadata": {
            "application/vnd.jupyter.widget-view+json": {
              "colab": {
                "custom_widget_manager": {
                  "url": "https://ssl.gstatic.com/colaboratory-static/widgets/colab-cdn-widget-manager/b3e629b1971e1542/manager.min.js"
                }
              }
            }
          }
        },
        {
          "output_type": "display_data",
          "data": {
            "text/plain": [
              "<IPython.core.display.HTML object>"
            ],
            "text/html": []
          },
          "metadata": {}
        }
      ]
    },
    {
      "cell_type": "code",
      "source": [
        "# Tuning the model for better performance \n",
        "tuned_llar_model = tune_model(llar_model)"
      ],
      "metadata": {
        "colab": {
          "base_uri": "https://localhost:8080/",
          "height": 492,
          "referenced_widgets": [
            "f2c0a8c8f7d14f43af753e399740f801",
            "9ef6375f901242bfadee7dc960edf26f",
            "07351670485e4e6aabd3e326938f426a",
            "ee66eb80046e48188bb8dae749680f9e",
            "aee8bb0333da495a9c529e6e39d5e536",
            "3cc57d8d587d4c04bd7b8acbfa67bba0",
            "2011c45118824728babba1639d3d676b",
            "11516af8571c4f4d886c48b0a3aa8377",
            "1564b8dc2b6243259b9a62b4f1e83e5b",
            "f2dffb58c52a480fa3c2b2851b21dc60",
            "4fe6c1bd71824535987939b0ab3249eb"
          ]
        },
        "id": "L3n1sINvq5AZ",
        "outputId": "64d61b99-e243-4295-f5f9-9fef823e2016"
      },
      "execution_count": 117,
      "outputs": [
        {
          "output_type": "display_data",
          "data": {
            "text/plain": [
              "<IPython.core.display.HTML object>"
            ],
            "text/html": []
          },
          "metadata": {}
        },
        {
          "output_type": "display_data",
          "data": {
            "text/plain": [
              "<pandas.io.formats.style.Styler at 0x7fcc58593100>"
            ],
            "text/html": [
              "<style type=\"text/css\">\n",
              "#T_49b46_row10_col0, #T_49b46_row10_col1, #T_49b46_row10_col2, #T_49b46_row10_col3, #T_49b46_row10_col4, #T_49b46_row10_col5 {\n",
              "  background: yellow;\n",
              "}\n",
              "</style>\n",
              "<table id=\"T_49b46_\" class=\"dataframe\">\n",
              "  <thead>\n",
              "    <tr>\n",
              "      <th class=\"blank level0\" >&nbsp;</th>\n",
              "      <th class=\"col_heading level0 col0\" >MAE</th>\n",
              "      <th class=\"col_heading level0 col1\" >MSE</th>\n",
              "      <th class=\"col_heading level0 col2\" >RMSE</th>\n",
              "      <th class=\"col_heading level0 col3\" >R2</th>\n",
              "      <th class=\"col_heading level0 col4\" >RMSLE</th>\n",
              "      <th class=\"col_heading level0 col5\" >MAPE</th>\n",
              "    </tr>\n",
              "    <tr>\n",
              "      <th class=\"index_name level0\" >Fold</th>\n",
              "      <th class=\"blank col0\" >&nbsp;</th>\n",
              "      <th class=\"blank col1\" >&nbsp;</th>\n",
              "      <th class=\"blank col2\" >&nbsp;</th>\n",
              "      <th class=\"blank col3\" >&nbsp;</th>\n",
              "      <th class=\"blank col4\" >&nbsp;</th>\n",
              "      <th class=\"blank col5\" >&nbsp;</th>\n",
              "    </tr>\n",
              "  </thead>\n",
              "  <tbody>\n",
              "    <tr>\n",
              "      <th id=\"T_49b46_level0_row0\" class=\"row_heading level0 row0\" >0</th>\n",
              "      <td id=\"T_49b46_row0_col0\" class=\"data row0 col0\" >0.0214</td>\n",
              "      <td id=\"T_49b46_row0_col1\" class=\"data row0 col1\" >0.0008</td>\n",
              "      <td id=\"T_49b46_row0_col2\" class=\"data row0 col2\" >0.0281</td>\n",
              "      <td id=\"T_49b46_row0_col3\" class=\"data row0 col3\" >1.0000</td>\n",
              "      <td id=\"T_49b46_row0_col4\" class=\"data row0 col4\" >0.0000</td>\n",
              "      <td id=\"T_49b46_row0_col5\" class=\"data row0 col5\" >0.0000</td>\n",
              "    </tr>\n",
              "    <tr>\n",
              "      <th id=\"T_49b46_level0_row1\" class=\"row_heading level0 row1\" >1</th>\n",
              "      <td id=\"T_49b46_row1_col0\" class=\"data row1 col0\" >0.0759</td>\n",
              "      <td id=\"T_49b46_row1_col1\" class=\"data row1 col1\" >0.0173</td>\n",
              "      <td id=\"T_49b46_row1_col2\" class=\"data row1 col2\" >0.1316</td>\n",
              "      <td id=\"T_49b46_row1_col3\" class=\"data row1 col3\" >1.0000</td>\n",
              "      <td id=\"T_49b46_row1_col4\" class=\"data row1 col4\" >0.0000</td>\n",
              "      <td id=\"T_49b46_row1_col5\" class=\"data row1 col5\" >0.0000</td>\n",
              "    </tr>\n",
              "    <tr>\n",
              "      <th id=\"T_49b46_level0_row2\" class=\"row_heading level0 row2\" >2</th>\n",
              "      <td id=\"T_49b46_row2_col0\" class=\"data row2 col0\" >0.0201</td>\n",
              "      <td id=\"T_49b46_row2_col1\" class=\"data row2 col1\" >0.0008</td>\n",
              "      <td id=\"T_49b46_row2_col2\" class=\"data row2 col2\" >0.0288</td>\n",
              "      <td id=\"T_49b46_row2_col3\" class=\"data row2 col3\" >1.0000</td>\n",
              "      <td id=\"T_49b46_row2_col4\" class=\"data row2 col4\" >0.0000</td>\n",
              "      <td id=\"T_49b46_row2_col5\" class=\"data row2 col5\" >0.0000</td>\n",
              "    </tr>\n",
              "    <tr>\n",
              "      <th id=\"T_49b46_level0_row3\" class=\"row_heading level0 row3\" >3</th>\n",
              "      <td id=\"T_49b46_row3_col0\" class=\"data row3 col0\" >0.0705</td>\n",
              "      <td id=\"T_49b46_row3_col1\" class=\"data row3 col1\" >0.0184</td>\n",
              "      <td id=\"T_49b46_row3_col2\" class=\"data row3 col2\" >0.1357</td>\n",
              "      <td id=\"T_49b46_row3_col3\" class=\"data row3 col3\" >1.0000</td>\n",
              "      <td id=\"T_49b46_row3_col4\" class=\"data row3 col4\" >0.0000</td>\n",
              "      <td id=\"T_49b46_row3_col5\" class=\"data row3 col5\" >0.0000</td>\n",
              "    </tr>\n",
              "    <tr>\n",
              "      <th id=\"T_49b46_level0_row4\" class=\"row_heading level0 row4\" >4</th>\n",
              "      <td id=\"T_49b46_row4_col0\" class=\"data row4 col0\" >0.0171</td>\n",
              "      <td id=\"T_49b46_row4_col1\" class=\"data row4 col1\" >0.0004</td>\n",
              "      <td id=\"T_49b46_row4_col2\" class=\"data row4 col2\" >0.0195</td>\n",
              "      <td id=\"T_49b46_row4_col3\" class=\"data row4 col3\" >1.0000</td>\n",
              "      <td id=\"T_49b46_row4_col4\" class=\"data row4 col4\" >0.0000</td>\n",
              "      <td id=\"T_49b46_row4_col5\" class=\"data row4 col5\" >0.0000</td>\n",
              "    </tr>\n",
              "    <tr>\n",
              "      <th id=\"T_49b46_level0_row5\" class=\"row_heading level0 row5\" >5</th>\n",
              "      <td id=\"T_49b46_row5_col0\" class=\"data row5 col0\" >0.0670</td>\n",
              "      <td id=\"T_49b46_row5_col1\" class=\"data row5 col1\" >0.0099</td>\n",
              "      <td id=\"T_49b46_row5_col2\" class=\"data row5 col2\" >0.0995</td>\n",
              "      <td id=\"T_49b46_row5_col3\" class=\"data row5 col3\" >1.0000</td>\n",
              "      <td id=\"T_49b46_row5_col4\" class=\"data row5 col4\" >0.0000</td>\n",
              "      <td id=\"T_49b46_row5_col5\" class=\"data row5 col5\" >0.0000</td>\n",
              "    </tr>\n",
              "    <tr>\n",
              "      <th id=\"T_49b46_level0_row6\" class=\"row_heading level0 row6\" >6</th>\n",
              "      <td id=\"T_49b46_row6_col0\" class=\"data row6 col0\" >0.0178</td>\n",
              "      <td id=\"T_49b46_row6_col1\" class=\"data row6 col1\" >0.0009</td>\n",
              "      <td id=\"T_49b46_row6_col2\" class=\"data row6 col2\" >0.0308</td>\n",
              "      <td id=\"T_49b46_row6_col3\" class=\"data row6 col3\" >1.0000</td>\n",
              "      <td id=\"T_49b46_row6_col4\" class=\"data row6 col4\" >0.0000</td>\n",
              "      <td id=\"T_49b46_row6_col5\" class=\"data row6 col5\" >0.0000</td>\n",
              "    </tr>\n",
              "    <tr>\n",
              "      <th id=\"T_49b46_level0_row7\" class=\"row_heading level0 row7\" >7</th>\n",
              "      <td id=\"T_49b46_row7_col0\" class=\"data row7 col0\" >0.0417</td>\n",
              "      <td id=\"T_49b46_row7_col1\" class=\"data row7 col1\" >0.0066</td>\n",
              "      <td id=\"T_49b46_row7_col2\" class=\"data row7 col2\" >0.0810</td>\n",
              "      <td id=\"T_49b46_row7_col3\" class=\"data row7 col3\" >1.0000</td>\n",
              "      <td id=\"T_49b46_row7_col4\" class=\"data row7 col4\" >0.0000</td>\n",
              "      <td id=\"T_49b46_row7_col5\" class=\"data row7 col5\" >0.0000</td>\n",
              "    </tr>\n",
              "    <tr>\n",
              "      <th id=\"T_49b46_level0_row8\" class=\"row_heading level0 row8\" >8</th>\n",
              "      <td id=\"T_49b46_row8_col0\" class=\"data row8 col0\" >0.0206</td>\n",
              "      <td id=\"T_49b46_row8_col1\" class=\"data row8 col1\" >0.0008</td>\n",
              "      <td id=\"T_49b46_row8_col2\" class=\"data row8 col2\" >0.0278</td>\n",
              "      <td id=\"T_49b46_row8_col3\" class=\"data row8 col3\" >1.0000</td>\n",
              "      <td id=\"T_49b46_row8_col4\" class=\"data row8 col4\" >0.0000</td>\n",
              "      <td id=\"T_49b46_row8_col5\" class=\"data row8 col5\" >0.0000</td>\n",
              "    </tr>\n",
              "    <tr>\n",
              "      <th id=\"T_49b46_level0_row9\" class=\"row_heading level0 row9\" >9</th>\n",
              "      <td id=\"T_49b46_row9_col0\" class=\"data row9 col0\" >0.0418</td>\n",
              "      <td id=\"T_49b46_row9_col1\" class=\"data row9 col1\" >0.0064</td>\n",
              "      <td id=\"T_49b46_row9_col2\" class=\"data row9 col2\" >0.0800</td>\n",
              "      <td id=\"T_49b46_row9_col3\" class=\"data row9 col3\" >1.0000</td>\n",
              "      <td id=\"T_49b46_row9_col4\" class=\"data row9 col4\" >0.0000</td>\n",
              "      <td id=\"T_49b46_row9_col5\" class=\"data row9 col5\" >0.0000</td>\n",
              "    </tr>\n",
              "    <tr>\n",
              "      <th id=\"T_49b46_level0_row10\" class=\"row_heading level0 row10\" >Mean</th>\n",
              "      <td id=\"T_49b46_row10_col0\" class=\"data row10 col0\" >0.0394</td>\n",
              "      <td id=\"T_49b46_row10_col1\" class=\"data row10 col1\" >0.0062</td>\n",
              "      <td id=\"T_49b46_row10_col2\" class=\"data row10 col2\" >0.0663</td>\n",
              "      <td id=\"T_49b46_row10_col3\" class=\"data row10 col3\" >1.0000</td>\n",
              "      <td id=\"T_49b46_row10_col4\" class=\"data row10 col4\" >0.0000</td>\n",
              "      <td id=\"T_49b46_row10_col5\" class=\"data row10 col5\" >0.0000</td>\n",
              "    </tr>\n",
              "    <tr>\n",
              "      <th id=\"T_49b46_level0_row11\" class=\"row_heading level0 row11\" >Std</th>\n",
              "      <td id=\"T_49b46_row11_col0\" class=\"data row11 col0\" >0.0225</td>\n",
              "      <td id=\"T_49b46_row11_col1\" class=\"data row11 col1\" >0.0066</td>\n",
              "      <td id=\"T_49b46_row11_col2\" class=\"data row11 col2\" >0.0429</td>\n",
              "      <td id=\"T_49b46_row11_col3\" class=\"data row11 col3\" >0.0000</td>\n",
              "      <td id=\"T_49b46_row11_col4\" class=\"data row11 col4\" >0.0000</td>\n",
              "      <td id=\"T_49b46_row11_col5\" class=\"data row11 col5\" >0.0000</td>\n",
              "    </tr>\n",
              "  </tbody>\n",
              "</table>\n"
            ]
          },
          "metadata": {}
        },
        {
          "output_type": "display_data",
          "data": {
            "text/plain": [
              "Processing:   0%|          | 0/7 [00:00<?, ?it/s]"
            ],
            "application/vnd.jupyter.widget-view+json": {
              "version_major": 2,
              "version_minor": 0,
              "model_id": "f2c0a8c8f7d14f43af753e399740f801"
            }
          },
          "metadata": {
            "application/vnd.jupyter.widget-view+json": {
              "colab": {
                "custom_widget_manager": {
                  "url": "https://ssl.gstatic.com/colaboratory-static/widgets/colab-cdn-widget-manager/b3e629b1971e1542/manager.min.js"
                }
              }
            }
          }
        },
        {
          "output_type": "stream",
          "name": "stdout",
          "text": [
            "Fitting 10 folds for each of 10 candidates, totalling 100 fits\n"
          ]
        },
        {
          "output_type": "display_data",
          "data": {
            "text/plain": [
              "<IPython.core.display.HTML object>"
            ],
            "text/html": []
          },
          "metadata": {}
        },
        {
          "output_type": "stream",
          "name": "stdout",
          "text": [
            "Original model was better than the tuned model, hence it will be returned. NOTE: The display metrics are for the tuned model (not the original one).\n"
          ]
        }
      ]
    },
    {
      "cell_type": "code",
      "source": [
        "# Plot residuals for Lasso Least Angle Regression based trained model \n",
        "plot_model(tuned_llar_model)"
      ],
      "metadata": {
        "colab": {
          "base_uri": "https://localhost:8080/",
          "height": 304
        },
        "id": "ogkaLV5VtKs-",
        "outputId": "5c67224f-85f8-4fc0-f343-249c7ddda8f2"
      },
      "execution_count": 118,
      "outputs": [
        {
          "output_type": "display_data",
          "data": {
            "text/plain": [
              "<IPython.core.display.HTML object>"
            ],
            "text/html": []
          },
          "metadata": {}
        },
        {
          "output_type": "display_data",
          "data": {
            "text/plain": [
              "<Figure size 432x288 with 2 Axes>"
            ],
            "image/png": "[encoded data removed]"
          },
          "metadata": {
            "needs_background": "light"
          }
        }
      ]
    },
    {
      "cell_type": "code",
      "source": [
        "# Plot prediction error plot for Lasso Least Angle Regression based trained model \n",
        "plot_model(tuned_llar_model, plot=\"error\")"
      ],
      "metadata": {
        "colab": {
          "base_uri": "https://localhost:8080/",
          "height": 305
        },
        "id": "PReljyLIq4us",
        "outputId": "9a72ae15-7dde-421c-934d-26b0e1a2dfb9"
      },
      "execution_count": 119,
      "outputs": [
        {
          "output_type": "display_data",
          "data": {
            "text/plain": [
              "<IPython.core.display.HTML object>"
            ],
            "text/html": []
          },
          "metadata": {}
        },
        {
          "output_type": "display_data",
          "data": {
            "text/plain": [
              "<Figure size 432x288 with 1 Axes>"
            ],
            "image/png": "[encoded data removed]"
          },
          "metadata": {
            "needs_background": "light"
          }
        }
      ]
    },
    {
      "cell_type": "code",
      "source": [
        "# Plot feature importance plot \n",
        "plot_model(tuned_llar_model,plot='feature')"
      ],
      "metadata": {
        "colab": {
          "base_uri": "https://localhost:8080/",
          "height": 493
        },
        "id": "TBLmuI8Oq4hi",
        "outputId": "cfde087b-87e5-4100-8fd8-2cc29fef13ee"
      },
      "execution_count": 120,
      "outputs": [
        {
          "output_type": "display_data",
          "data": {
            "text/plain": [
              "<IPython.core.display.HTML object>"
            ],
            "text/html": []
          },
          "metadata": {}
        },
        {
          "output_type": "display_data",
          "data": {
            "text/plain": [
              "<Figure size 800x500 with 1 Axes>"
            ],
            "image/png": "[encoded data removed]"
          },
          "metadata": {
            "needs_background": "light"
          }
        }
      ]
    },
    {
      "cell_type": "code",
      "source": [
        "# Predicting total profit using Lasso Least Angle Regression based trained model \n",
        "predict_model(tuned_llar_model)"
      ],
      "metadata": {
        "colab": {
          "base_uri": "https://localhost:8080/",
          "height": 1000
        },
        "id": "3NVisTuxucPP",
        "outputId": "8e615dff-9adf-4966-cf69-2dc89f7d7df7"
      },
      "execution_count": 121,
      "outputs": [
        {
          "output_type": "display_data",
          "data": {
            "text/plain": [
              "<pandas.io.formats.style.Styler at 0x7fcc5854c6d0>"
            ],
            "text/html": [
              "<style type=\"text/css\">\n",
              "</style>\n",
              "<table id=\"T_53efe_\" class=\"dataframe\">\n",
              "  <thead>\n",
              "    <tr>\n",
              "      <th class=\"blank level0\" >&nbsp;</th>\n",
              "      <th class=\"col_heading level0 col0\" >Model</th>\n",
              "      <th class=\"col_heading level0 col1\" >MAE</th>\n",
              "      <th class=\"col_heading level0 col2\" >MSE</th>\n",
              "      <th class=\"col_heading level0 col3\" >RMSE</th>\n",
              "      <th class=\"col_heading level0 col4\" >R2</th>\n",
              "      <th class=\"col_heading level0 col5\" >RMSLE</th>\n",
              "      <th class=\"col_heading level0 col6\" >MAPE</th>\n",
              "    </tr>\n",
              "  </thead>\n",
              "  <tbody>\n",
              "    <tr>\n",
              "      <th id=\"T_53efe_level0_row0\" class=\"row_heading level0 row0\" >0</th>\n",
              "      <td id=\"T_53efe_row0_col0\" class=\"data row0 col0\" >Lasso Least Angle Regression</td>\n",
              "      <td id=\"T_53efe_row0_col1\" class=\"data row0 col1\" >0.0405</td>\n",
              "      <td id=\"T_53efe_row0_col2\" class=\"data row0 col2\" >0.0046</td>\n",
              "      <td id=\"T_53efe_row0_col3\" class=\"data row0 col3\" >0.0677</td>\n",
              "      <td id=\"T_53efe_row0_col4\" class=\"data row0 col4\" >1.0000</td>\n",
              "      <td id=\"T_53efe_row0_col5\" class=\"data row0 col5\" >0.0000</td>\n",
              "      <td id=\"T_53efe_row0_col6\" class=\"data row0 col6\" >0.0000</td>\n",
              "    </tr>\n",
              "  </tbody>\n",
              "</table>\n"
            ]
          },
          "metadata": {}
        },
        {
          "output_type": "execute_result",
          "data": {
            "text/plain": [
              "    Item Type  Sales Channel  Order Priority  Units Sold  Unit Price  \\\n",
              "70          8              1               3        5518  651.210022   \n",
              "71          1              0               0        5430   47.450001   \n",
              "72          3              1               1        5930  109.279999   \n",
              "73          5              1               3        5398    9.330000   \n",
              "74          5              1               2         673    9.330000   \n",
              "75          3              1               2        7884  109.279999   \n",
              "76          4              0               1        2847  437.200012   \n",
              "77          4              1               1        7910  437.200012   \n",
              "78         11              1               1         124  154.059998   \n",
              "79         11              1               1         171  154.059998   \n",
              "80          6              0               2        5367  668.270020   \n",
              "81          8              1               3        3987  651.210022   \n",
              "82          3              1               3         888  109.279999   \n",
              "83          5              1               0        8102    9.330000   \n",
              "84          2              1               1        6593  205.699997   \n",
              "85          9              1               1        3015   81.730003   \n",
              "86          1              0               0        8829   47.450001   \n",
              "87          8              0               1         948  651.210022   \n",
              "88          6              0               3        4187  668.270020   \n",
              "89          8              0               2        5062  651.210022   \n",
              "90          4              0               1        7215  437.200012   \n",
              "91          4              1               1        9654  437.200012   \n",
              "92          0              0               1        8614  255.279999   \n",
              "93          8              0               2        1779  651.210022   \n",
              "94          4              0               1        1705  437.200012   \n",
              "95          4              1               3        7234  437.200012   \n",
              "96          7              1               3        4767  421.890015   \n",
              "97          6              0               2        3830  668.270020   \n",
              "98          4              1               1        1815  437.200012   \n",
              "99          1              0               0        8156   47.450001   \n",
              "\n",
              "     Unit Cost  Total Revenue    Total Cost  Order Month  Order Year  \\\n",
              "70  524.960022   3.593377e+06  2.896729e+06           11        2011   \n",
              "71   31.790001   2.576535e+05  1.726197e+05            4        2015   \n",
              "72   35.840000   6.480304e+05  2.125312e+05           11        2015   \n",
              "73    6.920000   5.036334e+04  3.735416e+04           10        2014   \n",
              "74    6.920000   6.279090e+03  4.657160e+03            8        2015   \n",
              "75   35.840000   8.615635e+05  2.825626e+05            9        2012   \n",
              "76  263.329987   1.244708e+06  7.497005e+05            2        2015   \n",
              "77  263.329987   3.458252e+06  2.082940e+06           11        2010   \n",
              "78   90.930000   1.910344e+04  1.127532e+04            6        2011   \n",
              "79   90.930000   2.634426e+04  1.554903e+04           10        2012   \n",
              "80  502.540009   3.586605e+06  2.697132e+06            2        2012   \n",
              "81  524.960022   2.596374e+06  2.093016e+06            2        2012   \n",
              "82   35.840000   9.704064e+04  3.182592e+04            7        2011   \n",
              "83    6.920000   7.559166e+04  5.606584e+04            6        2014   \n",
              "84  117.110001   1.356180e+06  7.721062e+05            4        2014   \n",
              "85   56.669998   2.464160e+05  1.708600e+05            3        2017   \n",
              "86   31.790001   4.189361e+05  2.806739e+05            1        2011   \n",
              "87  524.960022   6.173471e+05  4.976621e+05           12        2016   \n",
              "88  502.540009   2.798046e+06  2.104135e+06            4        2011   \n",
              "89  524.960022   3.296425e+06  2.657348e+06            2        2013   \n",
              "90  263.329987   3.154398e+06  1.899926e+06            4        2014   \n",
              "91  263.329987   4.220729e+06  2.542188e+06            7        2013   \n",
              "92  159.419998   2.198982e+06  1.373244e+06            5        2012   \n",
              "93  524.960022   1.158503e+06  9.339038e+05            5        2014   \n",
              "94  263.329987   7.454260e+05  4.489777e+05           10        2013   \n",
              "95  263.329987   3.162705e+06  1.904929e+06            2        2010   \n",
              "96  364.690002   2.011150e+06  1.738477e+06            1        2017   \n",
              "97  502.540009   2.559474e+06  1.924728e+06           12        2010   \n",
              "98  263.329987   7.935180e+05  4.779439e+05            5        2017   \n",
              "99   31.790001   3.870022e+05  2.592792e+05            2        2011   \n",
              "\n",
              "    Total Profit  prediction_label  \n",
              "70  6.966475e+05      6.966475e+05  \n",
              "71  8.503380e+04      8.503381e+04  \n",
              "72  4.354992e+05      4.354992e+05  \n",
              "73  1.300918e+04      1.300920e+04  \n",
              "74  1.621930e+03      1.621936e+03  \n",
              "75  5.790009e+05      5.790009e+05  \n",
              "76  4.950079e+05      4.950079e+05  \n",
              "77  1.375312e+06      1.375312e+06  \n",
              "78  7.828120e+03      7.828124e+03  \n",
              "79  1.079523e+04      1.079523e+04  \n",
              "80  8.894729e+05      8.894727e+05  \n",
              "81  5.033588e+05      5.033588e+05  \n",
              "82  6.521472e+04      6.521472e+04  \n",
              "83  1.952582e+04      1.952584e+04  \n",
              "84  5.840739e+05      5.840739e+05  \n",
              "85  7.555590e+04      7.555591e+04  \n",
              "86  1.382621e+05      1.382622e+05  \n",
              "87  1.196850e+05      1.196850e+05  \n",
              "88  6.939115e+05      6.939115e+05  \n",
              "89  6.390775e+05      6.390775e+05  \n",
              "90  1.254472e+06      1.254472e+06  \n",
              "91  1.678541e+06      1.678541e+06  \n",
              "92  8.257381e+05      8.257381e+05  \n",
              "93  2.245988e+05      2.245988e+05  \n",
              "94  2.964483e+05      2.964483e+05  \n",
              "95  1.257776e+06      1.257775e+06  \n",
              "96  2.726724e+05      2.726724e+05  \n",
              "97  6.347459e+05      6.347457e+05  \n",
              "98  3.155741e+05      3.155741e+05  \n",
              "99  1.277230e+05      1.277230e+05  "
            ],
            "text/html": [
              "\n",
              "  <div id=\"df-4b7e685d-ab0b-48ed-8e07-a4dca06a7d51\">\n",
              "    <div class=\"colab-df-container\">\n",
              "      <div>\n",
              "<style scoped>\n",
              "    .dataframe tbody tr th:only-of-type {\n",
              "        vertical-align: middle;\n",
              "    }\n",
              "\n",
              "    .dataframe tbody tr th {\n",
              "        vertical-align: top;\n",
              "    }\n",
              "\n",
              "    .dataframe thead th {\n",
              "        text-align: right;\n",
              "    }\n",
              "</style>\n",
              "<table border=\"1\" class=\"dataframe\">\n",
              "  <thead>\n",
              "    <tr style=\"text-align: right;\">\n",
              "      <th></th>\n",
              "      <th>Item Type</th>\n",
              "      <th>Sales Channel</th>\n",
              "      <th>Order Priority</th>\n",
              "      <th>Units Sold</th>\n",
              "      <th>Unit Price</th>\n",
              "      <th>Unit Cost</th>\n",
              "      <th>Total Revenue</th>\n",
              "      <th>Total Cost</th>\n",
              "      <th>Order Month</th>\n",
              "      <th>Order Year</th>\n",
              "      <th>Total Profit</th>\n",
              "      <th>prediction_label</th>\n",
              "    </tr>\n",
              "  </thead>\n",
              "  <tbody>\n",
              "    <tr>\n",
              "      <th>70</th>\n",
              "      <td>8</td>\n",
              "      <td>1</td>\n",
              "      <td>3</td>\n",
              "      <td>5518</td>\n",
              "      <td>651.210022</td>\n",
              "      <td>524.960022</td>\n",
              "      <td>3.593377e+06</td>\n",
              "      <td>2.896729e+06</td>\n",
              "      <td>11</td>\n",
              "      <td>2011</td>\n",
              "      <td>6.966475e+05</td>\n",
              "      <td>6.966475e+05</td>\n",
              "    </tr>\n",
              "    <tr>\n",
              "      <th>71</th>\n",
              "      <td>1</td>\n",
              "      <td>0</td>\n",
              "      <td>0</td>\n",
              "      <td>5430</td>\n",
              "      <td>47.450001</td>\n",
              "      <td>31.790001</td>\n",
              "      <td>2.576535e+05</td>\n",
              "      <td>1.726197e+05</td>\n",
              "      <td>4</td>\n",
              "      <td>2015</td>\n",
              "      <td>8.503380e+04</td>\n",
              "      <td>8.503381e+04</td>\n",
              "    </tr>\n",
              "    <tr>\n",
              "      <th>72</th>\n",
              "      <td>3</td>\n",
              "      <td>1</td>\n",
              "      <td>1</td>\n",
              "      <td>5930</td>\n",
              "      <td>109.279999</td>\n",
              "      <td>35.840000</td>\n",
              "      <td>6.480304e+05</td>\n",
              "      <td>2.125312e+05</td>\n",
              "      <td>11</td>\n",
              "      <td>2015</td>\n",
              "      <td>4.354992e+05</td>\n",
              "      <td>4.354992e+05</td>\n",
              "    </tr>\n",
              "    <tr>\n",
              "      <th>73</th>\n",
              "      <td>5</td>\n",
              "      <td>1</td>\n",
              "      <td>3</td>\n",
              "      <td>5398</td>\n",
              "      <td>9.330000</td>\n",
              "      <td>6.920000</td>\n",
              "      <td>5.036334e+04</td>\n",
              "      <td>3.735416e+04</td>\n",
              "      <td>10</td>\n",
              "      <td>2014</td>\n",
              "      <td>1.300918e+04</td>\n",
              "      <td>1.300920e+04</td>\n",
              "    </tr>\n",
              "    <tr>\n",
              "      <th>74</th>\n",
              "      <td>5</td>\n",
              "      <td>1</td>\n",
              "      <td>2</td>\n",
              "      <td>673</td>\n",
              "      <td>9.330000</td>\n",
              "      <td>6.920000</td>\n",
              "      <td>6.279090e+03</td>\n",
              "      <td>4.657160e+03</td>\n",
              "      <td>8</td>\n",
              "      <td>2015</td>\n",
              "      <td>1.621930e+03</td>\n",
              "      <td>1.621936e+03</td>\n",
              "    </tr>\n",
              "    <tr>\n",
              "      <th>75</th>\n",
              "      <td>3</td>\n",
              "      <td>1</td>\n",
              "      <td>2</td>\n",
              "      <td>7884</td>\n",
              "      <td>109.279999</td>\n",
              "      <td>35.840000</td>\n",
              "      <td>8.615635e+05</td>\n",
              "      <td>2.825626e+05</td>\n",
              "      <td>9</td>\n",
              "      <td>2012</td>\n",
              "      <td>5.790009e+05</td>\n",
              "      <td>5.790009e+05</td>\n",
              "    </tr>\n",
              "    <tr>\n",
              "      <th>76</th>\n",
              "      <td>4</td>\n",
              "      <td>0</td>\n",
              "      <td>1</td>\n",
              "      <td>2847</td>\n",
              "      <td>437.200012</td>\n",
              "      <td>263.329987</td>\n",
              "      <td>1.244708e+06</td>\n",
              "      <td>7.497005e+05</td>\n",
              "      <td>2</td>\n",
              "      <td>2015</td>\n",
              "      <td>4.950079e+05</td>\n",
              "      <td>4.950079e+05</td>\n",
              "    </tr>\n",
              "    <tr>\n",
              "      <th>77</th>\n",
              "      <td>4</td>\n",
              "      <td>1</td>\n",
              "      <td>1</td>\n",
              "      <td>7910</td>\n",
              "      <td>437.200012</td>\n",
              "      <td>263.329987</td>\n",
              "      <td>3.458252e+06</td>\n",
              "      <td>2.082940e+06</td>\n",
              "      <td>11</td>\n",
              "      <td>2010</td>\n",
              "      <td>1.375312e+06</td>\n",
              "      <td>1.375312e+06</td>\n",
              "    </tr>\n",
              "    <tr>\n",
              "      <th>78</th>\n",
              "      <td>11</td>\n",
              "      <td>1</td>\n",
              "      <td>1</td>\n",
              "      <td>124</td>\n",
              "      <td>154.059998</td>\n",
              "      <td>90.930000</td>\n",
              "      <td>1.910344e+04</td>\n",
              "      <td>1.127532e+04</td>\n",
              "      <td>6</td>\n",
              "      <td>2011</td>\n",
              "      <td>7.828120e+03</td>\n",
              "      <td>7.828124e+03</td>\n",
              "    </tr>\n",
              "    <tr>\n",
              "      <th>79</th>\n",
              "      <td>11</td>\n",
              "      <td>1</td>\n",
              "      <td>1</td>\n",
              "      <td>171</td>\n",
              "      <td>154.059998</td>\n",
              "      <td>90.930000</td>\n",
              "      <td>2.634426e+04</td>\n",
              "      <td>1.554903e+04</td>\n",
              "      <td>10</td>\n",
              "      <td>2012</td>\n",
              "      <td>1.079523e+04</td>\n",
              "      <td>1.079523e+04</td>\n",
              "    </tr>\n",
              "    <tr>\n",
              "      <th>80</th>\n",
              "      <td>6</td>\n",
              "      <td>0</td>\n",
              "      <td>2</td>\n",
              "      <td>5367</td>\n",
              "      <td>668.270020</td>\n",
              "      <td>502.540009</td>\n",
              "      <td>3.586605e+06</td>\n",
              "      <td>2.697132e+06</td>\n",
              "      <td>2</td>\n",
              "      <td>2012</td>\n",
              "      <td>8.894729e+05</td>\n",
              "      <td>8.894727e+05</td>\n",
              "    </tr>\n",
              "    <tr>\n",
              "      <th>81</th>\n",
              "      <td>8</td>\n",
              "      <td>1</td>\n",
              "      <td>3</td>\n",
              "      <td>3987</td>\n",
              "      <td>651.210022</td>\n",
              "      <td>524.960022</td>\n",
              "      <td>2.596374e+06</td>\n",
              "      <td>2.093016e+06</td>\n",
              "      <td>2</td>\n",
              "      <td>2012</td>\n",
              "      <td>5.033588e+05</td>\n",
              "      <td>5.033588e+05</td>\n",
              "    </tr>\n",
              "    <tr>\n",
              "      <th>82</th>\n",
              "      <td>3</td>\n",
              "      <td>1</td>\n",
              "      <td>3</td>\n",
              "      <td>888</td>\n",
              "      <td>109.279999</td>\n",
              "      <td>35.840000</td>\n",
              "      <td>9.704064e+04</td>\n",
              "      <td>3.182592e+04</td>\n",
              "      <td>7</td>\n",
              "      <td>2011</td>\n",
              "      <td>6.521472e+04</td>\n",
              "      <td>6.521472e+04</td>\n",
              "    </tr>\n",
              "    <tr>\n",
              "      <th>83</th>\n",
              "      <td>5</td>\n",
              "      <td>1</td>\n",
              "      <td>0</td>\n",
              "      <td>8102</td>\n",
              "      <td>9.330000</td>\n",
              "      <td>6.920000</td>\n",
              "      <td>7.559166e+04</td>\n",
              "      <td>5.606584e+04</td>\n",
              "      <td>6</td>\n",
              "      <td>2014</td>\n",
              "      <td>1.952582e+04</td>\n",
              "      <td>1.952584e+04</td>\n",
              "    </tr>\n",
              "    <tr>\n",
              "      <th>84</th>\n",
              "      <td>2</td>\n",
              "      <td>1</td>\n",
              "      <td>1</td>\n",
              "      <td>6593</td>\n",
              "      <td>205.699997</td>\n",
              "      <td>117.110001</td>\n",
              "      <td>1.356180e+06</td>\n",
              "      <td>7.721062e+05</td>\n",
              "      <td>4</td>\n",
              "      <td>2014</td>\n",
              "      <td>5.840739e+05</td>\n",
              "      <td>5.840739e+05</td>\n",
              "    </tr>\n",
              "    <tr>\n",
              "      <th>85</th>\n",
              "      <td>9</td>\n",
              "      <td>1</td>\n",
              "      <td>1</td>\n",
              "      <td>3015</td>\n",
              "      <td>81.730003</td>\n",
              "      <td>56.669998</td>\n",
              "      <td>2.464160e+05</td>\n",
              "      <td>1.708600e+05</td>\n",
              "      <td>3</td>\n",
              "      <td>2017</td>\n",
              "      <td>7.555590e+04</td>\n",
              "      <td>7.555591e+04</td>\n",
              "    </tr>\n",
              "    <tr>\n",
              "      <th>86</th>\n",
              "      <td>1</td>\n",
              "      <td>0</td>\n",
              "      <td>0</td>\n",
              "      <td>8829</td>\n",
              "      <td>47.450001</td>\n",
              "      <td>31.790001</td>\n",
              "      <td>4.189361e+05</td>\n",
              "      <td>2.806739e+05</td>\n",
              "      <td>1</td>\n",
              "      <td>2011</td>\n",
              "      <td>1.382621e+05</td>\n",
              "      <td>1.382622e+05</td>\n",
              "    </tr>\n",
              "    <tr>\n",
              "      <th>87</th>\n",
              "      <td>8</td>\n",
              "      <td>0</td>\n",
              "      <td>1</td>\n",
              "      <td>948</td>\n",
              "      <td>651.210022</td>\n",
              "      <td>524.960022</td>\n",
              "      <td>6.173471e+05</td>\n",
              "      <td>4.976621e+05</td>\n",
              "      <td>12</td>\n",
              "      <td>2016</td>\n",
              "      <td>1.196850e+05</td>\n",
              "      <td>1.196850e+05</td>\n",
              "    </tr>\n",
              "    <tr>\n",
              "      <th>88</th>\n",
              "      <td>6</td>\n",
              "      <td>0</td>\n",
              "      <td>3</td>\n",
              "      <td>4187</td>\n",
              "      <td>668.270020</td>\n",
              "      <td>502.540009</td>\n",
              "      <td>2.798046e+06</td>\n",
              "      <td>2.104135e+06</td>\n",
              "      <td>4</td>\n",
              "      <td>2011</td>\n",
              "      <td>6.939115e+05</td>\n",
              "      <td>6.939115e+05</td>\n",
              "    </tr>\n",
              "    <tr>\n",
              "      <th>89</th>\n",
              "      <td>8</td>\n",
              "      <td>0</td>\n",
              "      <td>2</td>\n",
              "      <td>5062</td>\n",
              "      <td>651.210022</td>\n",
              "      <td>524.960022</td>\n",
              "      <td>3.296425e+06</td>\n",
              "      <td>2.657348e+06</td>\n",
              "      <td>2</td>\n",
              "      <td>2013</td>\n",
              "      <td>6.390775e+05</td>\n",
              "      <td>6.390775e+05</td>\n",
              "    </tr>\n",
              "    <tr>\n",
              "      <th>90</th>\n",
              "      <td>4</td>\n",
              "      <td>0</td>\n",
              "      <td>1</td>\n",
              "      <td>7215</td>\n",
              "      <td>437.200012</td>\n",
              "      <td>263.329987</td>\n",
              "      <td>3.154398e+06</td>\n",
              "      <td>1.899926e+06</td>\n",
              "      <td>4</td>\n",
              "      <td>2014</td>\n",
              "      <td>1.254472e+06</td>\n",
              "      <td>1.254472e+06</td>\n",
              "    </tr>\n",
              "    <tr>\n",
              "      <th>91</th>\n",
              "      <td>4</td>\n",
              "      <td>1</td>\n",
              "      <td>1</td>\n",
              "      <td>9654</td>\n",
              "      <td>437.200012</td>\n",
              "      <td>263.329987</td>\n",
              "      <td>4.220729e+06</td>\n",
              "      <td>2.542188e+06</td>\n",
              "      <td>7</td>\n",
              "      <td>2013</td>\n",
              "      <td>1.678541e+06</td>\n",
              "      <td>1.678541e+06</td>\n",
              "    </tr>\n",
              "    <tr>\n",
              "      <th>92</th>\n",
              "      <td>0</td>\n",
              "      <td>0</td>\n",
              "      <td>1</td>\n",
              "      <td>8614</td>\n",
              "      <td>255.279999</td>\n",
              "      <td>159.419998</td>\n",
              "      <td>2.198982e+06</td>\n",
              "      <td>1.373244e+06</td>\n",
              "      <td>5</td>\n",
              "      <td>2012</td>\n",
              "      <td>8.257381e+05</td>\n",
              "      <td>8.257381e+05</td>\n",
              "    </tr>\n",
              "    <tr>\n",
              "      <th>93</th>\n",
              "      <td>8</td>\n",
              "      <td>0</td>\n",
              "      <td>2</td>\n",
              "      <td>1779</td>\n",
              "      <td>651.210022</td>\n",
              "      <td>524.960022</td>\n",
              "      <td>1.158503e+06</td>\n",
              "      <td>9.339038e+05</td>\n",
              "      <td>5</td>\n",
              "      <td>2014</td>\n",
              "      <td>2.245988e+05</td>\n",
              "      <td>2.245988e+05</td>\n",
              "    </tr>\n",
              "    <tr>\n",
              "      <th>94</th>\n",
              "      <td>4</td>\n",
              "      <td>0</td>\n",
              "      <td>1</td>\n",
              "      <td>1705</td>\n",
              "      <td>437.200012</td>\n",
              "      <td>263.329987</td>\n",
              "      <td>7.454260e+05</td>\n",
              "      <td>4.489777e+05</td>\n",
              "      <td>10</td>\n",
              "      <td>2013</td>\n",
              "      <td>2.964483e+05</td>\n",
              "      <td>2.964483e+05</td>\n",
              "    </tr>\n",
              "    <tr>\n",
              "      <th>95</th>\n",
              "      <td>4</td>\n",
              "      <td>1</td>\n",
              "      <td>3</td>\n",
              "      <td>7234</td>\n",
              "      <td>437.200012</td>\n",
              "      <td>263.329987</td>\n",
              "      <td>3.162705e+06</td>\n",
              "      <td>1.904929e+06</td>\n",
              "      <td>2</td>\n",
              "      <td>2010</td>\n",
              "      <td>1.257776e+06</td>\n",
              "      <td>1.257775e+06</td>\n",
              "    </tr>\n",
              "    <tr>\n",
              "      <th>96</th>\n",
              "      <td>7</td>\n",
              "      <td>1</td>\n",
              "      <td>3</td>\n",
              "      <td>4767</td>\n",
              "      <td>421.890015</td>\n",
              "      <td>364.690002</td>\n",
              "      <td>2.011150e+06</td>\n",
              "      <td>1.738477e+06</td>\n",
              "      <td>1</td>\n",
              "      <td>2017</td>\n",
              "      <td>2.726724e+05</td>\n",
              "      <td>2.726724e+05</td>\n",
              "    </tr>\n",
              "    <tr>\n",
              "      <th>97</th>\n",
              "      <td>6</td>\n",
              "      <td>0</td>\n",
              "      <td>2</td>\n",
              "      <td>3830</td>\n",
              "      <td>668.270020</td>\n",
              "      <td>502.540009</td>\n",
              "      <td>2.559474e+06</td>\n",
              "      <td>1.924728e+06</td>\n",
              "      <td>12</td>\n",
              "      <td>2010</td>\n",
              "      <td>6.347459e+05</td>\n",
              "      <td>6.347457e+05</td>\n",
              "    </tr>\n",
              "    <tr>\n",
              "      <th>98</th>\n",
              "      <td>4</td>\n",
              "      <td>1</td>\n",
              "      <td>1</td>\n",
              "      <td>1815</td>\n",
              "      <td>437.200012</td>\n",
              "      <td>263.329987</td>\n",
              "      <td>7.935180e+05</td>\n",
              "      <td>4.779439e+05</td>\n",
              "      <td>5</td>\n",
              "      <td>2017</td>\n",
              "      <td>3.155741e+05</td>\n",
              "      <td>3.155741e+05</td>\n",
              "    </tr>\n",
              "    <tr>\n",
              "      <th>99</th>\n",
              "      <td>1</td>\n",
              "      <td>0</td>\n",
              "      <td>0</td>\n",
              "      <td>8156</td>\n",
              "      <td>47.450001</td>\n",
              "      <td>31.790001</td>\n",
              "      <td>3.870022e+05</td>\n",
              "      <td>2.592792e+05</td>\n",
              "      <td>2</td>\n",
              "      <td>2011</td>\n",
              "      <td>1.277230e+05</td>\n",
              "      <td>1.277230e+05</td>\n",
              "    </tr>\n",
              "  </tbody>\n",
              "</table>\n",
              "</div>\n",
              "      <button class=\"colab-df-convert\" onclick=\"convertToInteractive('df-4b7e685d-ab0b-48ed-8e07-a4dca06a7d51')\"\n",
              "              title=\"Convert this dataframe to an interactive table.\"\n",
              "              style=\"display:none;\">\n",
              "        \n",
              "  <svg xmlns=\"http://www.w3.org/2000/svg\" height=\"24px\"viewBox=\"0 0 24 24\"\n",
              "       width=\"24px\">\n",
              "    <path d=\"M0 0h24v24H0V0z\" fill=\"none\"/>\n",
              "    <path d=\"M18.56 5.44l.94 2.06.94-2.06 2.06-.94-2.06-.94-.94-2.06-.94 2.06-2.06.94zm-11 1L8.5 8.5l.94-2.06 2.06-.94-2.06-.94L8.5 2.5l-.94 2.06-2.06.94zm10 10l.94 2.06.94-2.06 2.06-.94-2.06-.94-.94-2.06-.94 2.06-2.06.94z\"/><path d=\"M17.41 7.96l-1.37-1.37c-.4-.4-.92-.59-1.43-.59-.52 0-1.04.2-1.43.59L10.3 9.45l-7.72 7.72c-.78.78-.78 2.05 0 2.83L4 21.41c.39.39.9.59 1.41.59.51 0 1.02-.2 1.41-.59l7.78-7.78 2.81-2.81c.8-.78.8-2.07 0-2.86zM5.41 20L4 18.59l7.72-7.72 1.47 1.35L5.41 20z\"/>\n",
              "  </svg>\n",
              "      </button>\n",
              "      \n",
              "  <style>\n",
              "    .colab-df-container {\n",
              "      display:flex;\n",
              "      flex-wrap:wrap;\n",
              "      gap: 12px;\n",
              "    }\n",
              "\n",
              "    .colab-df-convert {\n",
              "      background-color: #E8F0FE;\n",
              "      border: none;\n",
              "      border-radius: 50%;\n",
              "      cursor: pointer;\n",
              "      display: none;\n",
              "      fill: #1967D2;\n",
              "      height: 32px;\n",
              "      padding: 0 0 0 0;\n",
              "      width: 32px;\n",
              "    }\n",
              "\n",
              "    .colab-df-convert:hover {\n",
              "      background-color: #E2EBFA;\n",
              "      box-shadow: 0px 1px 2px rgba(60, 64, 67, 0.3), 0px 1px 3px 1px rgba(60, 64, 67, 0.15);\n",
              "      fill: #174EA6;\n",
              "    }\n",
              "\n",
              "    [theme=dark] .colab-df-convert {\n",
              "      background-color: #3B4455;\n",
              "      fill: #D2E3FC;\n",
              "    }\n",
              "\n",
              "    [theme=dark] .colab-df-convert:hover {\n",
              "      background-color: #434B5C;\n",
              "      box-shadow: 0px 1px 3px 1px rgba(0, 0, 0, 0.15);\n",
              "      filter: drop-shadow(0px 1px 2px rgba(0, 0, 0, 0.3));\n",
              "      fill: #FFFFFF;\n",
              "    }\n",
              "  </style>\n",
              "\n",
              "      <script>\n",
              "        const buttonEl =\n",
              "          document.querySelector('#df-4b7e685d-ab0b-48ed-8e07-a4dca06a7d51 button.colab-df-convert');\n",
              "        buttonEl.style.display =\n",
              "          google.colab.kernel.accessAllowed ? 'block' : 'none';\n",
              "\n",
              "        async function convertToInteractive(key) {\n",
              "          const element = document.querySelector('#df-4b7e685d-ab0b-48ed-8e07-a4dca06a7d51');\n",
              "          const dataTable =\n",
              "            await google.colab.kernel.invokeFunction('convertToInteractive',\n",
              "                                                     [key], {});\n",
              "          if (!dataTable) return;\n",
              "\n",
              "          const docLinkHtml = 'Like what you see? Visit the ' +\n",
              "            '<a target=\"_blank\" href=https://colab.research.google.com/notebooks/data_table.ipynb>data table notebook</a>'\n",
              "            + ' to learn more about interactive tables.';\n",
              "          element.innerHTML = '';\n",
              "          dataTable['output_type'] = 'display_data';\n",
              "          await google.colab.output.renderOutput(dataTable, element);\n",
              "          const docLink = document.createElement('div');\n",
              "          docLink.innerHTML = docLinkHtml;\n",
              "          element.appendChild(docLink);\n",
              "        }\n",
              "      </script>\n",
              "    </div>\n",
              "  </div>\n",
              "  "
            ]
          },
          "metadata": {},
          "execution_count": 121
        }
      ]
    },
    {
      "cell_type": "markdown",
      "source": [
        "##Implement Linear Regression "
      ],
      "metadata": {
        "id": "T0cTia5jvfsO"
      }
    },
    {
      "cell_type": "code",
      "source": [
        "# Select the independent variables and target variable\n",
        "X = df[['Item Type', 'Sales Channel', 'Order Priority', 'Units Sold', 'Unit Price', 'Unit Cost', 'Total Revenue', 'Total Cost', 'Order Month', 'Order Year']]\n",
        "y = df['Total Profit']"
      ],
      "metadata": {
        "id": "hQIog3a0TD_s"
      },
      "execution_count": 122,
      "outputs": []
    },
    {
      "cell_type": "code",
      "source": [
        "# Split the data into training and testing sets\n",
        "from sklearn.model_selection import train_test_split\n",
        "X_train, X_test, y_train, y_test = train_test_split(X, y, test_size=0.3, random_state=42)"
      ],
      "metadata": {
        "id": "8DCZx9PaWT-N"
      },
      "execution_count": 123,
      "outputs": []
    },
    {
      "cell_type": "code",
      "source": [
        "# Standardizing the dataset \n",
        "from sklearn.preprocessing import StandardScaler\n",
        "scaler = StandardScaler()"
      ],
      "metadata": {
        "id": "6eLWyqI6WjtV"
      },
      "execution_count": 124,
      "outputs": []
    },
    {
      "cell_type": "code",
      "source": [
        "# Performing fit transform on X_train dataframe \n",
        "X_train = scaler.fit_transform(X_train)"
      ],
      "metadata": {
        "id": "t4IP8ymHlU7b"
      },
      "execution_count": 125,
      "outputs": []
    },
    {
      "cell_type": "code",
      "source": [
        "# Performing transform on X_test dataframe \n",
        "X_test = scaler.transform(X_test)"
      ],
      "metadata": {
        "id": "GVyHxLoDlyeu"
      },
      "execution_count": 126,
      "outputs": []
    },
    {
      "cell_type": "code",
      "source": [
        "# Applying Linear Regression on X_train and y_train\n",
        "from sklearn.linear_model import LinearRegression\n",
        "from sklearn.model_selection import cross_val_score\n",
        "regression = LinearRegression()\n",
        "regression.fit(X_train,y_train)"
      ],
      "metadata": {
        "id": "v-lVneLsl7kN",
        "colab": {
          "base_uri": "https://localhost:8080/",
          "height": 75
        },
        "outputId": "966e106e-6ced-4152-d7f2-cf26a3d50318"
      },
      "execution_count": 127,
      "outputs": [
        {
          "output_type": "execute_result",
          "data": {
            "text/plain": [
              "LinearRegression()"
            ],
            "text/html": [
              "<style>#sk-container-id-4 {color: black;background-color: white;}#sk-container-id-4 pre{padding: 0;}#sk-container-id-4 div.sk-toggleable {background-color: white;}#sk-container-id-4 label.sk-toggleable__label {cursor: pointer;display: block;width: 100%;margin-bottom: 0;padding: 0.3em;box-sizing: border-box;text-align: center;}#sk-container-id-4 label.sk-toggleable__label-arrow:before {content: \"▸\";float: left;margin-right: 0.25em;color: #696969;}#sk-container-id-4 label.sk-toggleable__label-arrow:hover:before {color: black;}#sk-container-id-4 div.sk-estimator:hover label.sk-toggleable__label-arrow:before {color: black;}#sk-container-id-4 div.sk-toggleable__content {max-height: 0;max-width: 0;overflow: hidden;text-align: left;background-color: #f0f8ff;}#sk-container-id-4 div.sk-toggleable__content pre {margin: 0.2em;color: black;border-radius: 0.25em;background-color: #f0f8ff;}#sk-container-id-4 input.sk-toggleable__control:checked~div.sk-toggleable__content {max-height: 200px;max-width: 100%;overflow: auto;}#sk-container-id-4 input.sk-toggleable__control:checked~label.sk-toggleable__label-arrow:before {content: \"▾\";}#sk-container-id-4 div.sk-estimator input.sk-toggleable__control:checked~label.sk-toggleable__label {background-color: #d4ebff;}#sk-container-id-4 div.sk-label input.sk-toggleable__control:checked~label.sk-toggleable__label {background-color: #d4ebff;}#sk-container-id-4 input.sk-hidden--visually {border: 0;clip: rect(1px 1px 1px 1px);clip: rect(1px, 1px, 1px, 1px);height: 1px;margin: -1px;overflow: hidden;padding: 0;position: absolute;width: 1px;}#sk-container-id-4 div.sk-estimator {font-family: monospace;background-color: #f0f8ff;border: 1px dotted black;border-radius: 0.25em;box-sizing: border-box;margin-bottom: 0.5em;}#sk-container-id-4 div.sk-estimator:hover {background-color: #d4ebff;}#sk-container-id-4 div.sk-parallel-item::after {content: \"\";width: 100%;border-bottom: 1px solid gray;flex-grow: 1;}#sk-container-id-4 div.sk-label:hover label.sk-toggleable__label {background-color: #d4ebff;}#sk-container-id-4 div.sk-serial::before {content: \"\";position: absolute;border-left: 1px solid gray;box-sizing: border-box;top: 0;bottom: 0;left: 50%;z-index: 0;}#sk-container-id-4 div.sk-serial {display: flex;flex-direction: column;align-items: center;background-color: white;padding-right: 0.2em;padding-left: 0.2em;position: relative;}#sk-container-id-4 div.sk-item {position: relative;z-index: 1;}#sk-container-id-4 div.sk-parallel {display: flex;align-items: stretch;justify-content: center;background-color: white;position: relative;}#sk-container-id-4 div.sk-item::before, #sk-container-id-4 div.sk-parallel-item::before {content: \"\";position: absolute;border-left: 1px solid gray;box-sizing: border-box;top: 0;bottom: 0;left: 50%;z-index: -1;}#sk-container-id-4 div.sk-parallel-item {display: flex;flex-direction: column;z-index: 1;position: relative;background-color: white;}#sk-container-id-4 div.sk-parallel-item:first-child::after {align-self: flex-end;width: 50%;}#sk-container-id-4 div.sk-parallel-item:last-child::after {align-self: flex-start;width: 50%;}#sk-container-id-4 div.sk-parallel-item:only-child::after {width: 0;}#sk-container-id-4 div.sk-dashed-wrapped {border: 1px dashed gray;margin: 0 0.4em 0.5em 0.4em;box-sizing: border-box;padding-bottom: 0.4em;background-color: white;}#sk-container-id-4 div.sk-label label {font-family: monospace;font-weight: bold;display: inline-block;line-height: 1.2em;}#sk-container-id-4 div.sk-label-container {text-align: center;}#sk-container-id-4 div.sk-container {/* jupyter's `normalize.less` sets `[hidden] { display: none; }` but bootstrap.min.css set `[hidden] { display: none !important; }` so we also need the `!important` here to be able to override the default hidden behavior on the sphinx rendered scikit-learn.org. See: https://github.com/scikit-learn/scikit-learn/issues/21755 */display: inline-block !important;position: relative;}#sk-container-id-4 div.sk-text-repr-fallback {display: none;}</style><div id=\"sk-container-id-4\" class=\"sk-top-container\"><div class=\"sk-text-repr-fallback\"><pre>LinearRegression()</pre><b>In a Jupyter environment, please rerun this cell to show the HTML representation or trust the notebook. <br />On GitHub, the HTML representation is unable to render, please try loading this page with nbviewer.org.</b></div><div class=\"sk-container\" hidden><div class=\"sk-item\"><div class=\"sk-estimator sk-toggleable\"><input class=\"sk-toggleable__control sk-hidden--visually\" id=\"sk-estimator-id-4\" type=\"checkbox\" checked><label for=\"sk-estimator-id-4\" class=\"sk-toggleable__label sk-toggleable__label-arrow\">LinearRegression</label><div class=\"sk-toggleable__content\"><pre>LinearRegression()</pre></div></div></div></div></div>"
            ]
          },
          "metadata": {},
          "execution_count": 127
        }
      ]
    },
    {
      "cell_type": "code",
      "source": [
        "# Calculating mean squared error \n",
        "mse = cross_val_score(regression,X_train,y_train,scoring=\"neg_mean_squared_error\",cv=5)"
      ],
      "metadata": {
        "id": "NSdpboHBmPfm"
      },
      "execution_count": 128,
      "outputs": []
    },
    {
      "cell_type": "code",
      "source": [
        "np.mean(mse)"
      ],
      "metadata": {
        "colab": {
          "base_uri": "https://localhost:8080/"
        },
        "id": "DHYG3sb0mxII",
        "outputId": "c267d70a-4023-41c9-ed9a-7d7464be8788"
      },
      "execution_count": 129,
      "outputs": [
        {
          "output_type": "execute_result",
          "data": {
            "text/plain": [
              "-6.727059692031499e-19"
            ]
          },
          "metadata": {},
          "execution_count": 129
        }
      ]
    },
    {
      "cell_type": "code",
      "source": [
        "## prediction \n",
        "reg_pred = regression.predict(X_test)"
      ],
      "metadata": {
        "id": "xmXFfaDGm787"
      },
      "execution_count": 130,
      "outputs": []
    },
    {
      "cell_type": "code",
      "source": [
        "reg_pred"
      ],
      "metadata": {
        "colab": {
          "base_uri": "https://localhost:8080/"
        },
        "id": "j0NcHCZLnTq4",
        "outputId": "a0836261-12c4-4f72-8d8c-9f3ae64b9f3e"
      },
      "execution_count": 131,
      "outputs": [
        {
          "output_type": "execute_result",
          "data": {
            "text/plain": [
              "array([2.25246900e+05, 4.36446250e+05, 6.32512500e+05, 8.52235800e+04,\n",
              "       4.35499200e+05, 5.03358750e+05, 1.22686500e+05, 7.47939490e+05,\n",
              "       7.82812000e+03, 9.51410500e+05, 6.34745900e+05, 1.50588807e+06,\n",
              "       7.66835040e+05, 1.36727250e+06, 1.19685000e+05, 6.39077500e+05,\n",
              "       1.46875140e+05, 2.35601160e+05, 6.06834720e+05, 5.32525000e+04,\n",
              "       2.55718080e+05, 1.25802000e+03, 1.30091800e+04, 1.87545030e+05,\n",
              "       5.39196480e+05, 1.22865120e+05, 7.55559000e+04, 1.51034700e+04,\n",
              "       5.84073870e+05, 8.99040600e+04])"
            ]
          },
          "metadata": {},
          "execution_count": 131
        }
      ]
    },
    {
      "cell_type": "code",
      "source": [
        "# Creating kernel density estimate plot \n",
        "import seaborn as sns \n",
        "sns.displot(reg_pred - y_test,kind='kde', height=5, aspect=2)"
      ],
      "metadata": {
        "colab": {
          "base_uri": "https://localhost:8080/",
          "height": 386
        },
        "id": "xAQSwKAynVwY",
        "outputId": "714108f2-cd69-4a85-ca03-0e0b49ef246a"
      },
      "execution_count": 132,
      "outputs": [
        {
          "output_type": "execute_result",
          "data": {
            "text/plain": [
              "<seaborn.axisgrid.FacetGrid at 0x7fcc58b3cf70>"
            ]
          },
          "metadata": {},
          "execution_count": 132
        },
        {
          "output_type": "display_data",
          "data": {
            "text/plain": [
              "<Figure size 720x360 with 1 Axes>"
            ],
            "image/png": "[encoded data removed]"
          },
          "metadata": {
            "needs_background": "light"
          }
        }
      ]
    },
    {
      "cell_type": "code",
      "source": [
        "# Finding Accuracy percentage on the bases of r2 score \n",
        "from sklearn.metrics import r2_score\n",
        "score = r2_score(reg_pred,y_test)\n",
        "\n",
        "# Calculate the percentage of accuracy\n",
        "accuracy_pct = score * 100\n",
        "\n",
        "print(\"Accuracy: {:.2f}%\".format(accuracy_pct))\n",
        "\n",
        "# SVM AND LR to apply "
      ],
      "metadata": {
        "id": "61vLWQTVnhZ4",
        "colab": {
          "base_uri": "https://localhost:8080/"
        },
        "outputId": "ab2a20b2-5b71-45ee-cbcb-a7313d6f4f8e"
      },
      "execution_count": 133,
      "outputs": [
        {
          "output_type": "stream",
          "name": "stdout",
          "text": [
            "Accuracy: 100.00%\n"
          ]
        }
      ]
    },
    {
      "cell_type": "code",
      "source": [
        "# Plot the predicted values against the actual values to visualize how well the model is fitting the data.\n",
        "import matplotlib.pyplot as plt\n",
        "\n",
        "plt.scatter(y_test, reg_pred)\n",
        "plt.xlabel('Actual Values')\n",
        "plt.ylabel('Predicted Values')\n",
        "plt.show()"
      ],
      "metadata": {
        "colab": {
          "base_uri": "https://localhost:8080/",
          "height": 299
        },
        "id": "KLEi-962odFp",
        "outputId": "4bff9130-5587-4d39-b0d7-ca384e74dcfa"
      },
      "execution_count": 134,
      "outputs": [
        {
          "output_type": "display_data",
          "data": {
            "text/plain": [
              "<Figure size 432x288 with 1 Axes>"
            ],
            "image/png": "[encoded data removed]"
          },
          "metadata": {
            "needs_background": "light"
          }
        }
      ]
    },
    {
      "cell_type": "code",
      "source": [
        "# Calculate the mean squared error (MSE) or root mean squared error (RMSE) to quantify the model's performance.\n",
        "\n",
        "from sklearn.metrics import mean_squared_error\n",
        "import numpy as np\n",
        "\n",
        "mse = mean_squared_error(y_test, reg_pred)\n",
        "rmse = np.sqrt(mse)\n",
        "print('MSE:', mse)\n",
        "print('RMSE:', rmse)"
      ],
      "metadata": {
        "colab": {
          "base_uri": "https://localhost:8080/"
        },
        "id": "8ocZHshMpFzz",
        "outputId": "47381fc3-9f5a-44f7-83ec-2023790f862e"
      },
      "execution_count": 135,
      "outputs": [
        {
          "output_type": "stream",
          "name": "stdout",
          "text": [
            "MSE: 4.2851929643772975e-19\n",
            "RMSE: 6.546138529222627e-10\n"
          ]
        }
      ]
    },
    {
      "cell_type": "code",
      "source": [
        "import plotly.graph_objs as go\n",
        "import pandas as pd\n",
        "from sklearn.linear_model import LinearRegression\n",
        "\n",
        "# Create a linear regression model\n",
        "reg = LinearRegression()\n",
        "\n",
        "# Fit the model to the training data\n",
        "reg.fit(X_train, y_train)\n",
        "\n",
        "# Make predictions on the test set\n",
        "y_pred = reg.predict(X_test)\n",
        "\n",
        "# Calculate the R-squared score\n",
        "r2 = reg.score(X_test, y_test)\n",
        "\n",
        "# Create a copy of the X_train numpy array with modified column names\n",
        "X_train_df = pd.DataFrame(X_train, columns=['Item Type', 'Sales Channel', 'Order Priority', 'Units Sold', 'Unit Price', 'Unit Cost', 'Total Revenue', 'Total Cost', 'Order Month', 'Order Year'])\n",
        "\n",
        "# Extract the coefficients of the linear regression model\n",
        "coef = reg.coef_\n",
        "\n",
        "# Create a DataFrame with the coefficients and feature names\n",
        "feature_importances = pd.DataFrame({'Feature': X_train_df.columns, 'Importance': coef})\n",
        "\n",
        "# Sort the DataFrame by importance\n",
        "feature_importances = feature_importances.sort_values('Importance', ascending=False)\n",
        "\n",
        "# Create a bar chart of the feature importances using Plotly\n",
        "fig = go.Figure()\n",
        "fig.add_trace(go.Bar(x=feature_importances['Feature'], y=feature_importances['Importance']))\n",
        "fig.update_layout(title='Feature Importance (R-squared = {:.2f})'.format(r2),\n",
        "                  xaxis_title='Feature',\n",
        "                  yaxis_title='Importance',\n",
        "                  xaxis_tickangle=-45)\n",
        "fig.show()\n"
      ],
      "metadata": {
        "id": "9RlSuMJW1Lsw",
        "colab": {
          "base_uri": "https://localhost:8080/",
          "height": 542
        },
        "outputId": "713811fa-3a3d-40a1-e49e-565ae84387bd"
      },
      "execution_count": 136,
      "outputs": [
        {
          "output_type": "display_data",
          "data": {
            "text/html": [
              "<html>\n",
              "<head><meta charset=\"utf-8\" /></head>\n",
              "<body>\n",
              "    <div>            <script src=\"https://cdnjs.cloudflare.com/ajax/libs/mathjax/2.7.5/MathJax.js?config=TeX-AMS-MML_SVG\"></script><script type=\"text/javascript\">if (window.MathJax) {MathJax.Hub.Config({SVG: {font: \"STIX-Web\"}});}</script>                <script type=\"text/javascript\">window.PlotlyConfig = {MathJaxConfig: 'local'};</script>\n",
              "        <script src=\"https://cdn.plot.ly/plotly-2.8.3.min.js\"></script>                <div id=\"bd1fa04f-cbcb-4dd2-a417-ccba10c8faac\" class=\"plotly-graph-div\" style=\"height:525px; width:100%;\"></div>            <script type=\"text/javascript\">                                    window.PLOTLYENV=window.PLOTLYENV || {};                                    if (document.getElementById(\"bd1fa04f-cbcb-4dd2-a417-ccba10c8faac\")) {                    Plotly.newPlot(                        \"bd1fa04f-cbcb-4dd2-a417-ccba10c8faac\",                        [{\"x\":[\"Total Revenue\",\"Unit Price\",\"Sales Channel\",\"Units Sold\",\"Item Type\",\"Order Year\",\"Order Month\",\"Order Priority\",\"Unit Cost\",\"Total Cost\"],\"y\":[1475037.0728194127,1.2769305612891912e-9,3.92901711165905e-10,-2.1827872842550278e-11,-3.3418128382599504e-11,-2.219167072325945e-10,-2.396518539171666e-10,-2.837623469531536e-10,-1.1859810911118984e-9,-1083510.6938102075],\"type\":\"bar\"}],                        {\"template\":{\"data\":{\"bar\":[{\"error_x\":{\"color\":\"#2a3f5f\"},\"error_y\":{\"color\":\"#2a3f5f\"},\"marker\":{\"line\":{\"color\":\"#E5ECF6\",\"width\":0.5},\"pattern\":{\"fillmode\":\"overlay\",\"size\":10,\"solidity\":0.2}},\"type\":\"bar\"}],\"barpolar\":[{\"marker\":{\"line\":{\"color\":\"#E5ECF6\",\"width\":0.5},\"pattern\":{\"fillmode\":\"overlay\",\"size\":10,\"solidity\":0.2}},\"type\":\"barpolar\"}],\"carpet\":[{\"aaxis\":{\"endlinecolor\":\"#2a3f5f\",\"gridcolor\":\"white\",\"linecolor\":\"white\",\"minorgridcolor\":\"white\",\"startlinecolor\":\"#2a3f5f\"},\"baxis\":{\"endlinecolor\":\"#2a3f5f\",\"gridcolor\":\"white\",\"linecolor\":\"white\",\"minorgridcolor\":\"white\",\"startlinecolor\":\"#2a3f5f\"},\"type\":\"carpet\"}],\"choropleth\":[{\"colorbar\":{\"outlinewidth\":0,\"ticks\":\"\"},\"type\":\"choropleth\"}],\"contour\":[{\"colorbar\":{\"outlinewidth\":0,\"ticks\":\"\"},\"colorscale\":[[0.0,\"#0d0887\"],[0.1111111111111111,\"#46039f\"],[0.2222222222222222,\"#7201a8\"],[0.3333333333333333,\"#9c179e\"],[0.4444444444444444,\"#bd3786\"],[0.5555555555555556,\"#d8576b\"],[0.6666666666666666,\"#ed7953\"],[0.7777777777777778,\"#fb9f3a\"],[0.8888888888888888,\"#fdca26\"],[1.0,\"#f0f921\"]],\"type\":\"contour\"}],\"contourcarpet\":[{\"colorbar\":{\"outlinewidth\":0,\"ticks\":\"\"},\"type\":\"contourcarpet\"}],\"heatmap\":[{\"colorbar\":{\"outlinewidth\":0,\"ticks\":\"\"},\"colorscale\":[[0.0,\"#0d0887\"],[0.1111111111111111,\"#46039f\"],[0.2222222222222222,\"#7201a8\"],[0.3333333333333333,\"#9c179e\"],[0.4444444444444444,\"#bd3786\"],[0.5555555555555556,\"#d8576b\"],[0.6666666666666666,\"#ed7953\"],[0.7777777777777778,\"#fb9f3a\"],[0.8888888888888888,\"#fdca26\"],[1.0,\"#f0f921\"]],\"type\":\"heatmap\"}],\"heatmapgl\":[{\"colorbar\":{\"outlinewidth\":0,\"ticks\":\"\"},\"colorscale\":[[0.0,\"#0d0887\"],[0.1111111111111111,\"#46039f\"],[0.2222222222222222,\"#7201a8\"],[0.3333333333333333,\"#9c179e\"],[0.4444444444444444,\"#bd3786\"],[0.5555555555555556,\"#d8576b\"],[0.6666666666666666,\"#ed7953\"],[0.7777777777777778,\"#fb9f3a\"],[0.8888888888888888,\"#fdca26\"],[1.0,\"#f0f921\"]],\"type\":\"heatmapgl\"}],\"histogram\":[{\"marker\":{\"pattern\":{\"fillmode\":\"overlay\",\"size\":10,\"solidity\":0.2}},\"type\":\"histogram\"}],\"histogram2d\":[{\"colorbar\":{\"outlinewidth\":0,\"ticks\":\"\"},\"colorscale\":[[0.0,\"#0d0887\"],[0.1111111111111111,\"#46039f\"],[0.2222222222222222,\"#7201a8\"],[0.3333333333333333,\"#9c179e\"],[0.4444444444444444,\"#bd3786\"],[0.5555555555555556,\"#d8576b\"],[0.6666666666666666,\"#ed7953\"],[0.7777777777777778,\"#fb9f3a\"],[0.8888888888888888,\"#fdca26\"],[1.0,\"#f0f921\"]],\"type\":\"histogram2d\"}],\"histogram2dcontour\":[{\"colorbar\":{\"outlinewidth\":0,\"ticks\":\"\"},\"colorscale\":[[0.0,\"#0d0887\"],[0.1111111111111111,\"#46039f\"],[0.2222222222222222,\"#7201a8\"],[0.3333333333333333,\"#9c179e\"],[0.4444444444444444,\"#bd3786\"],[0.5555555555555556,\"#d8576b\"],[0.6666666666666666,\"#ed7953\"],[0.7777777777777778,\"#fb9f3a\"],[0.8888888888888888,\"#fdca26\"],[1.0,\"#f0f921\"]],\"type\":\"histogram2dcontour\"}],\"mesh3d\":[{\"colorbar\":{\"outlinewidth\":0,\"ticks\":\"\"},\"type\":\"mesh3d\"}],\"parcoords\":[{\"line\":{\"colorbar\":{\"outlinewidth\":0,\"ticks\":\"\"}},\"type\":\"parcoords\"}],\"pie\":[{\"automargin\":true,\"type\":\"pie\"}],\"scatter\":[{\"marker\":{\"colorbar\":{\"outlinewidth\":0,\"ticks\":\"\"}},\"type\":\"scatter\"}],\"scatter3d\":[{\"line\":{\"colorbar\":{\"outlinewidth\":0,\"ticks\":\"\"}},\"marker\":{\"colorbar\":{\"outlinewidth\":0,\"ticks\":\"\"}},\"type\":\"scatter3d\"}],\"scattercarpet\":[{\"marker\":{\"colorbar\":{\"outlinewidth\":0,\"ticks\":\"\"}},\"type\":\"scattercarpet\"}],\"scattergeo\":[{\"marker\":{\"colorbar\":{\"outlinewidth\":0,\"ticks\":\"\"}},\"type\":\"scattergeo\"}],\"scattergl\":[{\"marker\":{\"colorbar\":{\"outlinewidth\":0,\"ticks\":\"\"}},\"type\":\"scattergl\"}],\"scattermapbox\":[{\"marker\":{\"colorbar\":{\"outlinewidth\":0,\"ticks\":\"\"}},\"type\":\"scattermapbox\"}],\"scatterpolar\":[{\"marker\":{\"colorbar\":{\"outlinewidth\":0,\"ticks\":\"\"}},\"type\":\"scatterpolar\"}],\"scatterpolargl\":[{\"marker\":{\"colorbar\":{\"outlinewidth\":0,\"ticks\":\"\"}},\"type\":\"scatterpolargl\"}],\"scatterternary\":[{\"marker\":{\"colorbar\":{\"outlinewidth\":0,\"ticks\":\"\"}},\"type\":\"scatterternary\"}],\"surface\":[{\"colorbar\":{\"outlinewidth\":0,\"ticks\":\"\"},\"colorscale\":[[0.0,\"#0d0887\"],[0.1111111111111111,\"#46039f\"],[0.2222222222222222,\"#7201a8\"],[0.3333333333333333,\"#9c179e\"],[0.4444444444444444,\"#bd3786\"],[0.5555555555555556,\"#d8576b\"],[0.6666666666666666,\"#ed7953\"],[0.7777777777777778,\"#fb9f3a\"],[0.8888888888888888,\"#fdca26\"],[1.0,\"#f0f921\"]],\"type\":\"surface\"}],\"table\":[{\"cells\":{\"fill\":{\"color\":\"#EBF0F8\"},\"line\":{\"color\":\"white\"}},\"header\":{\"fill\":{\"color\":\"#C8D4E3\"},\"line\":{\"color\":\"white\"}},\"type\":\"table\"}]},\"layout\":{\"annotationdefaults\":{\"arrowcolor\":\"#2a3f5f\",\"arrowhead\":0,\"arrowwidth\":1},\"autotypenumbers\":\"strict\",\"coloraxis\":{\"colorbar\":{\"outlinewidth\":0,\"ticks\":\"\"}},\"colorscale\":{\"diverging\":[[0,\"#8e0152\"],[0.1,\"#c51b7d\"],[0.2,\"#de77ae\"],[0.3,\"#f1b6da\"],[0.4,\"#fde0ef\"],[0.5,\"#f7f7f7\"],[0.6,\"#e6f5d0\"],[0.7,\"#b8e186\"],[0.8,\"#7fbc41\"],[0.9,\"#4d9221\"],[1,\"#276419\"]],\"sequential\":[[0.0,\"#0d0887\"],[0.1111111111111111,\"#46039f\"],[0.2222222222222222,\"#7201a8\"],[0.3333333333333333,\"#9c179e\"],[0.4444444444444444,\"#bd3786\"],[0.5555555555555556,\"#d8576b\"],[0.6666666666666666,\"#ed7953\"],[0.7777777777777778,\"#fb9f3a\"],[0.8888888888888888,\"#fdca26\"],[1.0,\"#f0f921\"]],\"sequentialminus\":[[0.0,\"#0d0887\"],[0.1111111111111111,\"#46039f\"],[0.2222222222222222,\"#7201a8\"],[0.3333333333333333,\"#9c179e\"],[0.4444444444444444,\"#bd3786\"],[0.5555555555555556,\"#d8576b\"],[0.6666666666666666,\"#ed7953\"],[0.7777777777777778,\"#fb9f3a\"],[0.8888888888888888,\"#fdca26\"],[1.0,\"#f0f921\"]]},\"colorway\":[\"#636efa\",\"#EF553B\",\"#00cc96\",\"#ab63fa\",\"#FFA15A\",\"#19d3f3\",\"#FF6692\",\"#B6E880\",\"#FF97FF\",\"#FECB52\"],\"font\":{\"color\":\"#2a3f5f\"},\"geo\":{\"bgcolor\":\"white\",\"lakecolor\":\"white\",\"landcolor\":\"#E5ECF6\",\"showlakes\":true,\"showland\":true,\"subunitcolor\":\"white\"},\"hoverlabel\":{\"align\":\"left\"},\"hovermode\":\"closest\",\"mapbox\":{\"style\":\"light\"},\"paper_bgcolor\":\"white\",\"plot_bgcolor\":\"#E5ECF6\",\"polar\":{\"angularaxis\":{\"gridcolor\":\"white\",\"linecolor\":\"white\",\"ticks\":\"\"},\"bgcolor\":\"#E5ECF6\",\"radialaxis\":{\"gridcolor\":\"white\",\"linecolor\":\"white\",\"ticks\":\"\"}},\"scene\":{\"xaxis\":{\"backgroundcolor\":\"#E5ECF6\",\"gridcolor\":\"white\",\"gridwidth\":2,\"linecolor\":\"white\",\"showbackground\":true,\"ticks\":\"\",\"zerolinecolor\":\"white\"},\"yaxis\":{\"backgroundcolor\":\"#E5ECF6\",\"gridcolor\":\"white\",\"gridwidth\":2,\"linecolor\":\"white\",\"showbackground\":true,\"ticks\":\"\",\"zerolinecolor\":\"white\"},\"zaxis\":{\"backgroundcolor\":\"#E5ECF6\",\"gridcolor\":\"white\",\"gridwidth\":2,\"linecolor\":\"white\",\"showbackground\":true,\"ticks\":\"\",\"zerolinecolor\":\"white\"}},\"shapedefaults\":{\"line\":{\"color\":\"#2a3f5f\"}},\"ternary\":{\"aaxis\":{\"gridcolor\":\"white\",\"linecolor\":\"white\",\"ticks\":\"\"},\"baxis\":{\"gridcolor\":\"white\",\"linecolor\":\"white\",\"ticks\":\"\"},\"bgcolor\":\"#E5ECF6\",\"caxis\":{\"gridcolor\":\"white\",\"linecolor\":\"white\",\"ticks\":\"\"}},\"title\":{\"x\":0.05},\"xaxis\":{\"automargin\":true,\"gridcolor\":\"white\",\"linecolor\":\"white\",\"ticks\":\"\",\"title\":{\"standoff\":15},\"zerolinecolor\":\"white\",\"zerolinewidth\":2},\"yaxis\":{\"automargin\":true,\"gridcolor\":\"white\",\"linecolor\":\"white\",\"ticks\":\"\",\"title\":{\"standoff\":15},\"zerolinecolor\":\"white\",\"zerolinewidth\":2}}},\"xaxis\":{\"title\":{\"text\":\"Feature\"},\"tickangle\":-45},\"title\":{\"text\":\"Feature Importance (R-squared = 1.00)\"},\"yaxis\":{\"title\":{\"text\":\"Importance\"}}},                        {\"responsive\": true}                    ).then(function(){\n",
              "                            \n",
              "var gd = document.getElementById('bd1fa04f-cbcb-4dd2-a417-ccba10c8faac');\n",
              "var x = new MutationObserver(function (mutations, observer) {{\n",
              "        var display = window.getComputedStyle(gd).display;\n",
              "        if (!display || display === 'none') {{\n",
              "            console.log([gd, 'removed!']);\n",
              "            Plotly.purge(gd);\n",
              "            observer.disconnect();\n",
              "        }}\n",
              "}});\n",
              "\n",
              "// Listen for the removal of the full notebook cells\n",
              "var notebookContainer = gd.closest('#notebook-container');\n",
              "if (notebookContainer) {{\n",
              "    x.observe(notebookContainer, {childList: true});\n",
              "}}\n",
              "\n",
              "// Listen for the clearing of the current output cell\n",
              "var outputEl = gd.closest('.output');\n",
              "if (outputEl) {{\n",
              "    x.observe(outputEl, {childList: true});\n",
              "}}\n",
              "\n",
              "                        })                };                            </script>        </div>\n",
              "</body>\n",
              "</html>"
            ]
          },
          "metadata": {}
        }
      ]
    }
  ]
}